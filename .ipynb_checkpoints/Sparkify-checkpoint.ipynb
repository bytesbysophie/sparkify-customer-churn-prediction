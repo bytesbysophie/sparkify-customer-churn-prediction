{
 "cells": [
  {
   "cell_type": "markdown",
   "metadata": {},
   "source": [
    "# Sparkify Project Workspace\n",
    "This workspace contains a tiny subset (128MB) of the full dataset available (12GB). Feel free to use this workspace to build your project, or to explore a smaller subset with Spark before deploying your cluster on the cloud. Instructions for setting up your Spark cluster is included in the last lesson of the Extracurricular Spark Course content.\n",
    "\n",
    "You can follow the steps below to guide your data analysis and model building portion of this project."
   ]
  },
  {
   "cell_type": "code",
   "execution_count": 75,
   "metadata": {},
   "outputs": [],
   "source": [
    "# import libraries\n",
    "from pyspark.sql import SparkSession\n",
    "from pyspark.sql.functions import isnan, count, when, col, desc, udf, col, sort_array, asc, avg, lit, countDistinct, isnull\n",
    "from pyspark.sql.functions import sum as Fsum\n",
    "from pyspark.sql.functions import max as Fmax\n",
    "from pyspark.sql.window import Window\n",
    "from pyspark.sql.types import IntegerType, DateType, StringType, FloatType, TimestampType\n",
    "from pyspark.ml.feature import StringIndexer, OneHotEncoder, VectorAssembler, CountVectorizer\n",
    "from pyspark.ml import Pipeline\n",
    "\n",
    "import datetime\n",
    "import pandas as pd\n",
    "import matplotlib.pyplot as plt\n",
    "from pandas.plotting import register_matplotlib_converters\n",
    "import seaborn as sns \n",
    "from user_agents import parse\n",
    "\n",
    "register_matplotlib_converters()\n",
    "%matplotlib inline\n",
    "sns.set()"
   ]
  },
  {
   "cell_type": "code",
   "execution_count": 4,
   "metadata": {},
   "outputs": [],
   "source": [
    "# Create the spark session\n",
    "spark = SparkSession \\\n",
    "    .builder \\\n",
    "    .appName(\"Sparkify\") \\\n",
    "    .getOrCreate()"
   ]
  },
  {
   "cell_type": "markdown",
   "metadata": {},
   "source": [
    "# Load and Clean Dataset\n",
    "Load the `mini_sparkify_event_data.json` and clean the dataset from invalid/ missing data."
   ]
  },
  {
   "cell_type": "code",
   "execution_count": 5,
   "metadata": {},
   "outputs": [
    {
     "name": "stdout",
     "output_type": "stream",
     "text": [
      "+----------------+---------+---------+------+-------------+--------+---------+-----+--------------------+------+--------+-------------+---------+--------------------+------+-------------+--------------------+------+\n",
      "|          artist|     auth|firstName|gender|itemInSession|lastName|   length|level|            location|method|    page| registration|sessionId|                song|status|           ts|           userAgent|userId|\n",
      "+----------------+---------+---------+------+-------------+--------+---------+-----+--------------------+------+--------+-------------+---------+--------------------+------+-------------+--------------------+------+\n",
      "|  Martha Tilston|Logged In|    Colin|     M|           50| Freeman|277.89016| paid|     Bakersfield, CA|   PUT|NextSong|1538173362000|       29|           Rockpools|   200|1538352117000|Mozilla/5.0 (Wind...|    30|\n",
      "|Five Iron Frenzy|Logged In|    Micah|     M|           79|    Long|236.09424| free|Boston-Cambridge-...|   PUT|NextSong|1538331630000|        8|              Canada|   200|1538352180000|\"Mozilla/5.0 (Win...|     9|\n",
      "|    Adam Lambert|Logged In|    Colin|     M|           51| Freeman| 282.8273| paid|     Bakersfield, CA|   PUT|NextSong|1538173362000|       29|   Time For Miracles|   200|1538352394000|Mozilla/5.0 (Wind...|    30|\n",
      "|          Enigma|Logged In|    Micah|     M|           80|    Long|262.71302| free|Boston-Cambridge-...|   PUT|NextSong|1538331630000|        8|Knocking On Forbi...|   200|1538352416000|\"Mozilla/5.0 (Win...|     9|\n",
      "|       Daft Punk|Logged In|    Colin|     M|           52| Freeman|223.60771| paid|     Bakersfield, CA|   PUT|NextSong|1538173362000|       29|Harder Better Fas...|   200|1538352676000|Mozilla/5.0 (Wind...|    30|\n",
      "+----------------+---------+---------+------+-------------+--------+---------+-----+--------------------+------+--------+-------------+---------+--------------------+------+-------------+--------------------+------+\n",
      "only showing top 5 rows\n",
      "\n"
     ]
    }
   ],
   "source": [
    "# Load the dataset\n",
    "events = spark.read.json(\"mini_sparkify_event_data.json\")\n",
    "events.show(5)"
   ]
  },
  {
   "cell_type": "code",
   "execution_count": 6,
   "metadata": {},
   "outputs": [
    {
     "name": "stdout",
     "output_type": "stream",
     "text": [
      "root\n",
      " |-- artist: string (nullable = true)\n",
      " |-- auth: string (nullable = true)\n",
      " |-- firstName: string (nullable = true)\n",
      " |-- gender: string (nullable = true)\n",
      " |-- itemInSession: long (nullable = true)\n",
      " |-- lastName: string (nullable = true)\n",
      " |-- length: double (nullable = true)\n",
      " |-- level: string (nullable = true)\n",
      " |-- location: string (nullable = true)\n",
      " |-- method: string (nullable = true)\n",
      " |-- page: string (nullable = true)\n",
      " |-- registration: long (nullable = true)\n",
      " |-- sessionId: long (nullable = true)\n",
      " |-- song: string (nullable = true)\n",
      " |-- status: long (nullable = true)\n",
      " |-- ts: long (nullable = true)\n",
      " |-- userAgent: string (nullable = true)\n",
      " |-- userId: string (nullable = true)\n",
      "\n"
     ]
    }
   ],
   "source": [
    "# Evaluate table schema\n",
    "events.printSchema()"
   ]
  },
  {
   "cell_type": "code",
   "execution_count": 7,
   "metadata": {},
   "outputs": [
    {
     "name": "stdout",
     "output_type": "stream",
     "text": [
      "Events with missing userId: 8346\n"
     ]
    }
   ],
   "source": [
    "# Check for entries with missing userId\n",
    "print(\"Events with missing userId: {}\".format(events.filter(\"userId is Null or userId == ''\").count()))"
   ]
  },
  {
   "cell_type": "code",
   "execution_count": 8,
   "metadata": {},
   "outputs": [
    {
     "name": "stdout",
     "output_type": "stream",
     "text": [
      "+----------+\n",
      "|      auth|\n",
      "+----------+\n",
      "|Logged Out|\n",
      "|     Guest|\n",
      "+----------+\n",
      "\n"
     ]
    }
   ],
   "source": [
    "# Investigate auth status of users with missing userId\n",
    "events.filter(\"userId is Null or userId == ''\").select('auth').distinct().show()"
   ]
  },
  {
   "cell_type": "code",
   "execution_count": 9,
   "metadata": {},
   "outputs": [
    {
     "name": "stdout",
     "output_type": "stream",
     "text": [
      "+------+\n",
      "|userId|\n",
      "+------+\n",
      "|      |\n",
      "+------+\n",
      "\n"
     ]
    }
   ],
   "source": [
    "# Check, if userId is missing for all entries with the above auth status\n",
    "events.filter(\"auth in ('Logged Out','Guest')\").select('userId').distinct().show()"
   ]
  },
  {
   "cell_type": "code",
   "execution_count": 10,
   "metadata": {},
   "outputs": [
    {
     "name": "stdout",
     "output_type": "stream",
     "text": [
      "Entries with missing userId: 0\n"
     ]
    }
   ],
   "source": [
    "# Remove entries for logged out and guest users\n",
    "events = events.filter(\"auth not in ('Logged Out', 'Guest')\")\n",
    "print(\"Entries with missing userId: {}\".format(events.filter(\"userId is Null or userId == ''\").count()))"
   ]
  },
  {
   "cell_type": "code",
   "execution_count": 11,
   "metadata": {},
   "outputs": [
    {
     "name": "stdout",
     "output_type": "stream",
     "text": [
      "Entries with missing sessionId: 0\n"
     ]
    }
   ],
   "source": [
    "# Check for entries with missing sessionId\n",
    "print(\"Entries with missing sessionId: {}\".format(events.filter(\"sessionId is Null or sessionId == ''\").count()))"
   ]
  },
  {
   "cell_type": "code",
   "execution_count": 12,
   "metadata": {},
   "outputs": [
    {
     "name": "stdout",
     "output_type": "stream",
     "text": [
      "Entries with missing ts: 0\n"
     ]
    }
   ],
   "source": [
    "# Check for entries with missing ts (timestamp)\n",
    "print(\"Entries with missing ts: {}\".format(events.filter(\"ts is Null or ts == ''\").count()))"
   ]
  },
  {
   "cell_type": "code",
   "execution_count": 13,
   "metadata": {},
   "outputs": [
    {
     "name": "stdout",
     "output_type": "stream",
     "text": [
      "Entries with missing artist: 50046\n",
      "+------+---------+---------+------+-------------+--------+------+-----+--------------------+------+---------------+-------------+---------+----+------+-------------+--------------------+------+\n",
      "|artist|     auth|firstName|gender|itemInSession|lastName|length|level|            location|method|           page| registration|sessionId|song|status|           ts|           userAgent|userId|\n",
      "+------+---------+---------+------+-------------+--------+------+-----+--------------------+------+---------------+-------------+---------+----+------+-------------+--------------------+------+\n",
      "|  null|Logged In|    Colin|     M|           54| Freeman|  null| paid|     Bakersfield, CA|   PUT|Add to Playlist|1538173362000|       29|null|   200|1538352905000|Mozilla/5.0 (Wind...|    30|\n",
      "|  null|Logged In|    Micah|     M|           84|    Long|  null| free|Boston-Cambridge-...|   GET|    Roll Advert|1538331630000|        8|null|   200|1538353150000|\"Mozilla/5.0 (Win...|     9|\n",
      "|  null|Logged In|    Micah|     M|           86|    Long|  null| free|Boston-Cambridge-...|   PUT|      Thumbs Up|1538331630000|        8|null|   307|1538353376000|\"Mozilla/5.0 (Win...|     9|\n",
      "|  null|Logged In|    Alexi|     F|            4|  Warren|  null| paid|Spokane-Spokane V...|   GET|      Downgrade|1532482662000|       53|null|   200|1538354749000|Mozilla/5.0 (Wind...|    54|\n",
      "|  null|Logged In|    Alexi|     F|            7|  Warren|  null| paid|Spokane-Spokane V...|   PUT|      Thumbs Up|1532482662000|       53|null|   307|1538355255000|Mozilla/5.0 (Wind...|    54|\n",
      "|  null|Logged In|    Micah|     M|           95|    Long|  null| free|Boston-Cambridge-...|   PUT|    Thumbs Down|1538331630000|        8|null|   307|1538355306000|\"Mozilla/5.0 (Win...|     9|\n",
      "|  null|Logged In|    Micah|     M|           97|    Long|  null| free|Boston-Cambridge-...|   GET|           Home|1538331630000|        8|null|   200|1538355504000|\"Mozilla/5.0 (Win...|     9|\n",
      "|  null|Logged In|    Micah|     M|           99|    Long|  null| free|Boston-Cambridge-...|   PUT|         Logout|1538331630000|        8|null|   307|1538355687000|\"Mozilla/5.0 (Win...|     9|\n",
      "|  null|Logged In|  Ashlynn|     F|            9|Williams|  null| free|     Tallahassee, FL|   PUT|      Thumbs Up|1537365219000|      217|null|   307|1538355711000|\"Mozilla/5.0 (Mac...|    74|\n",
      "|  null|Logged In|    Micah|     M|          104|    Long|  null| free|Boston-Cambridge-...|   GET|           Home|1538331630000|        8|null|   200|1538355855000|\"Mozilla/5.0 (Win...|     9|\n",
      "|  null|Logged In|    Colin|     M|           71| Freeman|  null| paid|     Bakersfield, CA|   PUT|    Thumbs Down|1538173362000|       29|null|   307|1538356524000|Mozilla/5.0 (Wind...|    30|\n",
      "|  null|Logged In|   Warren|     M|            1|  Miller|  null| free|Baltimore-Columbi...|   PUT|         Logout|1538169823000|      240|null|   307|1538356651000|Mozilla/5.0 (Wind...|     4|\n",
      "|  null|Logged In|   Warren|     M|            4|  Miller|  null| free|Baltimore-Columbi...|   GET|           Home|1538169823000|      240|null|   200|1538356686000|Mozilla/5.0 (Wind...|     4|\n",
      "|  null|Logged In|  Ashlynn|     F|           15|Williams|  null| free|     Tallahassee, FL|   PUT|Add to Playlist|1537365219000|      217|null|   200|1538356816000|\"Mozilla/5.0 (Mac...|    74|\n",
      "|  null|Logged In|   Warren|     M|            6|  Miller|  null| free|Baltimore-Columbi...|   GET|           Home|1538169823000|      240|null|   200|1538356954000|Mozilla/5.0 (Wind...|     4|\n",
      "|  null|Logged In|  Ashlynn|     F|           18|Williams|  null| free|     Tallahassee, FL|   PUT|      Thumbs Up|1537365219000|      217|null|   307|1538357104000|\"Mozilla/5.0 (Mac...|    74|\n",
      "|  null|Logged In|    Micah|     M|          111|    Long|  null| free|Boston-Cambridge-...|   PUT|      Thumbs Up|1538331630000|        8|null|   307|1538357160000|\"Mozilla/5.0 (Win...|     9|\n",
      "|  null|Logged In|    Colin|     M|           77| Freeman|  null| paid|     Bakersfield, CA|   PUT|      Thumbs Up|1538173362000|       29|null|   307|1538357649000|Mozilla/5.0 (Wind...|    30|\n",
      "|  null|Logged In|  Ashlynn|     F|           22|Williams|  null| free|     Tallahassee, FL|   PUT|      Thumbs Up|1537365219000|      217|null|   307|1538357916000|\"Mozilla/5.0 (Mac...|    74|\n",
      "|  null|Logged In|    Colin|     M|           79| Freeman|  null| paid|     Bakersfield, CA|   PUT|      Thumbs Up|1538173362000|       29|null|   307|1538357991000|Mozilla/5.0 (Wind...|    30|\n",
      "+------+---------+---------+------+-------------+--------+------+-----+--------------------+------+---------------+-------------+---------+----+------+-------------+--------------------+------+\n",
      "only showing top 20 rows\n",
      "\n"
     ]
    }
   ],
   "source": [
    "# Check for entries with missing artist\n",
    "print(\"Entries with missing artist: {}\".format(events.filter(\"artist is Null or artist == ''\").count()))\n",
    "events.filter(\"artist is Null or artist == ''\").show()"
   ]
  },
  {
   "cell_type": "code",
   "execution_count": 14,
   "metadata": {},
   "outputs": [
    {
     "name": "stdout",
     "output_type": "stream",
     "text": [
      "+--------------------+\n",
      "|                page|\n",
      "+--------------------+\n",
      "|              Cancel|\n",
      "|    Submit Downgrade|\n",
      "|         Thumbs Down|\n",
      "|                Home|\n",
      "|           Downgrade|\n",
      "|         Roll Advert|\n",
      "|              Logout|\n",
      "|       Save Settings|\n",
      "|Cancellation Conf...|\n",
      "|               About|\n",
      "|            Settings|\n",
      "|     Add to Playlist|\n",
      "|          Add Friend|\n",
      "|           Thumbs Up|\n",
      "|                Help|\n",
      "|             Upgrade|\n",
      "|               Error|\n",
      "|      Submit Upgrade|\n",
      "+--------------------+\n",
      "\n"
     ]
    }
   ],
   "source": [
    "events.filter(\"artist is Null or artist == ''\").select('page').distinct().show()"
   ]
  },
  {
   "cell_type": "code",
   "execution_count": 15,
   "metadata": {},
   "outputs": [
    {
     "name": "stdout",
     "output_type": "stream",
     "text": [
      "+------+\n",
      "|gender|\n",
      "+------+\n",
      "|     F|\n",
      "|     M|\n",
      "+------+\n",
      "\n"
     ]
    }
   ],
   "source": [
    "# Check unique values of gender\n",
    "events.select('gender').distinct().show()"
   ]
  },
  {
   "cell_type": "markdown",
   "metadata": {},
   "source": [
    "**Conclusion Data Cleaning**\n",
    "\n",
    "* Events with the authentication \"Logged Out\" and \"Guest\" are not provided with a userId (empty) and therefor have been removed from the dataset.\n",
    "*Further more, 50046 events with missing artist could be identified. Those entries have been kept though, as they refernece different kinds of user interaction that may not be connected to a single artist (e.g. page == \"Upgrade\")."
   ]
  },
  {
   "cell_type": "markdown",
   "metadata": {},
   "source": [
    "# Exploratory Data Analysis"
   ]
  },
  {
   "cell_type": "markdown",
   "metadata": {},
   "source": [
    "### Explore potential Churn Events"
   ]
  },
  {
   "cell_type": "markdown",
   "metadata": {},
   "source": [
    "**Explore Event Occurrence**"
   ]
  },
  {
   "cell_type": "code",
   "execution_count": 16,
   "metadata": {},
   "outputs": [
    {
     "data": {
      "image/png": "[encoded data removed]",
      "text/plain": [
       "<Figure size 432x288 with 1 Axes>"
      ]
     },
     "metadata": {
      "needs_background": "light"
     },
     "output_type": "display_data"
    }
   ],
   "source": [
    "# Count occurrence of different event pages \n",
    "sns.barplot(x='count', y='page', data=events.groupby('page').count().orderBy(desc('count')).toPandas())\n",
    "plt.title('Event Page Occurrence')\n",
    "plt.show()"
   ]
  },
  {
   "cell_type": "code",
   "execution_count": 17,
   "metadata": {},
   "outputs": [
    {
     "data": {
      "image/png": "[encoded data removed]",
      "text/plain": [
       "<Figure size 432x288 with 1 Axes>"
      ]
     },
     "metadata": {
      "needs_background": "light"
     },
     "output_type": "display_data"
    }
   ],
   "source": [
    "# Count occurrence of different event pages (except \"NextSong\")\n",
    "sns.barplot(x='count', y='page', data=events.filter('page != \"NextSong\"').groupby('page').count().orderBy(desc('count')).toPandas())\n",
    "plt.title('Event Page Occurrence (except \"NextSong\")')\n",
    "plt.show()"
   ]
  },
  {
   "cell_type": "code",
   "execution_count": 18,
   "metadata": {},
   "outputs": [
    {
     "data": {
      "image/png": "[encoded data removed]",
      "text/plain": [
       "<Figure size 432x288 with 1 Axes>"
      ]
     },
     "metadata": {
      "needs_background": "light"
     },
     "output_type": "display_data"
    }
   ],
   "source": [
    "# Count occurance of potential churn events (when user comes to one of the four selected pages)\n",
    "sns.barplot(x='count', y='page', data=events.filter(\"page in ('Cancel','Cancellation Confirmation','Downgrade', 'Submit Downgrade')\").groupby('page').count().toPandas())\n",
    "plt.title('Potential Churn Event Occurrence')\n",
    "plt.show()"
   ]
  },
  {
   "cell_type": "markdown",
   "metadata": {},
   "source": [
    "**Explore Behaviour after Cancellation/ Submit Downgrade**"
   ]
  },
  {
   "cell_type": "code",
   "execution_count": 19,
   "metadata": {},
   "outputs": [],
   "source": [
    "# Calculate the difference between the last event timestamp and the cancellation timestamp\n",
    "last_event_cancellation = events.withColumn('cancellationTs', when(col('page') == 'Cancellation Confirmation', events.ts).otherwise(0)) \\\n",
    "    .groupby('userId') \\\n",
    "    .agg(Fmax('cancellationTs').alias('cancellationTs'), Fmax('ts').alias('max_ts')) \\\n",
    "    .withColumn('diff', col('max_ts') - col('cancellationTs')) \\\n",
    "    .filter(col('cancellationTs') > 0) \\\n",
    "    .toPandas()"
   ]
  },
  {
   "cell_type": "code",
   "execution_count": 20,
   "metadata": {},
   "outputs": [
    {
     "name": "stdout",
     "output_type": "stream",
     "text": [
      "Users that triggerd at least one event after cancellation: 0\n"
     ]
    }
   ],
   "source": [
    "print(\"Users that triggerd at least one event after cancellation: {}\".format(len(last_event_cancellation[last_event_cancellation['diff']>0])))"
   ]
  },
  {
   "cell_type": "code",
   "execution_count": 21,
   "metadata": {},
   "outputs": [],
   "source": [
    "# Calculate the difference between the last event timestamp and the downgrade timestamp\n",
    "last_event_downgrade = events.withColumn('downgradeTs', when(col('page') == 'Submit Downgrade', events.ts).otherwise(0)) \\\n",
    "    .groupby('userId') \\\n",
    "    .agg(Fmax('downgradeTs').alias('downgradeTs'), Fmax('ts').alias('max_ts')) \\\n",
    "    .withColumn('diff', col('max_ts') - col('downgradeTs')) \\\n",
    "    .filter(col('downgradeTs') > 0) \\\n",
    "    .toPandas()"
   ]
  },
  {
   "cell_type": "code",
   "execution_count": 22,
   "metadata": {},
   "outputs": [
    {
     "name": "stdout",
     "output_type": "stream",
     "text": [
      "Users that triggerd at least one event after downgrade: 49\n"
     ]
    }
   ],
   "source": [
    "print(\"Users that triggerd at least one event after downgrade: {}\".format(len(last_event_downgrade[last_event_downgrade['diff']>0])))"
   ]
  },
  {
   "cell_type": "code",
   "execution_count": 23,
   "metadata": {},
   "outputs": [],
   "source": [
    "# Cacellation events after downgrade\n",
    "downgrade_cancellation = events.withColumn('downgradeTs', when(col('page') == 'Submit Downgrade', events.ts).otherwise(0)) \\\n",
    "    .withColumn('cancellationTs', when(col('page') == 'Cancellation Confirmation', events.ts).otherwise(0)) \\\n",
    "    .groupby('userId') \\\n",
    "    .agg(Fmax('downgradeTs').alias('downgradeTs'), Fmax('cancellationTs').alias('cancellationTs')) \\\n",
    "    .withColumn('diff', col('cancellationTs') - col('downgradeTs')) \\\n",
    "    .filter(col('downgradeTs') > 0) \\\n",
    "    .toPandas()"
   ]
  },
  {
   "cell_type": "code",
   "execution_count": 24,
   "metadata": {},
   "outputs": [
    {
     "name": "stdout",
     "output_type": "stream",
     "text": [
      "Users that cancelled after downgrading: 9\n"
     ]
    }
   ],
   "source": [
    "print(\"Users that cancelled after downgrading: {}\".format(len(downgrade_cancellation[downgrade_cancellation['cancellationTs'] > 0])))"
   ]
  },
  {
   "cell_type": "markdown",
   "metadata": {},
   "source": [
    "### Define Churn"
   ]
  },
  {
   "cell_type": "code",
   "execution_count": 25,
   "metadata": {},
   "outputs": [
    {
     "name": "stdout",
     "output_type": "stream",
     "text": [
      "+----------------+---------+---------+------+-------------+--------+---------+-----+--------------------+------+--------+-------------+---------+--------------------+------+-------------+--------------------+------+-----+\n",
      "|          artist|     auth|firstName|gender|itemInSession|lastName|   length|level|            location|method|    page| registration|sessionId|                song|status|           ts|           userAgent|userId|churn|\n",
      "+----------------+---------+---------+------+-------------+--------+---------+-----+--------------------+------+--------+-------------+---------+--------------------+------+-------------+--------------------+------+-----+\n",
      "|  Martha Tilston|Logged In|    Colin|     M|           50| Freeman|277.89016| paid|     Bakersfield, CA|   PUT|NextSong|1538173362000|       29|           Rockpools|   200|1538352117000|Mozilla/5.0 (Wind...|    30|    0|\n",
      "|Five Iron Frenzy|Logged In|    Micah|     M|           79|    Long|236.09424| free|Boston-Cambridge-...|   PUT|NextSong|1538331630000|        8|              Canada|   200|1538352180000|\"Mozilla/5.0 (Win...|     9|    0|\n",
      "|    Adam Lambert|Logged In|    Colin|     M|           51| Freeman| 282.8273| paid|     Bakersfield, CA|   PUT|NextSong|1538173362000|       29|   Time For Miracles|   200|1538352394000|Mozilla/5.0 (Wind...|    30|    0|\n",
      "|          Enigma|Logged In|    Micah|     M|           80|    Long|262.71302| free|Boston-Cambridge-...|   PUT|NextSong|1538331630000|        8|Knocking On Forbi...|   200|1538352416000|\"Mozilla/5.0 (Win...|     9|    0|\n",
      "|       Daft Punk|Logged In|    Colin|     M|           52| Freeman|223.60771| paid|     Bakersfield, CA|   PUT|NextSong|1538173362000|       29|Harder Better Fas...|   200|1538352676000|Mozilla/5.0 (Wind...|    30|    0|\n",
      "+----------------+---------+---------+------+-------------+--------+---------+-----+--------------------+------+--------+-------------+---------+--------------------+------+-------------+--------------------+------+-----+\n",
      "only showing top 5 rows\n",
      "\n"
     ]
    }
   ],
   "source": [
    "# Add column churn with 0 as default value\n",
    "events = events.withColumn(\"churn\", lit(0))\n",
    "events.show(5)"
   ]
  },
  {
   "cell_type": "code",
   "execution_count": 26,
   "metadata": {},
   "outputs": [],
   "source": [
    "# Identify all userIds with churn event\n",
    "churn_userIds = list(events.filter(\"page in ('Cancellation Confirmation')\").select('userId').distinct().toPandas()['userId'])"
   ]
  },
  {
   "cell_type": "code",
   "execution_count": 27,
   "metadata": {},
   "outputs": [
    {
     "name": "stdout",
     "output_type": "stream",
     "text": [
      "+----------------+---------+---------+------+-------------+--------+---------+-----+--------------------+------+--------+-------------+---------+--------------------+------+-------------+--------------------+------+-----+\n",
      "|          artist|     auth|firstName|gender|itemInSession|lastName|   length|level|            location|method|    page| registration|sessionId|                song|status|           ts|           userAgent|userId|churn|\n",
      "+----------------+---------+---------+------+-------------+--------+---------+-----+--------------------+------+--------+-------------+---------+--------------------+------+-------------+--------------------+------+-----+\n",
      "|  Martha Tilston|Logged In|    Colin|     M|           50| Freeman|277.89016| paid|     Bakersfield, CA|   PUT|NextSong|1538173362000|       29|           Rockpools|   200|1538352117000|Mozilla/5.0 (Wind...|    30|    0|\n",
      "|Five Iron Frenzy|Logged In|    Micah|     M|           79|    Long|236.09424| free|Boston-Cambridge-...|   PUT|NextSong|1538331630000|        8|              Canada|   200|1538352180000|\"Mozilla/5.0 (Win...|     9|    0|\n",
      "|    Adam Lambert|Logged In|    Colin|     M|           51| Freeman| 282.8273| paid|     Bakersfield, CA|   PUT|NextSong|1538173362000|       29|   Time For Miracles|   200|1538352394000|Mozilla/5.0 (Wind...|    30|    0|\n",
      "|          Enigma|Logged In|    Micah|     M|           80|    Long|262.71302| free|Boston-Cambridge-...|   PUT|NextSong|1538331630000|        8|Knocking On Forbi...|   200|1538352416000|\"Mozilla/5.0 (Win...|     9|    0|\n",
      "|       Daft Punk|Logged In|    Colin|     M|           52| Freeman|223.60771| paid|     Bakersfield, CA|   PUT|NextSong|1538173362000|       29|Harder Better Fas...|   200|1538352676000|Mozilla/5.0 (Wind...|    30|    0|\n",
      "+----------------+---------+---------+------+-------------+--------+---------+-----+--------------------+------+--------+-------------+---------+--------------------+------+-------------+--------------------+------+-----+\n",
      "only showing top 5 rows\n",
      "\n"
     ]
    }
   ],
   "source": [
    "# Set churn to 1 for all events of a churn user\n",
    "events = events.withColumn(\"churn\", when(col(\"userId\").isin(churn_userIds), 1).otherwise(col(\"churn\")))\n",
    "events.show(5)"
   ]
  },
  {
   "cell_type": "markdown",
   "metadata": {},
   "source": [
    "**Conclusion Define Chrun**\n",
    "\n",
    "Churn has been defined as \"Cancellation Confirmation\" events. It has been considered, evaluating the \"Submit Downgrade\" events as churn as well. Finally, this option has been discarded for the following reasons: \n",
    "\n",
    "1. The users are not \"gone\" but still using the service, so they continue to produce events even after the potential churn event, which could be misleading for later models.\n",
    "2. Some of the users also cancelled their service after they downgraded - ignoring all user events after they downgraded (to solve the first argument) would not be a good option either, as we would lose valuable information about users who actually cancelled.\n",
    "\n",
    "Anyway, we will most likely still consider Downgrade events as a feature, e.g. a boolean indicator that a user has already downgraded."
   ]
  },
  {
   "cell_type": "markdown",
   "metadata": {},
   "source": [
    "### Explore Data\n",
    "Once you've defined churn, perform some exploratory data analysis to observe the behavior for users who stayed vs users who churned. You can start by exploring aggregates on these two groups of users, observing how much of a specific action they experienced per a certain time unit or number of songs played."
   ]
  },
  {
   "cell_type": "markdown",
   "metadata": {},
   "source": [
    "**Class balance**"
   ]
  },
  {
   "cell_type": "code",
   "execution_count": 28,
   "metadata": {},
   "outputs": [
    {
     "data": {
      "image/png": "[encoded data removed]",
      "text/plain": [
       "<Figure size 1296x288 with 3 Axes>"
      ]
     },
     "metadata": {
      "needs_background": "light"
     },
     "output_type": "display_data"
    }
   ],
   "source": [
    "# Check the class balance within the dataset\n",
    "user_count = events.select(['userId']).distinct().count()\n",
    "event_count = events.count()\n",
    "\n",
    "fig, ax = plt.subplots(1, 3, figsize=(18,4))\n",
    "\n",
    "# Count of users (churn vs. no churn)\n",
    "user_balance = events.select(['churn','userId']).distinct().groupby('churn').count().withColumn('percentage', col('count')/user_count*100).toPandas()\n",
    "sns.barplot(x='churn', y='percentage', data=user_balance, ax=ax[0])\n",
    "ax[0].set_title('User Share (in %)')\n",
    "\n",
    "# Event count (churn vs. no churn)\n",
    "event_balance = events.select(['churn','userId']).groupby(['churn']).count().withColumn('percentage', col('count')/event_count*100).toPandas()\n",
    "sns.barplot(x='churn', y='percentage', data=event_balance, ax=ax[1])\n",
    "ax[1].set_title('Event Share (in %)')\n",
    "ax[1].set_ylabel('')\n",
    "\n",
    "# Average event count per user (churn vs. no churn)\n",
    "avg_events_churn_0 = events.filter('churn == 0').select(['userId']).groupby('userId').count().toPandas()['count'].mean()\n",
    "avg_events_churn_1 = events.filter('churn == 1').select(['userId']).groupby('userId').count().toPandas()['count'].mean()\n",
    "sns.barplot(x=[0,1], y=[avg_events_churn_0, avg_events_churn_1], ax=ax[2])\n",
    "ax[2].set_title('Average Event Count per User')\n",
    "ax[2].set_xlabel('churn')\n",
    "\n",
    "plt.show()"
   ]
  },
  {
   "cell_type": "markdown",
   "metadata": {},
   "source": [
    "*Conclusion: Class balance*\n",
    "\n",
    "The first two plots show a strong imbalance in the dataset in regards to the churn class. More than 70 percent of the users in the dataset did not churn. Furthermore, those users who actually churned only caused less then 20 percent of the events provided. The even smaller share of events is caused by a lower average event count per user for churned users, as you can see in the third plot.\n",
    "\n",
    "This imbalance is important to keep in mind. It can negatively effect certain machine learning models and therefore possibly needs to be dealt with by sampling later on."
   ]
  },
  {
   "cell_type": "markdown",
   "metadata": {},
   "source": [
    "**Share of most common events**"
   ]
  },
  {
   "cell_type": "code",
   "execution_count": 29,
   "metadata": {},
   "outputs": [],
   "source": [
    "avg_events_churn_without_nextsong = events.filter('churn == 0 and page != \"NextSong\"').select(['userId']).groupby('userId').count().toPandas()['count'].mean()\n",
    "avg_events_no_churn_without_nextsong = events.filter('churn == 1 and page != \"NextSong\"').select(['userId']).groupby('userId').count().toPandas()['count'].mean()\n",
    "\n",
    "def get_page_count_per_user_by_churn(df, page, as_pandas=True):\n",
    "    '''\n",
    "    Parameters: \n",
    "        df (spark dataframe) - The dataframe that holds the events\n",
    "        page (String) - The name of the page to filter the events by\n",
    "        as_pandas (Boolean) - Wether the resultung dataframe should get transformed to a Pandas dataframe\n",
    "    \n",
    "    Return:\n",
    "        dataframe (spark or pandas) - The average event counts per user for the given page grouped by churn\n",
    "    \n",
    "    This function\n",
    "        - Counts the occurance of the given page grouped by user and churn\n",
    "        - Calculates the average occurance of the given page per user by churn\n",
    "        - Calculates the share of the page event occurance compared to the average count of all events (except \"Next Song\", as this is by far the most common event that would make the other page events harder to compare) \n",
    "    '''\n",
    "    event_counts = events.filter('page == \"{}\"'.format(page)) \\\n",
    "        .groupby('userId') \\\n",
    "        .agg({'userId': 'count', 'churn': 'max'}) \\\n",
    "        .withColumnRenamed(\"max(churn)\", \"churn\") \\\n",
    "        .groupBy('churn') \\\n",
    "        .agg(avg('count(userId)').alias('avg_count_per_user')) \\\n",
    "        .withColumn('share_events_without_nextsong', when(col('churn')==0, col('avg_count_per_user')/avg_events_churn_without_nextsong*100).otherwise(col('avg_count_per_user')/avg_events_no_churn_without_nextsong*100))\n",
    "    \n",
    "    return event_counts.toPandas() if as_pandas else event_counts.select()"
   ]
  },
  {
   "cell_type": "code",
   "execution_count": 30,
   "metadata": {},
   "outputs": [
    {
     "data": {
      "image/png": "[encoded data removed]",
      "text/plain": [
       "<Figure size 1440x576 with 8 Axes>"
      ]
     },
     "metadata": {
      "needs_background": "light"
     },
     "output_type": "display_data"
    }
   ],
   "source": [
    "# Check the average occurance of the most common page events (except \"Next Song\") for churned vs. not churned users\n",
    "most_common_pages = events.filter('page != \"NextSong\"').groupby('page').count().orderBy(desc('count')).toPandas()['page']\n",
    "pages = [list(most_common_pages[:4]), list(most_common_pages[4:8])]\n",
    "\n",
    "fig, ax = plt.subplots(len(pages), len(pages[0]), figsize=(len(pages[0])*5,len(pages)*4))\n",
    "for i, ps in enumerate(pages):\n",
    "    for j, p in enumerate(ps): \n",
    "        sns.barplot(x='churn', y='share_events_without_nextsong', data=get_page_count_per_user_by_churn(events, p), ax=ax[i][j])\n",
    "        ax[i][j].set_title('\"{}\" Share of all User Events (except \"Next Song\")'.format(p))\n",
    "        ax[i][j].set_ylabel('Share in %')\n",
    "plt.tight_layout()\n",
    "plt.show()"
   ]
  },
  {
   "cell_type": "markdown",
   "metadata": {},
   "source": [
    "*Conclusion: Share of most common events*\n",
    "\n",
    "Share of most common events: The plots show the share of the most common page events compared to all events (except \"NextSong\") of the given user. We can see, that churned users show a higher share of ```Roll Advert```, ```Thumbs Down``` and ```Logout```  events. On the other hand, churned users have a lower share of ```Add Friend```, ```Add to Playlist```, ```Thumbs Up```. The share of ```Home``` and ```Downgrade``` events seems almost balanced.\n",
    "\n",
    "Overall, the count of events per page seems like a promising featureset for predicting churn."
   ]
  },
  {
   "cell_type": "markdown",
   "metadata": {},
   "source": [
    "**Songs per Session**"
   ]
  },
  {
   "cell_type": "code",
   "execution_count": 31,
   "metadata": {},
   "outputs": [
    {
     "data": {
      "image/png": "[encoded data removed]",
      "text/plain": [
       "<Figure size 432x216 with 2 Axes>"
      ]
     },
     "metadata": {
      "needs_background": "light"
     },
     "output_type": "display_data"
    }
   ],
   "source": [
    "# Plot average number of songs played per session (Page \"NextSong\")\n",
    "songs_per_session = events.filter('page == \"NextSong\"') \\\n",
    "    .groupby(['churn', 'userId', 'sessionId']) \\\n",
    "    .count() \\\n",
    "    .groupby(['userId', 'churn']) \\\n",
    "    .agg({'count': 'avg'}).toPandas()\n",
    "g = sns.FacetGrid(songs_per_session, col=\"churn\", sharey=False)\n",
    "g.map(plt.hist, \"avg(count)\");"
   ]
  },
  {
   "cell_type": "markdown",
   "metadata": {},
   "source": [
    "*Conclusion: Songs per Session*\n",
    "\n",
    "Comparing the distribution of the average number of songs per session, we see a different pattern for churned and not churned users. Also, the range, where most observations lie, is shorter for churned users (fewer than 100 songs per session) compared to the rest (about 100 songs per session).\n",
    "\n",
    "This leads to the conclusion, that the average count of songs per session is a good feature candidate."
   ]
  },
  {
   "cell_type": "markdown",
   "metadata": {},
   "source": [
    "**Songs and Length per Day**"
   ]
  },
  {
   "cell_type": "code",
   "execution_count": 32,
   "metadata": {},
   "outputs": [],
   "source": [
    "datetime_func = udf(lambda x: datetime.datetime.fromtimestamp(x / 1000.0), DateType())\n",
    "month_func = udf(lambda x: datetime.datetime.fromtimestamp(x / 1000.0).month, IntegerType())\n",
    "day_func = udf(lambda x: datetime.datetime.fromtimestamp(x / 1000.0).day, IntegerType())\n",
    "hour_func = udf(lambda x: datetime.datetime.fromtimestamp(x / 1000.0).hour, IntegerType())\n",
    "week_func = udf(lambda x: datetime.datetime.fromtimestamp(x / 1000.0).isocalendar()[1], IntegerType())\n",
    "year_func = udf(lambda x: datetime.datetime.fromtimestamp(x / 1000.0).year, IntegerType())"
   ]
  },
  {
   "cell_type": "code",
   "execution_count": 33,
   "metadata": {},
   "outputs": [
    {
     "data": {
      "image/png": "[encoded data removed]",
      "text/plain": [
       "<Figure size 432x216 with 2 Axes>"
      ]
     },
     "metadata": {
      "needs_background": "light"
     },
     "output_type": "display_data"
    }
   ],
   "source": [
    "# Plot average number of songs played per day (Page \"NextSong\")\n",
    "songs_per_day = events.filter('page == \"NextSong\"') \\\n",
    "    .withColumn(\"date\", datetime_func(events.ts)) \\\n",
    "    .groupby(['churn', 'userId', 'date']) \\\n",
    "    .count() \\\n",
    "    .groupby(['userId', 'churn']) \\\n",
    "    .agg({'count': 'avg'}).toPandas()\n",
    "g = sns.FacetGrid(songs_per_day, col=\"churn\", sharey=False)\n",
    "g.map(plt.hist, \"avg(count)\");"
   ]
  },
  {
   "cell_type": "code",
   "execution_count": 34,
   "metadata": {},
   "outputs": [],
   "source": [
    "df= events.filter('page == \"NextSong\"') \\\n",
    "    .withColumn(\"date\", datetime_func(events.ts)) \\\n",
    "    .groupby(['churn', 'userId', 'date']) \\\n",
    "    .count() \\"
   ]
  },
  {
   "cell_type": "code",
   "execution_count": 35,
   "metadata": {},
   "outputs": [
    {
     "data": {
      "image/png": "[encoded data removed]",
      "text/plain": [
       "<Figure size 432x216 with 2 Axes>"
      ]
     },
     "metadata": {
      "needs_background": "light"
     },
     "output_type": "display_data"
    }
   ],
   "source": [
    "# Plot median number of songs played per day (Page \"NextSong\")\n",
    "median_songs_per_day =  events.filter('page == \"NextSong\"') \\\n",
    "    .withColumn(\"date\", datetime_func(events.ts)) \\\n",
    "    .groupby(['churn', 'userId', 'date']) \\\n",
    "    .count() \\\n",
    "    .toPandas() \\\n",
    "    .groupby(['userId', 'churn'], as_index=False).median()\n",
    "g = sns.FacetGrid(median_songs_per_day, col=\"churn\", sharey=False)\n",
    "g.map(plt.hist, \"count\");"
   ]
  },
  {
   "cell_type": "code",
   "execution_count": 36,
   "metadata": {},
   "outputs": [
    {
     "data": {
      "image/png": "[encoded data removed]",
      "text/plain": [
       "<Figure size 432x216 with 2 Axes>"
      ]
     },
     "metadata": {
      "needs_background": "light"
     },
     "output_type": "display_data"
    }
   ],
   "source": [
    "# Plot average length played per day (Page \"NextSong\")\n",
    "length_per_day = events.filter('page == \"NextSong\"') \\\n",
    "    .withColumn(\"date\", datetime_func(events.ts)) \\\n",
    "    .groupby(['churn', 'userId', 'date']) \\\n",
    "    .agg(Fsum('length').alias('length')) \\\n",
    "    .groupby(['userId', 'churn']) \\\n",
    "    .agg({'length': 'avg'}).toPandas()\n",
    "g = sns.FacetGrid(length_per_day, col=\"churn\", sharey=False)\n",
    "g.map(plt.hist, \"avg(length)\");"
   ]
  },
  {
   "cell_type": "code",
   "execution_count": 37,
   "metadata": {},
   "outputs": [
    {
     "data": {
      "image/png": "[encoded data removed]",
      "text/plain": [
       "<Figure size 432x216 with 2 Axes>"
      ]
     },
     "metadata": {
      "needs_background": "light"
     },
     "output_type": "display_data"
    }
   ],
   "source": [
    "# Plot average length played per day (Page \"NextSong\")\n",
    "median_length_per_day = events.filter('page == \"NextSong\"') \\\n",
    "    .withColumn(\"date\", datetime_func(events.ts)) \\\n",
    "    .groupby(['churn', 'userId', 'date']) \\\n",
    "    .agg(Fsum('length').alias('length')) \\\n",
    "    .toPandas() \\\n",
    "    .groupby(['userId', 'churn'], as_index=False).median()\n",
    "g = sns.FacetGrid(median_length_per_day, col=\"churn\", sharey=False)\n",
    "g.map(plt.hist, \"length\");"
   ]
  },
  {
   "cell_type": "markdown",
   "metadata": {},
   "source": [
    "*Conclusion: Songs and Length per Day*\n",
    "    \n",
    "The above plots show that the distributions of the average number of songs and the avreage lenght per day are very similar. Further more, we can see clear differences between churned vs. not churned users (songs and length per day tends to be smaller for churned users). Thus, either ```avg_daily_length``` or ```avg_daily_song_count``` could be a good feature choice. An even more meaningful feature could be created by using the median instead of the average (```median_daily_length```), as it does not overrate possible outliers (e.g. users who test the service intensively for a few days after purchase or on a special occasion but don't usually use it that much).\n",
    "\n",
    "In any case, we should have in mind that days without any event occurrence are not included in this perspective. That's why we should also investigate the number if (in)active days."
   ]
  },
  {
   "cell_type": "markdown",
   "metadata": {},
   "source": [
    "**Active Days per Week**"
   ]
  },
  {
   "cell_type": "code",
   "execution_count": 38,
   "metadata": {},
   "outputs": [],
   "source": [
    "# Calculate the active days per week and user\n",
    "active_weekly_days = events.withColumn(\"date\", datetime_func(events.ts)) \\\n",
    "    .withColumn(\"week\", week_func(events.ts)) \\\n",
    "    .groupby(['churn', 'userId', 'week', 'date']) \\\n",
    "    .count().alias('daily_events') \\\n",
    "    .groupby(['churn', 'userId', 'week']) \\\n",
    "    .count().alias('days_per_week') "
   ]
  },
  {
   "cell_type": "code",
   "execution_count": 39,
   "metadata": {},
   "outputs": [
    {
     "name": "stdout",
     "output_type": "stream",
     "text": [
      "+-----+------+----+-----+\n",
      "|churn|userId|week|count|\n",
      "+-----+------+----+-----+\n",
      "|    0|    39|  44|    7|\n",
      "|    0|   132|  44|    4|\n",
      "|    0|100004|  42|    2|\n",
      "|    0|    80|  45|    2|\n",
      "|    0|   150|  45|    1|\n",
      "+-----+------+----+-----+\n",
      "only showing top 5 rows\n",
      "\n"
     ]
    }
   ],
   "source": [
    "active_weekly_days.show(5)"
   ]
  },
  {
   "cell_type": "code",
   "execution_count": 40,
   "metadata": {},
   "outputs": [
    {
     "data": {
      "image/png": "[encoded data removed]",
      "text/plain": [
       "<Figure size 432x288 with 1 Axes>"
      ]
     },
     "metadata": {
      "needs_background": "light"
     },
     "output_type": "display_data"
    }
   ],
   "source": [
    "# PLot the median active weekly days (violinplot)\n",
    "median_active_weekly_days = active_weekly_days.toPandas().groupby(['userId', 'churn'], as_index=False).median().drop('week', axis=1)\n",
    "sns.violinplot(data=median_active_weekly_days, x='churn', y='count')\n",
    "plt.show()"
   ]
  },
  {
   "cell_type": "code",
   "execution_count": 41,
   "metadata": {},
   "outputs": [
    {
     "data": {
      "image/png": "[encoded data removed]",
      "text/plain": [
       "<Figure size 432x288 with 1 Axes>"
      ]
     },
     "metadata": {
      "needs_background": "light"
     },
     "output_type": "display_data"
    }
   ],
   "source": [
    "# PLot the median active weekly days (swarmplot)\n",
    "sns.swarmplot(data=median_active_weekly_days, x='churn', y='count')\n",
    "plt.show()"
   ]
  },
  {
   "cell_type": "markdown",
   "metadata": {},
   "source": [
    "*Conclusion: Active Days per Week*\n",
    "\n",
    "The violinplot of the median of active days per week and user suggests that churned users have been active on more days than non churned. Looking at the swarmplot though, we can see that the actual (absolut) number of users with more active days is not that high. Thus, we should also look at the active weeks within the provided daterange to account for weeks, where churned users may have not listened at all. This circumstance would not be visible in the above representation. Still, the median active days per week can be considered as a feature, which impact at least might me evaluated."
   ]
  },
  {
   "cell_type": "markdown",
   "metadata": {},
   "source": [
    "**Days between Registration and Cancellation**"
   ]
  },
  {
   "cell_type": "code",
   "execution_count": 42,
   "metadata": {},
   "outputs": [],
   "source": [
    "# Time to Cancellation\n",
    "days_to_cancel = events.withColumn('cancellationTs', when(col('page') == 'Cancellation Confirmation', events.ts).otherwise(0)) \\\n",
    "    .groupby('userId', 'registration') \\\n",
    "    .agg(Fmax('cancellationTs').alias('cancellationTs')) \\\n",
    "    .withColumn('days_to_cancel', when(col('cancellationTs') > 0, (col('cancellationTs') - col('registration'))/86400/1000).otherwise(0)) \\\n",
    "    .filter(col('days_to_cancel') > 0) \\\n",
    "    .toPandas()"
   ]
  },
  {
   "cell_type": "code",
   "execution_count": 43,
   "metadata": {},
   "outputs": [
    {
     "data": {
      "image/png": "[encoded data removed]",
      "text/plain": [
       "<Figure size 432x288 with 1 Axes>"
      ]
     },
     "metadata": {
      "needs_background": "light"
     },
     "output_type": "display_data"
    }
   ],
   "source": [
    "plt.hist(days_to_cancel['days_to_cancel'])\n",
    "plt.show()"
   ]
  },
  {
   "cell_type": "code",
   "execution_count": 44,
   "metadata": {},
   "outputs": [],
   "source": [
    "# Check for events after cancellation\n",
    "last_event = events.withColumn('cancellationTs', when(col('page') == 'Cancellation Confirmation', events.ts).otherwise(0)) \\\n",
    "    .groupby('userId') \\\n",
    "    .agg(Fmax('cancellationTs').alias('cancellationTs'), Fmax('ts').alias('ts')) \\\n",
    "    .withColumn('diff', col('ts') - col('cancellationTs')) \\\n",
    "    .toPandas()"
   ]
  },
  {
   "cell_type": "code",
   "execution_count": 45,
   "metadata": {},
   "outputs": [
    {
     "name": "stdout",
     "output_type": "stream",
     "text": [
      "Users with events after cancellation: 0\n"
     ]
    }
   ],
   "source": [
    "print(\"Users with events after cancellation: {}\".format(len(last_event[(last_event['cancellationTs'] > 0) & (last_event['diff'] > 0)])))"
   ]
  },
  {
   "cell_type": "markdown",
   "metadata": {},
   "source": [
    "*Conclusion: Days between Registration and Cancellation*\n",
    "    \n",
    "In most of the cases, the time between registration and Cancellation isn't longer than 100 days. Overall, the plots suggest that the days since registration might be a good feature candidate. To be sure, that \"Days between Registration and Cancellation\" can translate to \"Days since Registration\", we checked that no user triggerd further events after the first cancellation."
   ]
  },
  {
   "cell_type": "markdown",
   "metadata": {},
   "source": [
    "**Artists listend to**"
   ]
  },
  {
   "cell_type": "code",
   "execution_count": 46,
   "metadata": {},
   "outputs": [
    {
     "data": {
      "image/png": "[encoded data removed]",
      "text/plain": [
       "<Figure size 432x288 with 1 Axes>"
      ]
     },
     "metadata": {
      "needs_background": "light"
     },
     "output_type": "display_data"
    }
   ],
   "source": [
    "# PLot artist count per user (violinplot)\n",
    "artists_per_user = events.groupby(['churn', 'userId']).agg(countDistinct('artist').alias('count')).toPandas()\n",
    "sns.violinplot(data=artists_per_user, y='count', x='churn')\n",
    "plt.show()"
   ]
  },
  {
   "cell_type": "code",
   "execution_count": 47,
   "metadata": {},
   "outputs": [
    {
     "data": {
      "image/png": "[encoded data removed]",
      "text/plain": [
       "<Figure size 432x288 with 1 Axes>"
      ]
     },
     "metadata": {
      "needs_background": "light"
     },
     "output_type": "display_data"
    }
   ],
   "source": [
    "# PLot artist count per user (swarmplot)\n",
    "artists_per_user = events.groupby(['churn', 'userId']).agg(countDistinct('artist').alias('count')).toPandas()\n",
    "sns.swarmplot(data=artists_per_user, y='count', x='churn')\n",
    "plt.show()"
   ]
  },
  {
   "cell_type": "markdown",
   "metadata": {},
   "source": [
    "*Conclusion: Artists listend to*\n",
    "\n",
    "The distribution of artist counts per user shows that churned users have not listend to more than 2000 artists whereas not churned users listened to up to 3500 artists. Even though the distribution in the lower counts is not extremely different, a high count of artists could still be an indicator against a churn risk, which makes it another feature option wihtin the next step of this project."
   ]
  },
  {
   "cell_type": "markdown",
   "metadata": {},
   "source": [
    "**Churn by Gender**"
   ]
  },
  {
   "cell_type": "code",
   "execution_count": 48,
   "metadata": {},
   "outputs": [],
   "source": [
    "churn_by_gender = events.groupby(['churn', 'gender']).agg(countDistinct('userId').alias('count')).toPandas()"
   ]
  },
  {
   "cell_type": "code",
   "execution_count": 49,
   "metadata": {},
   "outputs": [
    {
     "data": {
      "image/png": "[encoded data removed]",
      "text/plain": [
       "<Figure size 432x288 with 1 Axes>"
      ]
     },
     "metadata": {
      "needs_background": "light"
     },
     "output_type": "display_data"
    }
   ],
   "source": [
    "# Plot the share of men and women within churned and not churned users\n",
    "bars_f = list(churn_by_gender[churn_by_gender['gender']=='F'].sort_values('churn')['count'])\n",
    "bars_m = list(churn_by_gender[churn_by_gender['gender']=='M'].sort_values('churn')['count'])\n",
    "x = sorted(list(churn_by_gender['churn'].unique()))\n",
    "plt.bar(x, bars_f)\n",
    "plt.bar(x, bars_m, bottom= bars_f, color='darkred')\n",
    "plt.xticks(x)\n",
    "plt.xlabel('Churn')  \n",
    "plt.ylabel('Count')\n",
    "plt.legend(['F','M'])\n",
    "plt.show()  "
   ]
  },
  {
   "cell_type": "markdown",
   "metadata": {},
   "source": [
    "*Conclusion: Churn by Gender*\n",
    "\n",
    "Even though female and male users seems to be almost equally distributed within the not churned group, women seemd to have churned in a slightly smaller number than men."
   ]
  },
  {
   "cell_type": "markdown",
   "metadata": {},
   "source": [
    "**Churn by User Agent**"
   ]
  },
  {
   "cell_type": "code",
   "execution_count": 50,
   "metadata": {},
   "outputs": [],
   "source": [
    "# Parse userAgent String\n",
    "events = events.withColumn('browser', udf(lambda x: parse(x).browser.family, StringType())('userAgent')) \\\n",
    "    .withColumn('browser_version', udf(lambda x: parse(x).browser.version_string, StringType())('userAgent')) \\\n",
    "    .withColumn('os', udf(lambda x: parse(x).os.family, StringType())('userAgent')) \\\n",
    "    .withColumn('os_version', udf(lambda x: parse(x).os.version_string, StringType())('userAgent')) \\\n",
    "    .withColumn('device', udf(lambda x: parse(x).device.family, StringType())('userAgent')) \\\n",
    "    .withColumn('device_brand', udf(lambda x: parse(x).device.brand, StringType())('userAgent')) "
   ]
  },
  {
   "cell_type": "code",
   "execution_count": 51,
   "metadata": {},
   "outputs": [
    {
     "data": {
      "image/png": "[encoded data removed]",
      "text/plain": [
       "<Figure size 1080x576 with 6 Axes>"
      ]
     },
     "metadata": {
      "needs_background": "light"
     },
     "output_type": "display_data"
    }
   ],
   "source": [
    "userInfos = [['browser', 'os', 'device'],['browser_version', 'os_version', 'device_brand']]\n",
    "\n",
    "fig, ax = plt.subplots(len(userInfos), len(userInfos[0]), figsize=(len(userInfos[0])*5,len(userInfos)*4))\n",
    "for i, ui in enumerate(userInfos):\n",
    "    for j, u in enumerate(ui): \n",
    "        data = events.groupby(['churn', u]).agg(countDistinct('userId').alias('count')).toPandas()\n",
    "        sns.barplot(x=u, y='count', hue='churn', data=data, ax=ax[i][j])\n",
    "        ax[i][j].set_title('Churn by {}'.format(u))\n",
    "plt.tight_layout()\n",
    "plt.show()"
   ]
  },
  {
   "cell_type": "markdown",
   "metadata": {},
   "source": [
    "*Conclusion: Churn by User Agent*\n",
    "\n",
    "The technical setting in which someone is using a streaming service can be very important for her/his user expierience (considering some functions might work better/worse in specific settings). Concluding from the above visualizations:\n",
    "\n",
    "- \"device_brand\" is not relevant as it only contains a single unique value\n",
    "- \"device\" is propapbly not relevant as the very most of all users would be categoriezed as \"Other\"\n",
    "- \"browser\" and \"os\" on the other hand (including their version information) could be useful for predicting churn as we already see differences in the churn/ no churn ratio when looking at \"Mac OS X\" vs. \"Windows\""
   ]
  },
  {
   "cell_type": "markdown",
   "metadata": {},
   "source": [
    "**Churn by Level**"
   ]
  },
  {
   "cell_type": "code",
   "execution_count": 52,
   "metadata": {},
   "outputs": [],
   "source": [
    "churn_by_level = events.groupby(['churn', 'level']).agg(countDistinct('userId').alias('count')).toPandas()"
   ]
  },
  {
   "cell_type": "code",
   "execution_count": 53,
   "metadata": {},
   "outputs": [
    {
     "data": {
      "image/png": "[encoded data removed]",
      "text/plain": [
       "<Figure size 432x288 with 1 Axes>"
      ]
     },
     "metadata": {
      "needs_background": "light"
     },
     "output_type": "display_data"
    }
   ],
   "source": [
    "# Plot the share of free and paid levels within churned and not churned users\n",
    "bars_f = list(churn_by_level[churn_by_level['level']=='free'].sort_values('churn')['count'])\n",
    "bars_m = list(churn_by_level[churn_by_level['level']=='paid'].sort_values('churn')['count'])\n",
    "x = sorted(list(churn_by_level['churn'].unique()))\n",
    "plt.bar(x, bars_f)\n",
    "plt.bar(x, bars_m, bottom= bars_f, color='darkred')\n",
    "plt.xticks(x)\n",
    "plt.xlabel('Churn')  \n",
    "plt.ylabel('Count')\n",
    "plt.legend(['free','paid'])\n",
    "plt.show()  "
   ]
  },
  {
   "cell_type": "markdown",
   "metadata": {},
   "source": [
    "*Conclusion: Churn by Level*\n",
    "\n",
    "Looking at the barplot, the ratio of free and paid subscriptions seems almost balanced within both groupy (free subscriptions are just slightly more dominant), churned and not churned users."
   ]
  },
  {
   "cell_type": "markdown",
   "metadata": {},
   "source": [
    "**Churn by Location**"
   ]
  },
  {
   "cell_type": "code",
   "execution_count": 54,
   "metadata": {},
   "outputs": [],
   "source": [
    "churn_by_location = events.groupby(['churn', 'location']).agg(countDistinct('userId').alias('count')).toPandas()"
   ]
  },
  {
   "cell_type": "code",
   "execution_count": 55,
   "metadata": {},
   "outputs": [
    {
     "data": {
      "text/html": [
       "<div>\n",
       "<style scoped>\n",
       "    .dataframe tbody tr th:only-of-type {\n",
       "        vertical-align: middle;\n",
       "    }\n",
       "\n",
       "    .dataframe tbody tr th {\n",
       "        vertical-align: top;\n",
       "    }\n",
       "\n",
       "    .dataframe thead th {\n",
       "        text-align: right;\n",
       "    }\n",
       "</style>\n",
       "<table border=\"1\" class=\"dataframe\">\n",
       "  <thead>\n",
       "    <tr style=\"text-align: right;\">\n",
       "      <th></th>\n",
       "      <th>churn</th>\n",
       "      <th>location</th>\n",
       "      <th>count</th>\n",
       "    </tr>\n",
       "  </thead>\n",
       "  <tbody>\n",
       "    <tr>\n",
       "      <td>0</td>\n",
       "      <td>0</td>\n",
       "      <td>Seattle-Tacoma-Bellevue, WA</td>\n",
       "      <td>2</td>\n",
       "    </tr>\n",
       "    <tr>\n",
       "      <td>1</td>\n",
       "      <td>0</td>\n",
       "      <td>St. Louis, MO-IL</td>\n",
       "      <td>5</td>\n",
       "    </tr>\n",
       "    <tr>\n",
       "      <td>2</td>\n",
       "      <td>1</td>\n",
       "      <td>Bozeman, MT</td>\n",
       "      <td>1</td>\n",
       "    </tr>\n",
       "    <tr>\n",
       "      <td>3</td>\n",
       "      <td>1</td>\n",
       "      <td>Albany, OR</td>\n",
       "      <td>1</td>\n",
       "    </tr>\n",
       "    <tr>\n",
       "      <td>4</td>\n",
       "      <td>0</td>\n",
       "      <td>Morgantown, WV</td>\n",
       "      <td>1</td>\n",
       "    </tr>\n",
       "  </tbody>\n",
       "</table>\n",
       "</div>"
      ],
      "text/plain": [
       "   churn                     location  count\n",
       "0      0  Seattle-Tacoma-Bellevue, WA      2\n",
       "1      0             St. Louis, MO-IL      5\n",
       "2      1                  Bozeman, MT      1\n",
       "3      1                   Albany, OR      1\n",
       "4      0               Morgantown, WV      1"
      ]
     },
     "execution_count": 55,
     "metadata": {},
     "output_type": "execute_result"
    }
   ],
   "source": [
    "churn_by_location.head()"
   ]
  },
  {
   "cell_type": "code",
   "execution_count": 56,
   "metadata": {},
   "outputs": [
    {
     "data": {
      "text/plain": [
       "114"
      ]
     },
     "execution_count": 56,
     "metadata": {},
     "output_type": "execute_result"
    }
   ],
   "source": [
    "# Check number of unique locations\n",
    "len(churn_by_location['location'].unique())"
   ]
  },
  {
   "cell_type": "code",
   "execution_count": 57,
   "metadata": {},
   "outputs": [
    {
     "data": {
      "text/plain": [
       "225"
      ]
     },
     "execution_count": 57,
     "metadata": {},
     "output_type": "execute_result"
    }
   ],
   "source": [
    "# Compare number of unique locations to number of unique users\n",
    "events.select('userId').distinct().count()"
   ]
  },
  {
   "cell_type": "code",
   "execution_count": 58,
   "metadata": {},
   "outputs": [],
   "source": [
    "# Extract the state from location to reduce categories\n",
    "churn_by_location['state'] = churn_by_location['location'].apply(lambda x: x.split(\",\")[1])"
   ]
  },
  {
   "cell_type": "code",
   "execution_count": 59,
   "metadata": {},
   "outputs": [
    {
     "data": {
      "text/plain": [
       "58"
      ]
     },
     "execution_count": 59,
     "metadata": {},
     "output_type": "execute_result"
    }
   ],
   "source": [
    "len(churn_by_location['state'].unique())"
   ]
  },
  {
   "cell_type": "code",
   "execution_count": 60,
   "metadata": {},
   "outputs": [
    {
     "data": {
      "image/png": "[encoded data removed]",
      "text/plain": [
       "<Figure size 1440x360 with 1 Axes>"
      ]
     },
     "metadata": {
      "needs_background": "light"
     },
     "output_type": "display_data"
    }
   ],
   "source": [
    "# Plot number of churned and not churned users by state\n",
    "plt.figure(figsize=(20,5))\n",
    "sns.barplot(x='state', y='count', hue='churn', data=churn_by_location.groupby(['state', 'churn'], as_index=False).count())\n",
    "plt.xticks(rotation=90)\n",
    "plt.show()"
   ]
  },
  {
   "cell_type": "markdown",
   "metadata": {},
   "source": [
    "*Conclusion: Churn by Location*\n",
    "\n",
    "The dataset contains 114 unique locations for 225 unique users. Thus, the location information has been reduced to the state, which gives us a categorical variable with only 58 values. Extracting local patterns on this basis will propably be more likely, as the groupy of users by location (state) will be larger."
   ]
  },
  {
   "cell_type": "markdown",
   "metadata": {},
   "source": [
    "# Feature Engineering\n",
    "Once you've familiarized yourself with the data, build out the features you find promising to train your model on. To work with the full dataset, you can follow the following steps.\n",
    "- Write a script to extract the necessary features from the smaller subset of data\n",
    "- Ensure that your script is scalable, using the best practices discussed in Lesson 3\n",
    "- Try your script on the full data set, debugging your script if necessary\n",
    "\n",
    "If you are working in the classroom workspace, you can just extract features based on the small subset of data contained here. Be sure to transfer over this work to the larger dataset when you work on your Spark cluster."
   ]
  },
  {
   "cell_type": "markdown",
   "metadata": {},
   "source": [
    "### Create Features\n",
    "\n",
    "We want to be able to identify whether a certain user is about to churn, meaning we need to train the corresponding algorithm on a user basis. Thus, when creating features we need to aggregate the event data on user level."
   ]
  },
  {
   "cell_type": "markdown",
   "metadata": {},
   "source": [
    "**Extract categorical features by user**"
   ]
  },
  {
   "cell_type": "markdown",
   "metadata": {},
   "source": [
    "Group events by user and select max catogorical features"
   ]
  },
  {
   "cell_type": "code",
   "execution_count": 61,
   "metadata": {},
   "outputs": [],
   "source": [
    "def create_categorical_features(events):\n",
    "    '''\n",
    "    Parameters: \n",
    "        events (spark dataframe) - The dataframe that holds the events\n",
    "    \n",
    "    Return:\n",
    "        cat_features (spark dataframe) - The events dataframe grouped by userId holding max values of the relevant categorical columns\n",
    "   '''\n",
    "    cat_features = events.groupby('userId') \\\n",
    "        .agg(\n",
    "            Fmax('gender').alias('gender'),\n",
    "            Fmax('level').alias('level'),\n",
    "            Fmax('location').alias('location'),\n",
    "            Fmax('browser').alias('browser'),\n",
    "            Fmax('browser_version').alias('browser_version'),\n",
    "            Fmax('os').alias('os'),\n",
    "            Fmax('os_version').alias('os_version'),\n",
    "            Fmax('churn').alias('churn')\n",
    "        ) \\\n",
    "        .withColumn('state', udf(lambda x: x.split(',')[1], StringType())('location')) \\\n",
    "        .drop('location')\n",
    "    \n",
    "    return cat_features"
   ]
  },
  {
   "cell_type": "code",
   "execution_count": 62,
   "metadata": {},
   "outputs": [],
   "source": [
    "cat_features = create_categorical_features(events)"
   ]
  },
  {
   "cell_type": "code",
   "execution_count": 63,
   "metadata": {},
   "outputs": [
    {
     "name": "stdout",
     "output_type": "stream",
     "text": [
      "+------+------+-----+-------------+---------------+--------+----------+-----+---------+\n",
      "|userId|gender|level|      browser|browser_version|      os|os_version|churn|    state|\n",
      "+------+------+-----+-------------+---------------+--------+----------+-----+---------+\n",
      "|100010|     F| free|Mobile Safari|            7.0|     iOS|     7.1.2|    0|       CT|\n",
      "|200002|     M| paid|Mobile Safari|            7.0|     iOS|       7.1|    0| IL-IN-WI|\n",
      "|   125|     M| free|       Chrome|      36.0.1985|Mac OS X|    10.9.4|    1|       TX|\n",
      "|   124|     F| paid|       Chrome|      36.0.1985|Mac OS X|    10.9.4|    0|       NJ|\n",
      "|    51|     M| paid|       Chrome|      36.0.1985| Windows|         7|    1|       KY|\n",
      "+------+------+-----+-------------+---------------+--------+----------+-----+---------+\n",
      "only showing top 5 rows\n",
      "\n"
     ]
    }
   ],
   "source": [
    "cat_features.show(5)"
   ]
  },
  {
   "cell_type": "markdown",
   "metadata": {},
   "source": [
    "**Extract calculated features by user**"
   ]
  },
  {
   "cell_type": "code",
   "execution_count": 64,
   "metadata": {},
   "outputs": [],
   "source": [
    "calc_features = events.groupBy('userId').count()\n",
    "\n",
    "# Calculate the average weekly event count by user for every page\n",
    "pages = list(events.select('page').distinct().toPandas()['page'])\n",
    "for page in pages:        \n",
    "    page_feature = events \\\n",
    "        .withColumn(page, when(col('page') == page, 1).otherwise(0)) \\\n",
    "        .withColumn(\"week\", week_func(events.ts)) \\\n",
    "        .groupby('userId', 'week') \\\n",
    "        .agg(Fsum(page).alias('sum')) \\\n",
    "        .groupby('userId') \\\n",
    "        .agg(avg('sum').alias(\"weekly_\" + page.replace(\" \", \"\")))\n",
    "    calc_features = calc_features.join(page_feature, on='userId', how='left').na.fill(0)"
   ]
  },
  {
   "cell_type": "code",
   "execution_count": 65,
   "metadata": {},
   "outputs": [
    {
     "data": {
      "text/html": [
       "<div>\n",
       "<style scoped>\n",
       "    .dataframe tbody tr th:only-of-type {\n",
       "        vertical-align: middle;\n",
       "    }\n",
       "\n",
       "    .dataframe tbody tr th {\n",
       "        vertical-align: top;\n",
       "    }\n",
       "\n",
       "    .dataframe thead th {\n",
       "        text-align: right;\n",
       "    }\n",
       "</style>\n",
       "<table border=\"1\" class=\"dataframe\">\n",
       "  <thead>\n",
       "    <tr style=\"text-align: right;\">\n",
       "      <th></th>\n",
       "      <th>userId</th>\n",
       "      <th>count</th>\n",
       "      <th>weekly_Cancel</th>\n",
       "      <th>weekly_SubmitDowngrade</th>\n",
       "      <th>weekly_ThumbsDown</th>\n",
       "      <th>weekly_Home</th>\n",
       "      <th>weekly_Downgrade</th>\n",
       "      <th>weekly_RollAdvert</th>\n",
       "      <th>weekly_Logout</th>\n",
       "      <th>weekly_SaveSettings</th>\n",
       "      <th>...</th>\n",
       "      <th>weekly_About</th>\n",
       "      <th>weekly_Settings</th>\n",
       "      <th>weekly_AddtoPlaylist</th>\n",
       "      <th>weekly_AddFriend</th>\n",
       "      <th>weekly_NextSong</th>\n",
       "      <th>weekly_ThumbsUp</th>\n",
       "      <th>weekly_Help</th>\n",
       "      <th>weekly_Upgrade</th>\n",
       "      <th>weekly_Error</th>\n",
       "      <th>weekly_SubmitUpgrade</th>\n",
       "    </tr>\n",
       "  </thead>\n",
       "  <tbody>\n",
       "    <tr>\n",
       "      <td>0</td>\n",
       "      <td>100010</td>\n",
       "      <td>381</td>\n",
       "      <td>0.000000</td>\n",
       "      <td>0.0</td>\n",
       "      <td>1.250000</td>\n",
       "      <td>2.750000</td>\n",
       "      <td>0.000000</td>\n",
       "      <td>13.000000</td>\n",
       "      <td>1.250000</td>\n",
       "      <td>0.000000</td>\n",
       "      <td>...</td>\n",
       "      <td>0.250000</td>\n",
       "      <td>0.000000</td>\n",
       "      <td>1.750000</td>\n",
       "      <td>1.000000</td>\n",
       "      <td>68.750000</td>\n",
       "      <td>4.250000</td>\n",
       "      <td>0.500000</td>\n",
       "      <td>0.5</td>\n",
       "      <td>0.000000</td>\n",
       "      <td>0.000</td>\n",
       "    </tr>\n",
       "    <tr>\n",
       "      <td>1</td>\n",
       "      <td>200002</td>\n",
       "      <td>474</td>\n",
       "      <td>0.000000</td>\n",
       "      <td>0.0</td>\n",
       "      <td>1.500000</td>\n",
       "      <td>5.000000</td>\n",
       "      <td>1.250000</td>\n",
       "      <td>1.750000</td>\n",
       "      <td>1.250000</td>\n",
       "      <td>0.000000</td>\n",
       "      <td>...</td>\n",
       "      <td>0.750000</td>\n",
       "      <td>0.750000</td>\n",
       "      <td>2.000000</td>\n",
       "      <td>1.000000</td>\n",
       "      <td>96.750000</td>\n",
       "      <td>5.250000</td>\n",
       "      <td>0.500000</td>\n",
       "      <td>0.5</td>\n",
       "      <td>0.000000</td>\n",
       "      <td>0.250</td>\n",
       "    </tr>\n",
       "    <tr>\n",
       "      <td>2</td>\n",
       "      <td>125</td>\n",
       "      <td>11</td>\n",
       "      <td>1.000000</td>\n",
       "      <td>0.0</td>\n",
       "      <td>0.000000</td>\n",
       "      <td>0.000000</td>\n",
       "      <td>0.000000</td>\n",
       "      <td>1.000000</td>\n",
       "      <td>0.000000</td>\n",
       "      <td>0.000000</td>\n",
       "      <td>...</td>\n",
       "      <td>0.000000</td>\n",
       "      <td>0.000000</td>\n",
       "      <td>0.000000</td>\n",
       "      <td>0.000000</td>\n",
       "      <td>8.000000</td>\n",
       "      <td>0.000000</td>\n",
       "      <td>0.000000</td>\n",
       "      <td>0.0</td>\n",
       "      <td>0.000000</td>\n",
       "      <td>0.000</td>\n",
       "    </tr>\n",
       "    <tr>\n",
       "      <td>3</td>\n",
       "      <td>124</td>\n",
       "      <td>4825</td>\n",
       "      <td>0.000000</td>\n",
       "      <td>0.0</td>\n",
       "      <td>4.555556</td>\n",
       "      <td>19.555556</td>\n",
       "      <td>4.555556</td>\n",
       "      <td>0.444444</td>\n",
       "      <td>6.555556</td>\n",
       "      <td>0.666667</td>\n",
       "      <td>...</td>\n",
       "      <td>0.777778</td>\n",
       "      <td>2.222222</td>\n",
       "      <td>13.111111</td>\n",
       "      <td>8.222222</td>\n",
       "      <td>453.222222</td>\n",
       "      <td>19.000000</td>\n",
       "      <td>2.555556</td>\n",
       "      <td>0.0</td>\n",
       "      <td>0.666667</td>\n",
       "      <td>0.000</td>\n",
       "    </tr>\n",
       "    <tr>\n",
       "      <td>4</td>\n",
       "      <td>51</td>\n",
       "      <td>2464</td>\n",
       "      <td>0.333333</td>\n",
       "      <td>0.0</td>\n",
       "      <td>7.000000</td>\n",
       "      <td>25.000000</td>\n",
       "      <td>7.666667</td>\n",
       "      <td>0.000000</td>\n",
       "      <td>8.000000</td>\n",
       "      <td>0.333333</td>\n",
       "      <td>...</td>\n",
       "      <td>0.666667</td>\n",
       "      <td>4.000000</td>\n",
       "      <td>17.333333</td>\n",
       "      <td>9.333333</td>\n",
       "      <td>703.666667</td>\n",
       "      <td>33.333333</td>\n",
       "      <td>4.000000</td>\n",
       "      <td>0.0</td>\n",
       "      <td>0.333333</td>\n",
       "      <td>0.000</td>\n",
       "    </tr>\n",
       "    <tr>\n",
       "      <td>...</td>\n",
       "      <td>...</td>\n",
       "      <td>...</td>\n",
       "      <td>...</td>\n",
       "      <td>...</td>\n",
       "      <td>...</td>\n",
       "      <td>...</td>\n",
       "      <td>...</td>\n",
       "      <td>...</td>\n",
       "      <td>...</td>\n",
       "      <td>...</td>\n",
       "      <td>...</td>\n",
       "      <td>...</td>\n",
       "      <td>...</td>\n",
       "      <td>...</td>\n",
       "      <td>...</td>\n",
       "      <td>...</td>\n",
       "      <td>...</td>\n",
       "      <td>...</td>\n",
       "      <td>...</td>\n",
       "      <td>...</td>\n",
       "      <td>...</td>\n",
       "    </tr>\n",
       "    <tr>\n",
       "      <td>220</td>\n",
       "      <td>45</td>\n",
       "      <td>1776</td>\n",
       "      <td>0.000000</td>\n",
       "      <td>0.0</td>\n",
       "      <td>1.625000</td>\n",
       "      <td>8.125000</td>\n",
       "      <td>2.250000</td>\n",
       "      <td>1.625000</td>\n",
       "      <td>2.375000</td>\n",
       "      <td>0.500000</td>\n",
       "      <td>...</td>\n",
       "      <td>0.375000</td>\n",
       "      <td>1.875000</td>\n",
       "      <td>5.375000</td>\n",
       "      <td>2.750000</td>\n",
       "      <td>185.500000</td>\n",
       "      <td>8.375000</td>\n",
       "      <td>0.625000</td>\n",
       "      <td>0.5</td>\n",
       "      <td>0.000000</td>\n",
       "      <td>0.125</td>\n",
       "    </tr>\n",
       "    <tr>\n",
       "      <td>221</td>\n",
       "      <td>57</td>\n",
       "      <td>112</td>\n",
       "      <td>0.000000</td>\n",
       "      <td>0.0</td>\n",
       "      <td>1.000000</td>\n",
       "      <td>2.000000</td>\n",
       "      <td>0.000000</td>\n",
       "      <td>3.000000</td>\n",
       "      <td>1.000000</td>\n",
       "      <td>0.500000</td>\n",
       "      <td>...</td>\n",
       "      <td>0.000000</td>\n",
       "      <td>0.500000</td>\n",
       "      <td>0.000000</td>\n",
       "      <td>0.000000</td>\n",
       "      <td>46.000000</td>\n",
       "      <td>1.500000</td>\n",
       "      <td>0.500000</td>\n",
       "      <td>0.0</td>\n",
       "      <td>0.000000</td>\n",
       "      <td>0.000</td>\n",
       "    </tr>\n",
       "    <tr>\n",
       "      <td>222</td>\n",
       "      <td>200021</td>\n",
       "      <td>1502</td>\n",
       "      <td>0.200000</td>\n",
       "      <td>0.0</td>\n",
       "      <td>7.000000</td>\n",
       "      <td>10.800000</td>\n",
       "      <td>5.200000</td>\n",
       "      <td>2.200000</td>\n",
       "      <td>4.000000</td>\n",
       "      <td>0.400000</td>\n",
       "      <td>...</td>\n",
       "      <td>0.600000</td>\n",
       "      <td>1.800000</td>\n",
       "      <td>6.000000</td>\n",
       "      <td>3.800000</td>\n",
       "      <td>245.400000</td>\n",
       "      <td>11.000000</td>\n",
       "      <td>0.800000</td>\n",
       "      <td>0.6</td>\n",
       "      <td>0.200000</td>\n",
       "      <td>0.200</td>\n",
       "    </tr>\n",
       "    <tr>\n",
       "      <td>223</td>\n",
       "      <td>119</td>\n",
       "      <td>223</td>\n",
       "      <td>0.000000</td>\n",
       "      <td>0.0</td>\n",
       "      <td>0.200000</td>\n",
       "      <td>2.200000</td>\n",
       "      <td>0.000000</td>\n",
       "      <td>1.800000</td>\n",
       "      <td>0.400000</td>\n",
       "      <td>0.200000</td>\n",
       "      <td>...</td>\n",
       "      <td>0.200000</td>\n",
       "      <td>0.600000</td>\n",
       "      <td>1.000000</td>\n",
       "      <td>0.800000</td>\n",
       "      <td>34.600000</td>\n",
       "      <td>1.400000</td>\n",
       "      <td>0.600000</td>\n",
       "      <td>0.4</td>\n",
       "      <td>0.200000</td>\n",
       "      <td>0.000</td>\n",
       "    </tr>\n",
       "    <tr>\n",
       "      <td>224</td>\n",
       "      <td>100001</td>\n",
       "      <td>187</td>\n",
       "      <td>1.000000</td>\n",
       "      <td>0.0</td>\n",
       "      <td>2.000000</td>\n",
       "      <td>11.000000</td>\n",
       "      <td>0.000000</td>\n",
       "      <td>14.000000</td>\n",
       "      <td>7.000000</td>\n",
       "      <td>0.000000</td>\n",
       "      <td>...</td>\n",
       "      <td>0.000000</td>\n",
       "      <td>1.000000</td>\n",
       "      <td>3.000000</td>\n",
       "      <td>2.000000</td>\n",
       "      <td>133.000000</td>\n",
       "      <td>8.000000</td>\n",
       "      <td>1.000000</td>\n",
       "      <td>2.0</td>\n",
       "      <td>1.000000</td>\n",
       "      <td>0.000</td>\n",
       "    </tr>\n",
       "  </tbody>\n",
       "</table>\n",
       "<p>225 rows × 21 columns</p>\n",
       "</div>"
      ],
      "text/plain": [
       "     userId  count  weekly_Cancel  weekly_SubmitDowngrade  weekly_ThumbsDown  \\\n",
       "0    100010    381       0.000000                     0.0           1.250000   \n",
       "1    200002    474       0.000000                     0.0           1.500000   \n",
       "2       125     11       1.000000                     0.0           0.000000   \n",
       "3       124   4825       0.000000                     0.0           4.555556   \n",
       "4        51   2464       0.333333                     0.0           7.000000   \n",
       "..      ...    ...            ...                     ...                ...   \n",
       "220      45   1776       0.000000                     0.0           1.625000   \n",
       "221      57    112       0.000000                     0.0           1.000000   \n",
       "222  200021   1502       0.200000                     0.0           7.000000   \n",
       "223     119    223       0.000000                     0.0           0.200000   \n",
       "224  100001    187       1.000000                     0.0           2.000000   \n",
       "\n",
       "     weekly_Home  weekly_Downgrade  weekly_RollAdvert  weekly_Logout  \\\n",
       "0       2.750000          0.000000          13.000000       1.250000   \n",
       "1       5.000000          1.250000           1.750000       1.250000   \n",
       "2       0.000000          0.000000           1.000000       0.000000   \n",
       "3      19.555556          4.555556           0.444444       6.555556   \n",
       "4      25.000000          7.666667           0.000000       8.000000   \n",
       "..           ...               ...                ...            ...   \n",
       "220     8.125000          2.250000           1.625000       2.375000   \n",
       "221     2.000000          0.000000           3.000000       1.000000   \n",
       "222    10.800000          5.200000           2.200000       4.000000   \n",
       "223     2.200000          0.000000           1.800000       0.400000   \n",
       "224    11.000000          0.000000          14.000000       7.000000   \n",
       "\n",
       "     weekly_SaveSettings  ...  weekly_About  weekly_Settings  \\\n",
       "0               0.000000  ...      0.250000         0.000000   \n",
       "1               0.000000  ...      0.750000         0.750000   \n",
       "2               0.000000  ...      0.000000         0.000000   \n",
       "3               0.666667  ...      0.777778         2.222222   \n",
       "4               0.333333  ...      0.666667         4.000000   \n",
       "..                   ...  ...           ...              ...   \n",
       "220             0.500000  ...      0.375000         1.875000   \n",
       "221             0.500000  ...      0.000000         0.500000   \n",
       "222             0.400000  ...      0.600000         1.800000   \n",
       "223             0.200000  ...      0.200000         0.600000   \n",
       "224             0.000000  ...      0.000000         1.000000   \n",
       "\n",
       "     weekly_AddtoPlaylist  weekly_AddFriend  weekly_NextSong  weekly_ThumbsUp  \\\n",
       "0                1.750000          1.000000        68.750000         4.250000   \n",
       "1                2.000000          1.000000        96.750000         5.250000   \n",
       "2                0.000000          0.000000         8.000000         0.000000   \n",
       "3               13.111111          8.222222       453.222222        19.000000   \n",
       "4               17.333333          9.333333       703.666667        33.333333   \n",
       "..                    ...               ...              ...              ...   \n",
       "220              5.375000          2.750000       185.500000         8.375000   \n",
       "221              0.000000          0.000000        46.000000         1.500000   \n",
       "222              6.000000          3.800000       245.400000        11.000000   \n",
       "223              1.000000          0.800000        34.600000         1.400000   \n",
       "224              3.000000          2.000000       133.000000         8.000000   \n",
       "\n",
       "     weekly_Help  weekly_Upgrade  weekly_Error  weekly_SubmitUpgrade  \n",
       "0       0.500000             0.5      0.000000                 0.000  \n",
       "1       0.500000             0.5      0.000000                 0.250  \n",
       "2       0.000000             0.0      0.000000                 0.000  \n",
       "3       2.555556             0.0      0.666667                 0.000  \n",
       "4       4.000000             0.0      0.333333                 0.000  \n",
       "..           ...             ...           ...                   ...  \n",
       "220     0.625000             0.5      0.000000                 0.125  \n",
       "221     0.500000             0.0      0.000000                 0.000  \n",
       "222     0.800000             0.6      0.200000                 0.200  \n",
       "223     0.600000             0.4      0.200000                 0.000  \n",
       "224     1.000000             2.0      1.000000                 0.000  \n",
       "\n",
       "[225 rows x 21 columns]"
      ]
     },
     "execution_count": 65,
     "metadata": {},
     "output_type": "execute_result"
    }
   ],
   "source": [
    "calc_features.toPandas()"
   ]
  },
  {
   "cell_type": "code",
   "execution_count": 67,
   "metadata": {},
   "outputs": [],
   "source": [
    "def create_calculated_features(events):\n",
    "    '''\n",
    "    Parameters: \n",
    "        events (spark dataframe) - The dataframe that holds the events\n",
    "\n",
    "    Return:\n",
    "        calc_features (spark dataframe) - The events dataframe grouped by userId including calculated features based on all user events\n",
    "    '''\n",
    "    # Create base df with all userIds to join the calculated features with\n",
    "    calc_features = events.groupBy('userId').count()\n",
    "\n",
    "    # Calculate the average weekly event count by user for every page\n",
    "    pages = list(events.select('page').distinct().toPandas()['page'])\n",
    "    for page in pages:        \n",
    "        page_feature = events \\\n",
    "            .withColumn(page, when(col('page') == page, 1).otherwise(0)) \\\n",
    "            .withColumn(\"week\", week_func(events.ts)) \\\n",
    "            .groupby('userId', 'week') \\\n",
    "            .agg(Fsum(page).alias('sum')) \\\n",
    "            .groupby('userId') \\\n",
    "            .agg(avg('sum').alias(\"weekly_\" + page.replace(\" \", \"\")))\n",
    "        calc_features = calc_features.join(page_feature, on='userId', how='left').na.fill(0)\n",
    "    \n",
    "    # Remove count column, as it has only been used to generate the base df\n",
    "    calc_features = calc_features.drop('count')\n",
    "\n",
    "    # Calculate boolean variable whether or not the user has already downgraded\n",
    "    downgraded = events.withColumn('downgraded', when(col('page') == 'Submit Downgrade', 1).otherwise(0)) \\\n",
    "        .groupby('userId') \\\n",
    "        .agg(Fmax('downgraded').alias('downgraded'))\n",
    "    \n",
    "    # Calculate the average count of songs per session by user\n",
    "    songs_per_session = events.filter('page == \"NextSong\"') \\\n",
    "        .groupby(['userId', 'sessionId']) \\\n",
    "        .agg(count('page').alias('count')) \\\n",
    "        .groupby('userId') \\\n",
    "        .agg(avg('count').alias('session_songs'))\n",
    "\n",
    "    # Calculate the average daily length listened to by user\n",
    "    length_per_day = events.filter('page == \"NextSong\"') \\\n",
    "        .withColumn(\"date\", datetime_func(events.ts)) \\\n",
    "        .groupby(['userId', 'date']) \\\n",
    "        .agg(Fsum('length').alias('length')) \\\n",
    "        .groupby('userId') \\\n",
    "        .agg(avg('length').alias('daily_length'))\n",
    "    \n",
    "    # Calculate the average daily count of distinct artists listened to by user\n",
    "    artist_per_day = events.filter('page == \"NextSong\"') \\\n",
    "        .withColumn(\"date\", datetime_func(events.ts)) \\\n",
    "        .groupby(['userId', 'date']) \\\n",
    "        .agg(countDistinct('artist').alias('artists')) \\\n",
    "        .groupby(['userId']) \\\n",
    "        .agg(avg('artists').alias('daily_artists'))\n",
    "\n",
    "    # Calculate the average weekly active days by user\n",
    "    active_weekly_days = events.withColumn(\"date\", datetime_func(events.ts)) \\\n",
    "        .withColumn(\"week\", week_func(events.ts)) \\\n",
    "        .groupby(['userId', 'week', 'date']) \\\n",
    "        .agg(count('page').alias('daily_events')) \\\n",
    "        .groupby(['userId', 'week']) \\\n",
    "        .agg(avg('daily_events').alias('days_per_week')) \\\n",
    "        .groupby('userId') \\\n",
    "        .agg(avg('days_per_week').alias('days_per_week'))\n",
    "    \n",
    "    # Calculate the number of days since registration\n",
    "    reg_days = events.groupby('userId', 'registration') \\\n",
    "        .agg(Fmax('ts').alias('maxTs')) \\\n",
    "        .withColumn('days_since_reg', (col('maxTs') - col('registration'))/86400/1000) \\\n",
    "        .groupby('userId') \\\n",
    "        .agg(Fmax('days_since_reg').alias('days_since_reg'))\n",
    "    \n",
    "    # Join all feature dataframes\n",
    "    for feat in [downgraded,songs_per_session,length_per_day, artist_per_day, active_weekly_days, reg_days]:\n",
    "        calc_features = calc_features.join(feat, on='userId', how='left').na.fill(0)\n",
    "\n",
    "    return calc_features"
   ]
  },
  {
   "cell_type": "markdown",
   "metadata": {},
   "source": [
    "*Comment: Possible improvements:*\n",
    "- Using median instead of mean"
   ]
  },
  {
   "cell_type": "markdown",
   "metadata": {},
   "source": [
    "**Create Features in one Step**"
   ]
  },
  {
   "cell_type": "code",
   "execution_count": 70,
   "metadata": {},
   "outputs": [],
   "source": [
    "def create_features(events):\n",
    "    '''\n",
    "    Parameters: \n",
    "        events (spark dataframe) - The dataframe that holds the events\n",
    "\n",
    "    Return:\n",
    "        feature_df (spark dataframe) - The dataframe that holds all categorical and calculated features without userId\n",
    "        cat_columns (String array) - The names of all categorical columns\n",
    "    '''\n",
    "    # Create feature sets\n",
    "    cat_features = create_categorical_features(events)\n",
    "    calc_features = create_calculated_features(events)\n",
    "    \n",
    "    # Join categorical and calculated features\n",
    "    feature_df = cat_features.join(calc_features, cat_features.userId == calc_features.userId, how='inner')\n",
    "    \n",
    "    # Remove userId, which we don't want to keep as feature\n",
    "    feature_df = feature_df.drop('userId')\n",
    "    \n",
    "    # Extract column names of categorical features\n",
    "    cat_columns = cat_features.columns[1:]\n",
    "    \n",
    "    return feature_df, cat_columns"
   ]
  },
  {
   "cell_type": "code",
   "execution_count": 71,
   "metadata": {},
   "outputs": [],
   "source": [
    "feature_df, cat_columns = create_features(events)"
   ]
  },
  {
   "cell_type": "code",
   "execution_count": 72,
   "metadata": {},
   "outputs": [
    {
     "data": {
      "text/html": [
       "<div>\n",
       "<style scoped>\n",
       "    .dataframe tbody tr th:only-of-type {\n",
       "        vertical-align: middle;\n",
       "    }\n",
       "\n",
       "    .dataframe tbody tr th {\n",
       "        vertical-align: top;\n",
       "    }\n",
       "\n",
       "    .dataframe thead th {\n",
       "        text-align: right;\n",
       "    }\n",
       "</style>\n",
       "<table border=\"1\" class=\"dataframe\">\n",
       "  <thead>\n",
       "    <tr style=\"text-align: right;\">\n",
       "      <th></th>\n",
       "      <th>gender</th>\n",
       "      <th>level</th>\n",
       "      <th>browser</th>\n",
       "      <th>browser_version</th>\n",
       "      <th>os</th>\n",
       "      <th>os_version</th>\n",
       "      <th>churn</th>\n",
       "      <th>state</th>\n",
       "      <th>weekly_Cancel</th>\n",
       "      <th>weekly_SubmitDowngrade</th>\n",
       "      <th>...</th>\n",
       "      <th>weekly_Help</th>\n",
       "      <th>weekly_Upgrade</th>\n",
       "      <th>weekly_Error</th>\n",
       "      <th>weekly_SubmitUpgrade</th>\n",
       "      <th>downgraded</th>\n",
       "      <th>session_songs</th>\n",
       "      <th>daily_length</th>\n",
       "      <th>daily_artists</th>\n",
       "      <th>days_per_week</th>\n",
       "      <th>reg_days</th>\n",
       "    </tr>\n",
       "  </thead>\n",
       "  <tbody>\n",
       "    <tr>\n",
       "      <td>0</td>\n",
       "      <td>F</td>\n",
       "      <td>free</td>\n",
       "      <td>Mobile Safari</td>\n",
       "      <td>7.0</td>\n",
       "      <td>iOS</td>\n",
       "      <td>7.1.2</td>\n",
       "      <td>0</td>\n",
       "      <td>CT</td>\n",
       "      <td>0.000000</td>\n",
       "      <td>0.0</td>\n",
       "      <td>...</td>\n",
       "      <td>0.500000</td>\n",
       "      <td>0.5</td>\n",
       "      <td>0.000000</td>\n",
       "      <td>0.000</td>\n",
       "      <td>0</td>\n",
       "      <td>39.285714</td>\n",
       "      <td>9562.985336</td>\n",
       "      <td>38.571429</td>\n",
       "      <td>51.583333</td>\n",
       "      <td>55.643657</td>\n",
       "    </tr>\n",
       "    <tr>\n",
       "      <td>1</td>\n",
       "      <td>M</td>\n",
       "      <td>paid</td>\n",
       "      <td>Mobile Safari</td>\n",
       "      <td>7.0</td>\n",
       "      <td>iOS</td>\n",
       "      <td>7.1</td>\n",
       "      <td>0</td>\n",
       "      <td>IL-IN-WI</td>\n",
       "      <td>0.000000</td>\n",
       "      <td>0.0</td>\n",
       "      <td>...</td>\n",
       "      <td>0.500000</td>\n",
       "      <td>0.5</td>\n",
       "      <td>0.000000</td>\n",
       "      <td>0.250</td>\n",
       "      <td>0</td>\n",
       "      <td>64.500000</td>\n",
       "      <td>11751.109492</td>\n",
       "      <td>46.875000</td>\n",
       "      <td>59.250000</td>\n",
       "      <td>70.074630</td>\n",
       "    </tr>\n",
       "    <tr>\n",
       "      <td>2</td>\n",
       "      <td>M</td>\n",
       "      <td>free</td>\n",
       "      <td>Chrome</td>\n",
       "      <td>36.0.1985</td>\n",
       "      <td>Mac OS X</td>\n",
       "      <td>10.9.4</td>\n",
       "      <td>1</td>\n",
       "      <td>TX</td>\n",
       "      <td>1.000000</td>\n",
       "      <td>0.0</td>\n",
       "      <td>...</td>\n",
       "      <td>0.000000</td>\n",
       "      <td>0.0</td>\n",
       "      <td>0.000000</td>\n",
       "      <td>0.000</td>\n",
       "      <td>0</td>\n",
       "      <td>8.000000</td>\n",
       "      <td>2089.113100</td>\n",
       "      <td>8.000000</td>\n",
       "      <td>11.000000</td>\n",
       "      <td>71.316887</td>\n",
       "    </tr>\n",
       "    <tr>\n",
       "      <td>3</td>\n",
       "      <td>F</td>\n",
       "      <td>paid</td>\n",
       "      <td>Chrome</td>\n",
       "      <td>36.0.1985</td>\n",
       "      <td>Mac OS X</td>\n",
       "      <td>10.9.4</td>\n",
       "      <td>0</td>\n",
       "      <td>NJ</td>\n",
       "      <td>0.000000</td>\n",
       "      <td>0.0</td>\n",
       "      <td>...</td>\n",
       "      <td>2.555556</td>\n",
       "      <td>0.0</td>\n",
       "      <td>0.666667</td>\n",
       "      <td>0.000</td>\n",
       "      <td>0</td>\n",
       "      <td>145.678571</td>\n",
       "      <td>28923.202651</td>\n",
       "      <td>108.514286</td>\n",
       "      <td>132.346296</td>\n",
       "      <td>131.555914</td>\n",
       "    </tr>\n",
       "    <tr>\n",
       "      <td>4</td>\n",
       "      <td>M</td>\n",
       "      <td>paid</td>\n",
       "      <td>Chrome</td>\n",
       "      <td>36.0.1985</td>\n",
       "      <td>Windows</td>\n",
       "      <td>7</td>\n",
       "      <td>1</td>\n",
       "      <td>KY</td>\n",
       "      <td>0.333333</td>\n",
       "      <td>0.0</td>\n",
       "      <td>...</td>\n",
       "      <td>4.000000</td>\n",
       "      <td>0.0</td>\n",
       "      <td>0.333333</td>\n",
       "      <td>0.000</td>\n",
       "      <td>0</td>\n",
       "      <td>211.100000</td>\n",
       "      <td>37376.845914</td>\n",
       "      <td>138.642857</td>\n",
       "      <td>176.706349</td>\n",
       "      <td>19.455845</td>\n",
       "    </tr>\n",
       "    <tr>\n",
       "      <td>...</td>\n",
       "      <td>...</td>\n",
       "      <td>...</td>\n",
       "      <td>...</td>\n",
       "      <td>...</td>\n",
       "      <td>...</td>\n",
       "      <td>...</td>\n",
       "      <td>...</td>\n",
       "      <td>...</td>\n",
       "      <td>...</td>\n",
       "      <td>...</td>\n",
       "      <td>...</td>\n",
       "      <td>...</td>\n",
       "      <td>...</td>\n",
       "      <td>...</td>\n",
       "      <td>...</td>\n",
       "      <td>...</td>\n",
       "      <td>...</td>\n",
       "      <td>...</td>\n",
       "      <td>...</td>\n",
       "      <td>...</td>\n",
       "      <td>...</td>\n",
       "    </tr>\n",
       "    <tr>\n",
       "      <td>220</td>\n",
       "      <td>F</td>\n",
       "      <td>paid</td>\n",
       "      <td>Chrome</td>\n",
       "      <td>36.0.1985</td>\n",
       "      <td>Windows</td>\n",
       "      <td>8.1</td>\n",
       "      <td>0</td>\n",
       "      <td>GA</td>\n",
       "      <td>0.000000</td>\n",
       "      <td>0.0</td>\n",
       "      <td>...</td>\n",
       "      <td>0.625000</td>\n",
       "      <td>0.5</td>\n",
       "      <td>0.000000</td>\n",
       "      <td>0.125</td>\n",
       "      <td>0</td>\n",
       "      <td>98.933333</td>\n",
       "      <td>18356.911348</td>\n",
       "      <td>69.000000</td>\n",
       "      <td>102.541667</td>\n",
       "      <td>81.083183</td>\n",
       "    </tr>\n",
       "    <tr>\n",
       "      <td>221</td>\n",
       "      <td>M</td>\n",
       "      <td>free</td>\n",
       "      <td>Chrome</td>\n",
       "      <td>37.0.2062</td>\n",
       "      <td>Mac OS X</td>\n",
       "      <td>10.9.4</td>\n",
       "      <td>0</td>\n",
       "      <td>CA</td>\n",
       "      <td>0.000000</td>\n",
       "      <td>0.0</td>\n",
       "      <td>...</td>\n",
       "      <td>0.500000</td>\n",
       "      <td>0.0</td>\n",
       "      <td>0.000000</td>\n",
       "      <td>0.000</td>\n",
       "      <td>0</td>\n",
       "      <td>46.000000</td>\n",
       "      <td>7078.673443</td>\n",
       "      <td>29.666667</td>\n",
       "      <td>40.500000</td>\n",
       "      <td>87.793368</td>\n",
       "    </tr>\n",
       "    <tr>\n",
       "      <td>222</td>\n",
       "      <td>F</td>\n",
       "      <td>paid</td>\n",
       "      <td>Firefox</td>\n",
       "      <td>31.0</td>\n",
       "      <td>Mac OS X</td>\n",
       "      <td>10.7</td>\n",
       "      <td>1</td>\n",
       "      <td>MI</td>\n",
       "      <td>0.200000</td>\n",
       "      <td>0.0</td>\n",
       "      <td>...</td>\n",
       "      <td>0.800000</td>\n",
       "      <td>0.6</td>\n",
       "      <td>0.200000</td>\n",
       "      <td>0.200</td>\n",
       "      <td>0</td>\n",
       "      <td>76.687500</td>\n",
       "      <td>16706.563920</td>\n",
       "      <td>65.500000</td>\n",
       "      <td>77.666667</td>\n",
       "      <td>70.664572</td>\n",
       "    </tr>\n",
       "    <tr>\n",
       "      <td>223</td>\n",
       "      <td>F</td>\n",
       "      <td>free</td>\n",
       "      <td>Chrome</td>\n",
       "      <td>36.0.1985</td>\n",
       "      <td>Windows</td>\n",
       "      <td>8</td>\n",
       "      <td>0</td>\n",
       "      <td>NC-SC</td>\n",
       "      <td>0.000000</td>\n",
       "      <td>0.0</td>\n",
       "      <td>...</td>\n",
       "      <td>0.600000</td>\n",
       "      <td>0.4</td>\n",
       "      <td>0.200000</td>\n",
       "      <td>0.000</td>\n",
       "      <td>0</td>\n",
       "      <td>28.833333</td>\n",
       "      <td>6388.278467</td>\n",
       "      <td>24.714286</td>\n",
       "      <td>29.133333</td>\n",
       "      <td>188.859271</td>\n",
       "    </tr>\n",
       "    <tr>\n",
       "      <td>224</td>\n",
       "      <td>F</td>\n",
       "      <td>free</td>\n",
       "      <td>Chrome</td>\n",
       "      <td>36.0.1985</td>\n",
       "      <td>Mac OS X</td>\n",
       "      <td>10.6.8</td>\n",
       "      <td>1</td>\n",
       "      <td>FL</td>\n",
       "      <td>1.000000</td>\n",
       "      <td>0.0</td>\n",
       "      <td>...</td>\n",
       "      <td>1.000000</td>\n",
       "      <td>2.0</td>\n",
       "      <td>1.000000</td>\n",
       "      <td>0.000</td>\n",
       "      <td>0</td>\n",
       "      <td>33.250000</td>\n",
       "      <td>17536.871075</td>\n",
       "      <td>65.000000</td>\n",
       "      <td>93.500000</td>\n",
       "      <td>44.800220</td>\n",
       "    </tr>\n",
       "  </tbody>\n",
       "</table>\n",
       "<p>225 rows × 33 columns</p>\n",
       "</div>"
      ],
      "text/plain": [
       "    gender level        browser browser_version        os os_version  churn  \\\n",
       "0        F  free  Mobile Safari             7.0       iOS      7.1.2      0   \n",
       "1        M  paid  Mobile Safari             7.0       iOS        7.1      0   \n",
       "2        M  free         Chrome       36.0.1985  Mac OS X     10.9.4      1   \n",
       "3        F  paid         Chrome       36.0.1985  Mac OS X     10.9.4      0   \n",
       "4        M  paid         Chrome       36.0.1985   Windows          7      1   \n",
       "..     ...   ...            ...             ...       ...        ...    ...   \n",
       "220      F  paid         Chrome       36.0.1985   Windows        8.1      0   \n",
       "221      M  free         Chrome       37.0.2062  Mac OS X     10.9.4      0   \n",
       "222      F  paid        Firefox            31.0  Mac OS X       10.7      1   \n",
       "223      F  free         Chrome       36.0.1985   Windows          8      0   \n",
       "224      F  free         Chrome       36.0.1985  Mac OS X     10.6.8      1   \n",
       "\n",
       "         state  weekly_Cancel  weekly_SubmitDowngrade  ...  weekly_Help  \\\n",
       "0           CT       0.000000                     0.0  ...     0.500000   \n",
       "1     IL-IN-WI       0.000000                     0.0  ...     0.500000   \n",
       "2           TX       1.000000                     0.0  ...     0.000000   \n",
       "3           NJ       0.000000                     0.0  ...     2.555556   \n",
       "4           KY       0.333333                     0.0  ...     4.000000   \n",
       "..         ...            ...                     ...  ...          ...   \n",
       "220         GA       0.000000                     0.0  ...     0.625000   \n",
       "221         CA       0.000000                     0.0  ...     0.500000   \n",
       "222         MI       0.200000                     0.0  ...     0.800000   \n",
       "223      NC-SC       0.000000                     0.0  ...     0.600000   \n",
       "224         FL       1.000000                     0.0  ...     1.000000   \n",
       "\n",
       "     weekly_Upgrade  weekly_Error  weekly_SubmitUpgrade  downgraded  \\\n",
       "0               0.5      0.000000                 0.000           0   \n",
       "1               0.5      0.000000                 0.250           0   \n",
       "2               0.0      0.000000                 0.000           0   \n",
       "3               0.0      0.666667                 0.000           0   \n",
       "4               0.0      0.333333                 0.000           0   \n",
       "..              ...           ...                   ...         ...   \n",
       "220             0.5      0.000000                 0.125           0   \n",
       "221             0.0      0.000000                 0.000           0   \n",
       "222             0.6      0.200000                 0.200           0   \n",
       "223             0.4      0.200000                 0.000           0   \n",
       "224             2.0      1.000000                 0.000           0   \n",
       "\n",
       "     session_songs  daily_length  daily_artists  days_per_week    reg_days  \n",
       "0        39.285714   9562.985336      38.571429      51.583333   55.643657  \n",
       "1        64.500000  11751.109492      46.875000      59.250000   70.074630  \n",
       "2         8.000000   2089.113100       8.000000      11.000000   71.316887  \n",
       "3       145.678571  28923.202651     108.514286     132.346296  131.555914  \n",
       "4       211.100000  37376.845914     138.642857     176.706349   19.455845  \n",
       "..             ...           ...            ...            ...         ...  \n",
       "220      98.933333  18356.911348      69.000000     102.541667   81.083183  \n",
       "221      46.000000   7078.673443      29.666667      40.500000   87.793368  \n",
       "222      76.687500  16706.563920      65.500000      77.666667   70.664572  \n",
       "223      28.833333   6388.278467      24.714286      29.133333  188.859271  \n",
       "224      33.250000  17536.871075      65.000000      93.500000   44.800220  \n",
       "\n",
       "[225 rows x 33 columns]"
      ]
     },
     "execution_count": 72,
     "metadata": {},
     "output_type": "execute_result"
    }
   ],
   "source": [
    "feature_df.toPandas()"
   ]
  },
  {
   "cell_type": "markdown",
   "metadata": {},
   "source": [
    "### Handel missing values"
   ]
  },
  {
   "cell_type": "code",
   "execution_count": 76,
   "metadata": {},
   "outputs": [
    {
     "name": "stdout",
     "output_type": "stream",
     "text": [
      "+------+-----+-------+---------------+---+----------+-----+-----+-------------+----------------------+-----------------+-----------+----------------+-----------------+-------------+-------------------+-------------------------------+------------+---------------+--------------------+----------------+---------------+---------------+-----------+--------------+------------+--------------------+----------+-------------+------------+-------------+-------------+--------+\n",
      "|gender|level|browser|browser_version| os|os_version|churn|state|weekly_Cancel|weekly_SubmitDowngrade|weekly_ThumbsDown|weekly_Home|weekly_Downgrade|weekly_RollAdvert|weekly_Logout|weekly_SaveSettings|weekly_CancellationConfirmation|weekly_About|weekly_Settings|weekly_AddtoPlaylist|weekly_AddFriend|weekly_NextSong|weekly_ThumbsUp|weekly_Help|weekly_Upgrade|weekly_Error|weekly_SubmitUpgrade|downgraded|session_songs|daily_length|daily_artists|days_per_week|reg_days|\n",
      "+------+-----+-------+---------------+---+----------+-----+-----+-------------+----------------------+-----------------+-----------+----------------+-----------------+-------------+-------------------+-------------------------------+------------+---------------+--------------------+----------------+---------------+---------------+-----------+--------------+------------+--------------------+----------+-------------+------------+-------------+-------------+--------+\n",
      "|     0|    0|      0|              0|  0|         0|    0|    0|            0|                     0|                0|          0|               0|                0|            0|                  0|                              0|           0|              0|                   0|               0|              0|              0|          0|             0|           0|                   0|         0|            0|           0|            0|            0|       0|\n",
      "+------+-----+-------+---------------+---+----------+-----+-----+-------------+----------------------+-----------------+-----------+----------------+-----------------+-------------+-------------------+-------------------------------+------------+---------------+--------------------+----------------+---------------+---------------+-----------+--------------+------------+--------------------+----------+-------------+------------+-------------+-------------+--------+\n",
      "\n"
     ]
    }
   ],
   "source": [
    "# Check for missing values\n",
    "feature_df.select([count(when(isnull(c), c)).alias(c) for c in feature_df.columns]).show()"
   ]
  },
  {
   "cell_type": "markdown",
   "metadata": {},
   "source": [
    "*Conclusion: Remove missing values*\n",
    "\n",
    "There are no null values present in the prepared features set, therefore no further steps are necessary."
   ]
  },
  {
   "cell_type": "markdown",
   "metadata": {},
   "source": [
    "# Modeling\n",
    "Split the full dataset into train, test, and validation sets. Test out several of the machine learning methods you learned. Evaluate the accuracy of the various models, tuning parameters as necessary. Determine your winning model based on test accuracy and report results on the validation set. Since the churned users are a fairly small subset, I suggest using F1 score as the metric to optimize."
   ]
  },
  {
   "cell_type": "code",
   "execution_count": null,
   "metadata": {},
   "outputs": [],
   "source": []
  },
  {
   "cell_type": "code",
   "execution_count": 114,
   "metadata": {},
   "outputs": [],
   "source": [
    "# Create Pipeline \n",
    "\n",
    "si = StringIndexer(inputCol='gender', outputCol='gender_index')\n",
    "ohe = OneHotEncoder(inputCol='gender_index',outputCol='gender_vec')\n",
    "si2 = StringIndexer(inputCol='browser', outputCol='browser_index')\n",
    "ohe2 = OneHotEncoder(inputCol='browser_index',outputCol='browser_vec')\n",
    "\n",
    "va = VectorAssembler(inputCols=['browser_vec','browser_index'], outputCol='features')\n",
    "\n",
    "pipe = Pipeline(stages=[si,si2,ohe,ohe2,va])\n",
    "model = pipe.fit(cat_features.select(['gender','browser'])).transform(cat_features.select(['gender','browser']))\n"
   ]
  },
  {
   "cell_type": "code",
   "execution_count": 116,
   "metadata": {},
   "outputs": [
    {
     "name": "stdout",
     "output_type": "stream",
     "text": [
      "+------+-------------+------------+-------------+-------------+-------------+-------------------+\n",
      "|gender|      browser|gender_index|browser_index|   gender_vec|  browser_vec|           features|\n",
      "+------+-------------+------------+-------------+-------------+-------------+-------------------+\n",
      "|     F|Mobile Safari|         1.0|          3.0|    (1,[],[])|(4,[3],[1.0])|(5,[3,4],[1.0,3.0])|\n",
      "|     M|Mobile Safari|         0.0|          3.0|(1,[0],[1.0])|(4,[3],[1.0])|(5,[3,4],[1.0,3.0])|\n",
      "|     M|       Chrome|         0.0|          0.0|(1,[0],[1.0])|(4,[0],[1.0])|      (5,[0],[1.0])|\n",
      "|     F|       Chrome|         1.0|          0.0|    (1,[],[])|(4,[0],[1.0])|      (5,[0],[1.0])|\n",
      "|     M|       Chrome|         0.0|          0.0|(1,[0],[1.0])|(4,[0],[1.0])|      (5,[0],[1.0])|\n",
      "|     M|      Firefox|         0.0|          1.0|(1,[0],[1.0])|(4,[1],[1.0])|(5,[1,4],[1.0,1.0])|\n",
      "|     M|       Chrome|         0.0|          0.0|(1,[0],[1.0])|(4,[0],[1.0])|      (5,[0],[1.0])|\n",
      "|     F|      Firefox|         1.0|          1.0|    (1,[],[])|(4,[1],[1.0])|(5,[1,4],[1.0,1.0])|\n",
      "|     F|       Chrome|         1.0|          0.0|    (1,[],[])|(4,[0],[1.0])|      (5,[0],[1.0])|\n",
      "|     M|       Chrome|         0.0|          0.0|(1,[0],[1.0])|(4,[0],[1.0])|      (5,[0],[1.0])|\n",
      "|     F|       Safari|         1.0|          2.0|    (1,[],[])|(4,[2],[1.0])|(5,[2,4],[1.0,2.0])|\n",
      "|     F|       Chrome|         1.0|          0.0|    (1,[],[])|(4,[0],[1.0])|      (5,[0],[1.0])|\n",
      "|     M|      Firefox|         0.0|          1.0|(1,[0],[1.0])|(4,[1],[1.0])|(5,[1,4],[1.0,1.0])|\n",
      "|     F|           IE|         1.0|          4.0|    (1,[],[])|    (4,[],[])|      (5,[4],[4.0])|\n",
      "|     M|Mobile Safari|         0.0|          3.0|(1,[0],[1.0])|(4,[3],[1.0])|(5,[3,4],[1.0,3.0])|\n",
      "|     F|       Safari|         1.0|          2.0|    (1,[],[])|(4,[2],[1.0])|(5,[2,4],[1.0,2.0])|\n",
      "|     M|       Safari|         0.0|          2.0|(1,[0],[1.0])|(4,[2],[1.0])|(5,[2,4],[1.0,2.0])|\n",
      "|     M|       Safari|         0.0|          2.0|(1,[0],[1.0])|(4,[2],[1.0])|(5,[2,4],[1.0,2.0])|\n",
      "|     F|       Chrome|         1.0|          0.0|    (1,[],[])|(4,[0],[1.0])|      (5,[0],[1.0])|\n",
      "|     M|      Firefox|         0.0|          1.0|(1,[0],[1.0])|(4,[1],[1.0])|(5,[1,4],[1.0,1.0])|\n",
      "+------+-------------+------------+-------------+-------------+-------------+-------------------+\n",
      "only showing top 20 rows\n",
      "\n"
     ]
    }
   ],
   "source": [
    "model.show()"
   ]
  },
  {
   "cell_type": "code",
   "execution_count": 121,
   "metadata": {},
   "outputs": [
    {
     "data": {
      "text/plain": [
       "['gender_vec',\n",
       " 'level_vec',\n",
       " 'browser_vec',\n",
       " 'browser_version_vec',\n",
       " 'os_vec',\n",
       " 'os_version_vec',\n",
       " 'churn_vec',\n",
       " 'state_vec']"
      ]
     },
     "execution_count": 121,
     "metadata": {},
     "output_type": "execute_result"
    }
   ],
   "source": [
    "dummy_columns"
   ]
  },
  {
   "cell_type": "code",
   "execution_count": 122,
   "metadata": {},
   "outputs": [
    {
     "ename": "IllegalArgumentException",
     "evalue": "'requirement failed: Cannot have an empty string for name.'",
     "output_type": "error",
     "traceback": [
      "\u001b[1;31m---------------------------------------------------------------------------\u001b[0m",
      "\u001b[1;31mPy4JJavaError\u001b[0m                             Traceback (most recent call last)",
      "\u001b[1;32m~\\Tools\\Anaconda\\envs\\spark\\lib\\site-packages\\pyspark\\sql\\utils.py\u001b[0m in \u001b[0;36mdeco\u001b[1;34m(*a, **kw)\u001b[0m\n\u001b[0;32m     62\u001b[0m         \u001b[1;32mtry\u001b[0m\u001b[1;33m:\u001b[0m\u001b[1;33m\u001b[0m\u001b[1;33m\u001b[0m\u001b[0m\n\u001b[1;32m---> 63\u001b[1;33m             \u001b[1;32mreturn\u001b[0m \u001b[0mf\u001b[0m\u001b[1;33m(\u001b[0m\u001b[1;33m*\u001b[0m\u001b[0ma\u001b[0m\u001b[1;33m,\u001b[0m \u001b[1;33m**\u001b[0m\u001b[0mkw\u001b[0m\u001b[1;33m)\u001b[0m\u001b[1;33m\u001b[0m\u001b[1;33m\u001b[0m\u001b[0m\n\u001b[0m\u001b[0;32m     64\u001b[0m         \u001b[1;32mexcept\u001b[0m \u001b[0mpy4j\u001b[0m\u001b[1;33m.\u001b[0m\u001b[0mprotocol\u001b[0m\u001b[1;33m.\u001b[0m\u001b[0mPy4JJavaError\u001b[0m \u001b[1;32mas\u001b[0m \u001b[0me\u001b[0m\u001b[1;33m:\u001b[0m\u001b[1;33m\u001b[0m\u001b[1;33m\u001b[0m\u001b[0m\n",
      "\u001b[1;32m~\\Tools\\Anaconda\\envs\\spark\\lib\\site-packages\\py4j\\protocol.py\u001b[0m in \u001b[0;36mget_return_value\u001b[1;34m(answer, gateway_client, target_id, name)\u001b[0m\n\u001b[0;32m    327\u001b[0m                     \u001b[1;34m\"An error occurred while calling {0}{1}{2}.\\n\"\u001b[0m\u001b[1;33m.\u001b[0m\u001b[1;33m\u001b[0m\u001b[1;33m\u001b[0m\u001b[0m\n\u001b[1;32m--> 328\u001b[1;33m                     format(target_id, \".\", name), value)\n\u001b[0m\u001b[0;32m    329\u001b[0m             \u001b[1;32melse\u001b[0m\u001b[1;33m:\u001b[0m\u001b[1;33m\u001b[0m\u001b[1;33m\u001b[0m\u001b[0m\n",
      "\u001b[1;31mPy4JJavaError\u001b[0m: An error occurred while calling o3805.transform.\n: java.lang.IllegalArgumentException: requirement failed: Cannot have an empty string for name.\r\n\tat scala.Predef$.require(Predef.scala:224)\r\n\tat org.apache.spark.ml.attribute.Attribute$$anonfun$5.apply(attributes.scala:33)\r\n\tat org.apache.spark.ml.attribute.Attribute$$anonfun$5.apply(attributes.scala:32)\r\n\tat scala.Option.foreach(Option.scala:257)\r\n\tat org.apache.spark.ml.attribute.Attribute.<init>(attributes.scala:32)\r\n\tat org.apache.spark.ml.attribute.BinaryAttribute.<init>(attributes.scala:501)\r\n\tat org.apache.spark.ml.attribute.BinaryAttribute.copy(attributes.scala:535)\r\n\tat org.apache.spark.ml.attribute.BinaryAttribute.withName(attributes.scala:513)\r\n\tat org.apache.spark.ml.feature.OneHotEncoderCommon$$anonfun$genOutputAttrGroup$1$$anonfun$8.apply(OneHotEncoderEstimator.scala:437)\r\n\tat org.apache.spark.ml.feature.OneHotEncoderCommon$$anonfun$genOutputAttrGroup$1$$anonfun$8.apply(OneHotEncoderEstimator.scala:436)\r\n\tat scala.collection.TraversableLike$$anonfun$map$1.apply(TraversableLike.scala:234)\r\n\tat scala.collection.TraversableLike$$anonfun$map$1.apply(TraversableLike.scala:234)\r\n\tat scala.collection.IndexedSeqOptimized$class.foreach(IndexedSeqOptimized.scala:33)\r\n\tat scala.collection.mutable.ArrayOps$ofRef.foreach(ArrayOps.scala:186)\r\n\tat scala.collection.TraversableLike$class.map(TraversableLike.scala:234)\r\n\tat scala.collection.mutable.ArrayOps$ofRef.map(ArrayOps.scala:186)\r\n\tat org.apache.spark.ml.feature.OneHotEncoderCommon$$anonfun$genOutputAttrGroup$1.apply(OneHotEncoderEstimator.scala:436)\r\n\tat org.apache.spark.ml.feature.OneHotEncoderCommon$$anonfun$genOutputAttrGroup$1.apply(OneHotEncoderEstimator.scala:435)\r\n\tat scala.Option.map(Option.scala:146)\r\n\tat org.apache.spark.ml.feature.OneHotEncoderCommon$.genOutputAttrGroup(OneHotEncoderEstimator.scala:435)\r\n\tat org.apache.spark.ml.feature.OneHotEncoderCommon$.transformOutputColumnSchema(OneHotEncoderEstimator.scala:466)\r\n\tat org.apache.spark.ml.feature.OneHotEncoder.transformSchema(OneHotEncoder.scala:93)\r\n\tat org.apache.spark.ml.feature.OneHotEncoder.transform(OneHotEncoder.scala:106)\r\n\tat sun.reflect.GeneratedMethodAccessor230.invoke(Unknown Source)\r\n\tat sun.reflect.DelegatingMethodAccessorImpl.invoke(Unknown Source)\r\n\tat java.lang.reflect.Method.invoke(Unknown Source)\r\n\tat py4j.reflection.MethodInvoker.invoke(MethodInvoker.java:244)\r\n\tat py4j.reflection.ReflectionEngine.invoke(ReflectionEngine.java:357)\r\n\tat py4j.Gateway.invoke(Gateway.java:282)\r\n\tat py4j.commands.AbstractCommand.invokeMethod(AbstractCommand.java:132)\r\n\tat py4j.commands.CallCommand.execute(CallCommand.java:79)\r\n\tat py4j.GatewayConnection.run(GatewayConnection.java:238)\r\n\tat java.lang.Thread.run(Unknown Source)\r\n",
      "\nDuring handling of the above exception, another exception occurred:\n",
      "\u001b[1;31mIllegalArgumentException\u001b[0m                  Traceback (most recent call last)",
      "\u001b[1;32m<ipython-input-122-fed7b9962f25>\u001b[0m in \u001b[0;36m<module>\u001b[1;34m\u001b[0m\n\u001b[0;32m     15\u001b[0m \u001b[1;33m\u001b[0m\u001b[0m\n\u001b[0;32m     16\u001b[0m \u001b[1;31m# Create model\u001b[0m\u001b[1;33m\u001b[0m\u001b[1;33m\u001b[0m\u001b[1;33m\u001b[0m\u001b[0m\n\u001b[1;32m---> 17\u001b[1;33m \u001b[0mmodel\u001b[0m \u001b[1;33m=\u001b[0m \u001b[0mpipe\u001b[0m\u001b[1;33m.\u001b[0m\u001b[0mfit\u001b[0m\u001b[1;33m(\u001b[0m\u001b[0mcat_features\u001b[0m\u001b[1;33m.\u001b[0m\u001b[0mdrop\u001b[0m\u001b[1;33m(\u001b[0m\u001b[1;34m'userId'\u001b[0m\u001b[1;33m)\u001b[0m\u001b[1;33m)\u001b[0m\u001b[1;33m.\u001b[0m\u001b[0mtransform\u001b[0m\u001b[1;33m(\u001b[0m\u001b[0mcat_features\u001b[0m\u001b[1;33m.\u001b[0m\u001b[0mdrop\u001b[0m\u001b[1;33m(\u001b[0m\u001b[1;34m'userId'\u001b[0m\u001b[1;33m)\u001b[0m\u001b[1;33m)\u001b[0m\u001b[1;33m\u001b[0m\u001b[1;33m\u001b[0m\u001b[0m\n\u001b[0m",
      "\u001b[1;32m~\\Tools\\Anaconda\\envs\\spark\\lib\\site-packages\\pyspark\\ml\\base.py\u001b[0m in \u001b[0;36mfit\u001b[1;34m(self, dataset, params)\u001b[0m\n\u001b[0;32m    130\u001b[0m                 \u001b[1;32mreturn\u001b[0m \u001b[0mself\u001b[0m\u001b[1;33m.\u001b[0m\u001b[0mcopy\u001b[0m\u001b[1;33m(\u001b[0m\u001b[0mparams\u001b[0m\u001b[1;33m)\u001b[0m\u001b[1;33m.\u001b[0m\u001b[0m_fit\u001b[0m\u001b[1;33m(\u001b[0m\u001b[0mdataset\u001b[0m\u001b[1;33m)\u001b[0m\u001b[1;33m\u001b[0m\u001b[1;33m\u001b[0m\u001b[0m\n\u001b[0;32m    131\u001b[0m             \u001b[1;32melse\u001b[0m\u001b[1;33m:\u001b[0m\u001b[1;33m\u001b[0m\u001b[1;33m\u001b[0m\u001b[0m\n\u001b[1;32m--> 132\u001b[1;33m                 \u001b[1;32mreturn\u001b[0m \u001b[0mself\u001b[0m\u001b[1;33m.\u001b[0m\u001b[0m_fit\u001b[0m\u001b[1;33m(\u001b[0m\u001b[0mdataset\u001b[0m\u001b[1;33m)\u001b[0m\u001b[1;33m\u001b[0m\u001b[1;33m\u001b[0m\u001b[0m\n\u001b[0m\u001b[0;32m    133\u001b[0m         \u001b[1;32melse\u001b[0m\u001b[1;33m:\u001b[0m\u001b[1;33m\u001b[0m\u001b[1;33m\u001b[0m\u001b[0m\n\u001b[0;32m    134\u001b[0m             raise ValueError(\"Params must be either a param map or a list/tuple of param maps, \"\n",
      "\u001b[1;32m~\\Tools\\Anaconda\\envs\\spark\\lib\\site-packages\\pyspark\\ml\\pipeline.py\u001b[0m in \u001b[0;36m_fit\u001b[1;34m(self, dataset)\u001b[0m\n\u001b[0;32m    105\u001b[0m                 \u001b[1;32mif\u001b[0m \u001b[0misinstance\u001b[0m\u001b[1;33m(\u001b[0m\u001b[0mstage\u001b[0m\u001b[1;33m,\u001b[0m \u001b[0mTransformer\u001b[0m\u001b[1;33m)\u001b[0m\u001b[1;33m:\u001b[0m\u001b[1;33m\u001b[0m\u001b[1;33m\u001b[0m\u001b[0m\n\u001b[0;32m    106\u001b[0m                     \u001b[0mtransformers\u001b[0m\u001b[1;33m.\u001b[0m\u001b[0mappend\u001b[0m\u001b[1;33m(\u001b[0m\u001b[0mstage\u001b[0m\u001b[1;33m)\u001b[0m\u001b[1;33m\u001b[0m\u001b[1;33m\u001b[0m\u001b[0m\n\u001b[1;32m--> 107\u001b[1;33m                     \u001b[0mdataset\u001b[0m \u001b[1;33m=\u001b[0m \u001b[0mstage\u001b[0m\u001b[1;33m.\u001b[0m\u001b[0mtransform\u001b[0m\u001b[1;33m(\u001b[0m\u001b[0mdataset\u001b[0m\u001b[1;33m)\u001b[0m\u001b[1;33m\u001b[0m\u001b[1;33m\u001b[0m\u001b[0m\n\u001b[0m\u001b[0;32m    108\u001b[0m                 \u001b[1;32melse\u001b[0m\u001b[1;33m:\u001b[0m  \u001b[1;31m# must be an Estimator\u001b[0m\u001b[1;33m\u001b[0m\u001b[1;33m\u001b[0m\u001b[0m\n\u001b[0;32m    109\u001b[0m                     \u001b[0mmodel\u001b[0m \u001b[1;33m=\u001b[0m \u001b[0mstage\u001b[0m\u001b[1;33m.\u001b[0m\u001b[0mfit\u001b[0m\u001b[1;33m(\u001b[0m\u001b[0mdataset\u001b[0m\u001b[1;33m)\u001b[0m\u001b[1;33m\u001b[0m\u001b[1;33m\u001b[0m\u001b[0m\n",
      "\u001b[1;32m~\\Tools\\Anaconda\\envs\\spark\\lib\\site-packages\\pyspark\\ml\\base.py\u001b[0m in \u001b[0;36mtransform\u001b[1;34m(self, dataset, params)\u001b[0m\n\u001b[0;32m    171\u001b[0m                 \u001b[1;32mreturn\u001b[0m \u001b[0mself\u001b[0m\u001b[1;33m.\u001b[0m\u001b[0mcopy\u001b[0m\u001b[1;33m(\u001b[0m\u001b[0mparams\u001b[0m\u001b[1;33m)\u001b[0m\u001b[1;33m.\u001b[0m\u001b[0m_transform\u001b[0m\u001b[1;33m(\u001b[0m\u001b[0mdataset\u001b[0m\u001b[1;33m)\u001b[0m\u001b[1;33m\u001b[0m\u001b[1;33m\u001b[0m\u001b[0m\n\u001b[0;32m    172\u001b[0m             \u001b[1;32melse\u001b[0m\u001b[1;33m:\u001b[0m\u001b[1;33m\u001b[0m\u001b[1;33m\u001b[0m\u001b[0m\n\u001b[1;32m--> 173\u001b[1;33m                 \u001b[1;32mreturn\u001b[0m \u001b[0mself\u001b[0m\u001b[1;33m.\u001b[0m\u001b[0m_transform\u001b[0m\u001b[1;33m(\u001b[0m\u001b[0mdataset\u001b[0m\u001b[1;33m)\u001b[0m\u001b[1;33m\u001b[0m\u001b[1;33m\u001b[0m\u001b[0m\n\u001b[0m\u001b[0;32m    174\u001b[0m         \u001b[1;32melse\u001b[0m\u001b[1;33m:\u001b[0m\u001b[1;33m\u001b[0m\u001b[1;33m\u001b[0m\u001b[0m\n\u001b[0;32m    175\u001b[0m             \u001b[1;32mraise\u001b[0m \u001b[0mValueError\u001b[0m\u001b[1;33m(\u001b[0m\u001b[1;34m\"Params must be a param map but got %s.\"\u001b[0m \u001b[1;33m%\u001b[0m \u001b[0mtype\u001b[0m\u001b[1;33m(\u001b[0m\u001b[0mparams\u001b[0m\u001b[1;33m)\u001b[0m\u001b[1;33m)\u001b[0m\u001b[1;33m\u001b[0m\u001b[1;33m\u001b[0m\u001b[0m\n",
      "\u001b[1;32m~\\Tools\\Anaconda\\envs\\spark\\lib\\site-packages\\pyspark\\ml\\wrapper.py\u001b[0m in \u001b[0;36m_transform\u001b[1;34m(self, dataset)\u001b[0m\n\u001b[0;32m    310\u001b[0m     \u001b[1;32mdef\u001b[0m \u001b[0m_transform\u001b[0m\u001b[1;33m(\u001b[0m\u001b[0mself\u001b[0m\u001b[1;33m,\u001b[0m \u001b[0mdataset\u001b[0m\u001b[1;33m)\u001b[0m\u001b[1;33m:\u001b[0m\u001b[1;33m\u001b[0m\u001b[1;33m\u001b[0m\u001b[0m\n\u001b[0;32m    311\u001b[0m         \u001b[0mself\u001b[0m\u001b[1;33m.\u001b[0m\u001b[0m_transfer_params_to_java\u001b[0m\u001b[1;33m(\u001b[0m\u001b[1;33m)\u001b[0m\u001b[1;33m\u001b[0m\u001b[1;33m\u001b[0m\u001b[0m\n\u001b[1;32m--> 312\u001b[1;33m         \u001b[1;32mreturn\u001b[0m \u001b[0mDataFrame\u001b[0m\u001b[1;33m(\u001b[0m\u001b[0mself\u001b[0m\u001b[1;33m.\u001b[0m\u001b[0m_java_obj\u001b[0m\u001b[1;33m.\u001b[0m\u001b[0mtransform\u001b[0m\u001b[1;33m(\u001b[0m\u001b[0mdataset\u001b[0m\u001b[1;33m.\u001b[0m\u001b[0m_jdf\u001b[0m\u001b[1;33m)\u001b[0m\u001b[1;33m,\u001b[0m \u001b[0mdataset\u001b[0m\u001b[1;33m.\u001b[0m\u001b[0msql_ctx\u001b[0m\u001b[1;33m)\u001b[0m\u001b[1;33m\u001b[0m\u001b[1;33m\u001b[0m\u001b[0m\n\u001b[0m\u001b[0;32m    313\u001b[0m \u001b[1;33m\u001b[0m\u001b[0m\n\u001b[0;32m    314\u001b[0m \u001b[1;33m\u001b[0m\u001b[0m\n",
      "\u001b[1;32m~\\Tools\\Anaconda\\envs\\spark\\lib\\site-packages\\py4j\\java_gateway.py\u001b[0m in \u001b[0;36m__call__\u001b[1;34m(self, *args)\u001b[0m\n\u001b[0;32m   1255\u001b[0m         \u001b[0manswer\u001b[0m \u001b[1;33m=\u001b[0m \u001b[0mself\u001b[0m\u001b[1;33m.\u001b[0m\u001b[0mgateway_client\u001b[0m\u001b[1;33m.\u001b[0m\u001b[0msend_command\u001b[0m\u001b[1;33m(\u001b[0m\u001b[0mcommand\u001b[0m\u001b[1;33m)\u001b[0m\u001b[1;33m\u001b[0m\u001b[1;33m\u001b[0m\u001b[0m\n\u001b[0;32m   1256\u001b[0m         return_value = get_return_value(\n\u001b[1;32m-> 1257\u001b[1;33m             answer, self.gateway_client, self.target_id, self.name)\n\u001b[0m\u001b[0;32m   1258\u001b[0m \u001b[1;33m\u001b[0m\u001b[0m\n\u001b[0;32m   1259\u001b[0m         \u001b[1;32mfor\u001b[0m \u001b[0mtemp_arg\u001b[0m \u001b[1;32min\u001b[0m \u001b[0mtemp_args\u001b[0m\u001b[1;33m:\u001b[0m\u001b[1;33m\u001b[0m\u001b[1;33m\u001b[0m\u001b[0m\n",
      "\u001b[1;32m~\\Tools\\Anaconda\\envs\\spark\\lib\\site-packages\\pyspark\\sql\\utils.py\u001b[0m in \u001b[0;36mdeco\u001b[1;34m(*a, **kw)\u001b[0m\n\u001b[0;32m     77\u001b[0m                 \u001b[1;32mraise\u001b[0m \u001b[0mQueryExecutionException\u001b[0m\u001b[1;33m(\u001b[0m\u001b[0ms\u001b[0m\u001b[1;33m.\u001b[0m\u001b[0msplit\u001b[0m\u001b[1;33m(\u001b[0m\u001b[1;34m': '\u001b[0m\u001b[1;33m,\u001b[0m \u001b[1;36m1\u001b[0m\u001b[1;33m)\u001b[0m\u001b[1;33m[\u001b[0m\u001b[1;36m1\u001b[0m\u001b[1;33m]\u001b[0m\u001b[1;33m,\u001b[0m \u001b[0mstackTrace\u001b[0m\u001b[1;33m)\u001b[0m\u001b[1;33m\u001b[0m\u001b[1;33m\u001b[0m\u001b[0m\n\u001b[0;32m     78\u001b[0m             \u001b[1;32mif\u001b[0m \u001b[0ms\u001b[0m\u001b[1;33m.\u001b[0m\u001b[0mstartswith\u001b[0m\u001b[1;33m(\u001b[0m\u001b[1;34m'java.lang.IllegalArgumentException: '\u001b[0m\u001b[1;33m)\u001b[0m\u001b[1;33m:\u001b[0m\u001b[1;33m\u001b[0m\u001b[1;33m\u001b[0m\u001b[0m\n\u001b[1;32m---> 79\u001b[1;33m                 \u001b[1;32mraise\u001b[0m \u001b[0mIllegalArgumentException\u001b[0m\u001b[1;33m(\u001b[0m\u001b[0ms\u001b[0m\u001b[1;33m.\u001b[0m\u001b[0msplit\u001b[0m\u001b[1;33m(\u001b[0m\u001b[1;34m': '\u001b[0m\u001b[1;33m,\u001b[0m \u001b[1;36m1\u001b[0m\u001b[1;33m)\u001b[0m\u001b[1;33m[\u001b[0m\u001b[1;36m1\u001b[0m\u001b[1;33m]\u001b[0m\u001b[1;33m,\u001b[0m \u001b[0mstackTrace\u001b[0m\u001b[1;33m)\u001b[0m\u001b[1;33m\u001b[0m\u001b[1;33m\u001b[0m\u001b[0m\n\u001b[0m\u001b[0;32m     80\u001b[0m             \u001b[1;32mraise\u001b[0m\u001b[1;33m\u001b[0m\u001b[1;33m\u001b[0m\u001b[0m\n\u001b[0;32m     81\u001b[0m     \u001b[1;32mreturn\u001b[0m \u001b[0mdeco\u001b[0m\u001b[1;33m\u001b[0m\u001b[1;33m\u001b[0m\u001b[0m\n",
      "\u001b[1;31mIllegalArgumentException\u001b[0m: 'requirement failed: Cannot have an empty string for name.'"
     ]
    }
   ],
   "source": [
    "# Build pipeline stages\n",
    "stages = []\n",
    "dummy_columns = []\n",
    "# Indexing and One Hot Encoding of categorical features\n",
    "for c in cat_features.columns[1:]:\n",
    "    stages.append(StringIndexer(inputCol=c, outputCol='{}_index'.format(c)))\n",
    "    stages.append(OneHotEncoder(inputCol='{}_index'.format(c),outputCol='{}_vec'.format(c)))\n",
    "    dummy_columns.append('{}_vec'.format(c))\n",
    "    \n",
    "# Transform feature columns into a vector\n",
    "stages.append(VectorAssembler(inputCols=dummy_columns, outputCol='features'))\n",
    "\n",
    "# Build pipeline\n",
    "pipe = Pipeline(stages=stages)\n",
    "\n",
    "# Create model\n",
    "model = pipe.fit(cat_features.drop('userId')).transform(cat_features.drop('userId'))"
   ]
  },
  {
   "cell_type": "code",
   "execution_count": null,
   "metadata": {},
   "outputs": [],
   "source": [
    "model.show(5)"
   ]
  },
  {
   "cell_type": "code",
   "execution_count": 99,
   "metadata": {},
   "outputs": [
    {
     "data": {
      "text/plain": [
       "['gender',\n",
       " 'level',\n",
       " 'browser',\n",
       " 'browser_version',\n",
       " 'os',\n",
       " 'os_version',\n",
       " 'churn',\n",
       " 'state']"
      ]
     },
     "execution_count": 99,
     "metadata": {},
     "output_type": "execute_result"
    }
   ],
   "source": [
    "cat_stages"
   ]
  },
  {
   "cell_type": "markdown",
   "metadata": {},
   "source": [
    "# Final Steps\n",
    "Clean up your code, adding comments and renaming variables to make the code easier to read and maintain. Refer to the Spark Project Overview page and Data Scientist Capstone Project Rubric to make sure you are including all components of the capstone project and meet all expectations. Remember, this includes thorough documentation in a README file in a Github repository, as well as a web app or blog post."
   ]
  },
  {
   "cell_type": "code",
   "execution_count": null,
   "metadata": {},
   "outputs": [],
   "source": []
  }
 ],
 "metadata": {
  "kernelspec": {
   "display_name": "Python 3",
   "language": "python",
   "name": "python3"
  },
  "language_info": {
   "codemirror_mode": {
    "name": "ipython",
    "version": 3
   },
   "file_extension": ".py",
   "mimetype": "text/x-python",
   "name": "python",
   "nbconvert_exporter": "python",
   "pygments_lexer": "ipython3",
   "version": "3.7.4"
  }
 },
 "nbformat": 4,
 "nbformat_minor": 4
}
