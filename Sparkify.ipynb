{
 "cells": [
  {
   "cell_type": "markdown",
   "metadata": {},
   "source": [
    "# Sparkify Project Workspace\n",
    "This workspace contains a tiny subset (128MB) of the full dataset available (12GB). Feel free to use this workspace to build your project, or to explore a smaller subset with Spark before deploying your cluster on the cloud. Instructions for setting up your Spark cluster is included in the last lesson of the Extracurricular Spark Course content.\n",
    "\n",
    "You can follow the steps below to guide your data analysis and model building portion of this project."
   ]
  },
  {
   "cell_type": "code",
   "execution_count": 15,
   "metadata": {},
   "outputs": [],
   "source": [
    "# import libraries\n",
    "from pyspark.sql import SparkSession\n",
    "from pyspark.sql.functions import isnan, count, when, col, desc, udf, col, sort_array, asc, avg, lit, countDistinct, isnull\n",
    "from pyspark.sql.functions import sum as Fsum\n",
    "from pyspark.sql.functions import max as Fmax\n",
    "from pyspark.sql.window import Window\n",
    "from pyspark.sql.types import IntegerType, DateType, StringType, FloatType, TimestampType\n",
    "from pyspark.ml.feature import StringIndexer, OneHotEncoder, VectorAssembler, CountVectorizer\n",
    "from pyspark.ml import Pipeline\n",
    "\n",
    "import datetime\n",
    "import pandas as pd\n",
    "import matplotlib.pyplot as plt\n",
    "from pandas.plotting import register_matplotlib_converters\n",
    "import seaborn as sns \n",
    "from user_agents import parse\n",
    "\n",
    "register_matplotlib_converters()\n",
    "%matplotlib inline\n",
    "sns.set()\n",
    "datetime_func = udf(lambda x: datetime.datetime.fromtimestamp(x / 1000.0), DateType())\n",
    "day_func = udf(lambda x: datetime.datetime.fromtimestamp(x / 1000.0).day, IntegerType())\n",
    "week_func = udf(lambda x: datetime.datetime.fromtimestamp(x / 1000.0).isocalendar()[1], IntegerType())"
   ]
  },
  {
   "cell_type": "code",
   "execution_count": 2,
   "metadata": {},
   "outputs": [],
   "source": [
    "# Create the spark session\n",
    "spark = SparkSession \\\n",
    "    .builder \\\n",
    "    .appName(\"Sparkify\") \\\n",
    "    .config('spark.executor.memory', '8g') \\\n",
    "    .getOrCreate()"
   ]
  },
  {
   "cell_type": "code",
   "execution_count": 3,
   "metadata": {},
   "outputs": [
    {
     "data": {
      "text/plain": [
       "[('spark.driver.port', '63561'),\n",
       " ('spark.driver.host', 'LAPTOP-F0UTTNU5.localdomain'),\n",
       " ('spark.rdd.compress', 'True'),\n",
       " ('spark.app.name', 'Sparkify'),\n",
       " ('spark.serializer.objectStreamReset', '100'),\n",
       " ('spark.master', 'local[*]'),\n",
       " ('spark.executor.memory', '8g'),\n",
       " ('spark.executor.id', 'driver'),\n",
       " ('spark.submit.deployMode', 'client'),\n",
       " ('spark.app.id', 'local-1572789101696'),\n",
       " ('spark.ui.showConsoleProgress', 'true')]"
      ]
     },
     "execution_count": 3,
     "metadata": {},
     "output_type": "execute_result"
    }
   ],
   "source": [
    "sc = spark.sparkContext\n",
    "sc.getConf().getAll()"
   ]
  },
  {
   "cell_type": "markdown",
   "metadata": {},
   "source": [
    "# Load and Clean Dataset\n",
    "Load the `mini_sparkify_event_data.json` and clean the dataset from invalid/ missing data."
   ]
  },
  {
   "cell_type": "code",
   "execution_count": 11,
   "metadata": {},
   "outputs": [
    {
     "name": "stdout",
     "output_type": "stream",
     "text": [
      "+----------------+---------+---------+------+-------------+--------+---------+-----+--------------------+------+--------+-------------+---------+--------------------+------+-------------+--------------------+------+\n",
      "|          artist|     auth|firstName|gender|itemInSession|lastName|   length|level|            location|method|    page| registration|sessionId|                song|status|           ts|           userAgent|userId|\n",
      "+----------------+---------+---------+------+-------------+--------+---------+-----+--------------------+------+--------+-------------+---------+--------------------+------+-------------+--------------------+------+\n",
      "|  Martha Tilston|Logged In|    Colin|     M|           50| Freeman|277.89016| paid|     Bakersfield, CA|   PUT|NextSong|1538173362000|       29|           Rockpools|   200|1538352117000|Mozilla/5.0 (Wind...|    30|\n",
      "|Five Iron Frenzy|Logged In|    Micah|     M|           79|    Long|236.09424| free|Boston-Cambridge-...|   PUT|NextSong|1538331630000|        8|              Canada|   200|1538352180000|\"Mozilla/5.0 (Win...|     9|\n",
      "|    Adam Lambert|Logged In|    Colin|     M|           51| Freeman| 282.8273| paid|     Bakersfield, CA|   PUT|NextSong|1538173362000|       29|   Time For Miracles|   200|1538352394000|Mozilla/5.0 (Wind...|    30|\n",
      "|          Enigma|Logged In|    Micah|     M|           80|    Long|262.71302| free|Boston-Cambridge-...|   PUT|NextSong|1538331630000|        8|Knocking On Forbi...|   200|1538352416000|\"Mozilla/5.0 (Win...|     9|\n",
      "|       Daft Punk|Logged In|    Colin|     M|           52| Freeman|223.60771| paid|     Bakersfield, CA|   PUT|NextSong|1538173362000|       29|Harder Better Fas...|   200|1538352676000|Mozilla/5.0 (Wind...|    30|\n",
      "+----------------+---------+---------+------+-------------+--------+---------+-----+--------------------+------+--------+-------------+---------+--------------------+------+-------------+--------------------+------+\n",
      "only showing top 5 rows\n",
      "\n"
     ]
    }
   ],
   "source": [
    "# Load the dataset\n",
    "events = spark.read.json(\"mini_sparkify_event_data.json\")\n",
    "events.show(5)"
   ]
  },
  {
   "cell_type": "code",
   "execution_count": 216,
   "metadata": {},
   "outputs": [
    {
     "name": "stdout",
     "output_type": "stream",
     "text": [
      "root\n",
      " |-- artist: string (nullable = true)\n",
      " |-- auth: string (nullable = true)\n",
      " |-- firstName: string (nullable = true)\n",
      " |-- gender: string (nullable = true)\n",
      " |-- itemInSession: long (nullable = true)\n",
      " |-- lastName: string (nullable = true)\n",
      " |-- length: double (nullable = true)\n",
      " |-- level: string (nullable = true)\n",
      " |-- location: string (nullable = true)\n",
      " |-- method: string (nullable = true)\n",
      " |-- page: string (nullable = true)\n",
      " |-- registration: long (nullable = true)\n",
      " |-- sessionId: long (nullable = true)\n",
      " |-- song: string (nullable = true)\n",
      " |-- status: long (nullable = true)\n",
      " |-- ts: long (nullable = true)\n",
      " |-- userAgent: string (nullable = true)\n",
      " |-- userId: string (nullable = true)\n",
      "\n"
     ]
    }
   ],
   "source": [
    "# Evaluate table schema\n",
    "events.printSchema()"
   ]
  },
  {
   "cell_type": "code",
   "execution_count": 217,
   "metadata": {},
   "outputs": [
    {
     "name": "stdout",
     "output_type": "stream",
     "text": [
      "Events with missing userId: 8346\n"
     ]
    }
   ],
   "source": [
    "# Check for entries with missing userId\n",
    "print(\"Events with missing userId: {}\".format(events.filter(\"userId is Null or userId == ''\").count()))"
   ]
  },
  {
   "cell_type": "code",
   "execution_count": 218,
   "metadata": {},
   "outputs": [
    {
     "name": "stdout",
     "output_type": "stream",
     "text": [
      "+----------+\n",
      "|      auth|\n",
      "+----------+\n",
      "|Logged Out|\n",
      "|     Guest|\n",
      "+----------+\n",
      "\n"
     ]
    }
   ],
   "source": [
    "# Investigate auth status of users with missing userId\n",
    "events.filter(\"userId is Null or userId == ''\").select('auth').distinct().show()"
   ]
  },
  {
   "cell_type": "code",
   "execution_count": 219,
   "metadata": {},
   "outputs": [
    {
     "name": "stdout",
     "output_type": "stream",
     "text": [
      "+------+\n",
      "|userId|\n",
      "+------+\n",
      "|      |\n",
      "+------+\n",
      "\n"
     ]
    }
   ],
   "source": [
    "# Check, if userId is missing for all entries with the above auth status\n",
    "events.filter(\"auth in ('Logged Out','Guest')\").select('userId').distinct().show()"
   ]
  },
  {
   "cell_type": "code",
   "execution_count": 12,
   "metadata": {},
   "outputs": [
    {
     "name": "stdout",
     "output_type": "stream",
     "text": [
      "Entries with missing userId: 0\n"
     ]
    }
   ],
   "source": [
    "# Remove entries for logged out and guest users\n",
    "events = events.filter(\"auth not in ('Logged Out', 'Guest')\")\n",
    "print(\"Entries with missing userId: {}\".format(events.filter(\"userId is Null or userId == ''\").count()))"
   ]
  },
  {
   "cell_type": "code",
   "execution_count": 221,
   "metadata": {},
   "outputs": [
    {
     "name": "stdout",
     "output_type": "stream",
     "text": [
      "Entries with missing sessionId: 0\n"
     ]
    }
   ],
   "source": [
    "# Check for entries with missing sessionId\n",
    "print(\"Entries with missing sessionId: {}\".format(events.filter(\"sessionId is Null or sessionId == ''\").count()))"
   ]
  },
  {
   "cell_type": "code",
   "execution_count": 222,
   "metadata": {},
   "outputs": [
    {
     "name": "stdout",
     "output_type": "stream",
     "text": [
      "Entries with missing ts: 0\n"
     ]
    }
   ],
   "source": [
    "# Check for entries with missing ts (timestamp)\n",
    "print(\"Entries with missing ts: {}\".format(events.filter(\"ts is Null or ts == ''\").count()))"
   ]
  },
  {
   "cell_type": "code",
   "execution_count": 223,
   "metadata": {},
   "outputs": [
    {
     "name": "stdout",
     "output_type": "stream",
     "text": [
      "Entries with missing artist: 50046\n",
      "+------+---------+---------+------+-------------+--------+------+-----+--------------------+------+---------------+-------------+---------+----+------+-------------+--------------------+------+\n",
      "|artist|     auth|firstName|gender|itemInSession|lastName|length|level|            location|method|           page| registration|sessionId|song|status|           ts|           userAgent|userId|\n",
      "+------+---------+---------+------+-------------+--------+------+-----+--------------------+------+---------------+-------------+---------+----+------+-------------+--------------------+------+\n",
      "|  null|Logged In|    Colin|     M|           54| Freeman|  null| paid|     Bakersfield, CA|   PUT|Add to Playlist|1538173362000|       29|null|   200|1538352905000|Mozilla/5.0 (Wind...|    30|\n",
      "|  null|Logged In|    Micah|     M|           84|    Long|  null| free|Boston-Cambridge-...|   GET|    Roll Advert|1538331630000|        8|null|   200|1538353150000|\"Mozilla/5.0 (Win...|     9|\n",
      "|  null|Logged In|    Micah|     M|           86|    Long|  null| free|Boston-Cambridge-...|   PUT|      Thumbs Up|1538331630000|        8|null|   307|1538353376000|\"Mozilla/5.0 (Win...|     9|\n",
      "|  null|Logged In|    Alexi|     F|            4|  Warren|  null| paid|Spokane-Spokane V...|   GET|      Downgrade|1532482662000|       53|null|   200|1538354749000|Mozilla/5.0 (Wind...|    54|\n",
      "|  null|Logged In|    Alexi|     F|            7|  Warren|  null| paid|Spokane-Spokane V...|   PUT|      Thumbs Up|1532482662000|       53|null|   307|1538355255000|Mozilla/5.0 (Wind...|    54|\n",
      "|  null|Logged In|    Micah|     M|           95|    Long|  null| free|Boston-Cambridge-...|   PUT|    Thumbs Down|1538331630000|        8|null|   307|1538355306000|\"Mozilla/5.0 (Win...|     9|\n",
      "|  null|Logged In|    Micah|     M|           97|    Long|  null| free|Boston-Cambridge-...|   GET|           Home|1538331630000|        8|null|   200|1538355504000|\"Mozilla/5.0 (Win...|     9|\n",
      "|  null|Logged In|    Micah|     M|           99|    Long|  null| free|Boston-Cambridge-...|   PUT|         Logout|1538331630000|        8|null|   307|1538355687000|\"Mozilla/5.0 (Win...|     9|\n",
      "|  null|Logged In|  Ashlynn|     F|            9|Williams|  null| free|     Tallahassee, FL|   PUT|      Thumbs Up|1537365219000|      217|null|   307|1538355711000|\"Mozilla/5.0 (Mac...|    74|\n",
      "|  null|Logged In|    Micah|     M|          104|    Long|  null| free|Boston-Cambridge-...|   GET|           Home|1538331630000|        8|null|   200|1538355855000|\"Mozilla/5.0 (Win...|     9|\n",
      "|  null|Logged In|    Colin|     M|           71| Freeman|  null| paid|     Bakersfield, CA|   PUT|    Thumbs Down|1538173362000|       29|null|   307|1538356524000|Mozilla/5.0 (Wind...|    30|\n",
      "|  null|Logged In|   Warren|     M|            1|  Miller|  null| free|Baltimore-Columbi...|   PUT|         Logout|1538169823000|      240|null|   307|1538356651000|Mozilla/5.0 (Wind...|     4|\n",
      "|  null|Logged In|   Warren|     M|            4|  Miller|  null| free|Baltimore-Columbi...|   GET|           Home|1538169823000|      240|null|   200|1538356686000|Mozilla/5.0 (Wind...|     4|\n",
      "|  null|Logged In|  Ashlynn|     F|           15|Williams|  null| free|     Tallahassee, FL|   PUT|Add to Playlist|1537365219000|      217|null|   200|1538356816000|\"Mozilla/5.0 (Mac...|    74|\n",
      "|  null|Logged In|   Warren|     M|            6|  Miller|  null| free|Baltimore-Columbi...|   GET|           Home|1538169823000|      240|null|   200|1538356954000|Mozilla/5.0 (Wind...|     4|\n",
      "|  null|Logged In|  Ashlynn|     F|           18|Williams|  null| free|     Tallahassee, FL|   PUT|      Thumbs Up|1537365219000|      217|null|   307|1538357104000|\"Mozilla/5.0 (Mac...|    74|\n",
      "|  null|Logged In|    Micah|     M|          111|    Long|  null| free|Boston-Cambridge-...|   PUT|      Thumbs Up|1538331630000|        8|null|   307|1538357160000|\"Mozilla/5.0 (Win...|     9|\n",
      "|  null|Logged In|    Colin|     M|           77| Freeman|  null| paid|     Bakersfield, CA|   PUT|      Thumbs Up|1538173362000|       29|null|   307|1538357649000|Mozilla/5.0 (Wind...|    30|\n",
      "|  null|Logged In|  Ashlynn|     F|           22|Williams|  null| free|     Tallahassee, FL|   PUT|      Thumbs Up|1537365219000|      217|null|   307|1538357916000|\"Mozilla/5.0 (Mac...|    74|\n",
      "|  null|Logged In|    Colin|     M|           79| Freeman|  null| paid|     Bakersfield, CA|   PUT|      Thumbs Up|1538173362000|       29|null|   307|1538357991000|Mozilla/5.0 (Wind...|    30|\n",
      "+------+---------+---------+------+-------------+--------+------+-----+--------------------+------+---------------+-------------+---------+----+------+-------------+--------------------+------+\n",
      "only showing top 20 rows\n",
      "\n"
     ]
    }
   ],
   "source": [
    "# Check for entries with missing artist\n",
    "print(\"Entries with missing artist: {}\".format(events.filter(\"artist is Null or artist == ''\").count()))\n",
    "events.filter(\"artist is Null or artist == ''\").show()"
   ]
  },
  {
   "cell_type": "code",
   "execution_count": 224,
   "metadata": {},
   "outputs": [
    {
     "name": "stdout",
     "output_type": "stream",
     "text": [
      "+--------------------+\n",
      "|                page|\n",
      "+--------------------+\n",
      "|              Cancel|\n",
      "|    Submit Downgrade|\n",
      "|         Thumbs Down|\n",
      "|                Home|\n",
      "|           Downgrade|\n",
      "|         Roll Advert|\n",
      "|              Logout|\n",
      "|       Save Settings|\n",
      "|Cancellation Conf...|\n",
      "|               About|\n",
      "|            Settings|\n",
      "|     Add to Playlist|\n",
      "|          Add Friend|\n",
      "|           Thumbs Up|\n",
      "|                Help|\n",
      "|             Upgrade|\n",
      "|               Error|\n",
      "|      Submit Upgrade|\n",
      "+--------------------+\n",
      "\n"
     ]
    }
   ],
   "source": [
    "events.filter(\"artist is Null or artist == ''\").select('page').distinct().show()"
   ]
  },
  {
   "cell_type": "code",
   "execution_count": 225,
   "metadata": {},
   "outputs": [
    {
     "name": "stdout",
     "output_type": "stream",
     "text": [
      "+------+\n",
      "|gender|\n",
      "+------+\n",
      "|     F|\n",
      "|     M|\n",
      "+------+\n",
      "\n"
     ]
    }
   ],
   "source": [
    "# Check unique values of gender\n",
    "events.select('gender').distinct().show()"
   ]
  },
  {
   "cell_type": "code",
   "execution_count": 226,
   "metadata": {},
   "outputs": [
    {
     "data": {
      "text/plain": [
       "225"
      ]
     },
     "execution_count": 226,
     "metadata": {},
     "output_type": "execute_result"
    }
   ],
   "source": [
    "# Check unique number of userId\n",
    "events.select('userId').distinct().count()"
   ]
  },
  {
   "cell_type": "markdown",
   "metadata": {},
   "source": [
    "**Conclusion Data Cleaning**\n",
    "\n",
    "* Events with the authentication \"Logged Out\" and \"Guest\" are not provided with a userId (empty) and therefor have been removed from the dataset.\n",
    "*Further more, 50046 events with missing artist could be identified. Those entries have been kept though, as they refernece different kinds of user interaction that may not be connected to a single artist (e.g. page == \"Upgrade\")."
   ]
  },
  {
   "cell_type": "markdown",
   "metadata": {},
   "source": [
    "# Exploratory Data Analysis"
   ]
  },
  {
   "cell_type": "markdown",
   "metadata": {},
   "source": [
    "### Explore potential Churn Events"
   ]
  },
  {
   "cell_type": "markdown",
   "metadata": {},
   "source": [
    "**Explore Event Occurrence**"
   ]
  },
  {
   "cell_type": "code",
   "execution_count": 227,
   "metadata": {},
   "outputs": [
    {
     "data": {
      "image/png": "[encoded data removed]",
      "text/plain": [
       "<Figure size 432x288 with 1 Axes>"
      ]
     },
     "metadata": {},
     "output_type": "display_data"
    }
   ],
   "source": [
    "# Count occurrence of different event pages \n",
    "sns.barplot(x='count', y='page', data=events.groupby('page').count().orderBy(desc('count')).toPandas())\n",
    "plt.title('Event Page Occurrence')\n",
    "plt.show()"
   ]
  },
  {
   "cell_type": "code",
   "execution_count": 228,
   "metadata": {},
   "outputs": [
    {
     "data": {
      "image/png": "[encoded data removed]",
      "text/plain": [
       "<Figure size 432x288 with 1 Axes>"
      ]
     },
     "metadata": {},
     "output_type": "display_data"
    }
   ],
   "source": [
    "# Count occurrence of different event pages (except \"NextSong\")\n",
    "sns.barplot(x='count', y='page', data=events.filter('page != \"NextSong\"').groupby('page').count().orderBy(desc('count')).toPandas())\n",
    "plt.title('Event Page Occurrence (except \"NextSong\")')\n",
    "plt.show()"
   ]
  },
  {
   "cell_type": "code",
   "execution_count": 229,
   "metadata": {},
   "outputs": [
    {
     "data": {
      "image/png": "[encoded data removed]",
      "text/plain": [
       "<Figure size 432x288 with 1 Axes>"
      ]
     },
     "metadata": {},
     "output_type": "display_data"
    }
   ],
   "source": [
    "# Count occurance of potential churn events (when user comes to one of the four selected pages)\n",
    "sns.barplot(x='count', y='page', data=events.filter(\"page in ('Cancel','Cancellation Confirmation','Downgrade', 'Submit Downgrade')\").groupby('page').count().toPandas())\n",
    "plt.title('Potential Churn Event Occurrence')\n",
    "plt.show()"
   ]
  },
  {
   "cell_type": "markdown",
   "metadata": {},
   "source": [
    "**Explore Behaviour after Cancellation/ Submit Downgrade**"
   ]
  },
  {
   "cell_type": "code",
   "execution_count": 230,
   "metadata": {},
   "outputs": [],
   "source": [
    "# Calculate the difference between the last event timestamp and the cancellation timestamp\n",
    "last_event_cancellation = events.withColumn('cancellationTs', when(col('page') == 'Cancellation Confirmation', events.ts).otherwise(0)) \\\n",
    "    .groupby('userId') \\\n",
    "    .agg(Fmax('cancellationTs').alias('cancellationTs'), Fmax('ts').alias('max_ts')) \\\n",
    "    .withColumn('diff', col('max_ts') - col('cancellationTs')) \\\n",
    "    .filter(col('cancellationTs') > 0) \\\n",
    "    .toPandas()"
   ]
  },
  {
   "cell_type": "code",
   "execution_count": 231,
   "metadata": {},
   "outputs": [
    {
     "name": "stdout",
     "output_type": "stream",
     "text": [
      "Users that triggerd at least one event after cancellation: 0\n"
     ]
    }
   ],
   "source": [
    "print(\"Users that triggerd at least one event after cancellation: {}\".format(len(last_event_cancellation[last_event_cancellation['diff']>0])))"
   ]
  },
  {
   "cell_type": "code",
   "execution_count": 232,
   "metadata": {},
   "outputs": [],
   "source": [
    "# Calculate the difference between the last event timestamp and the downgrade timestamp\n",
    "last_event_downgrade = events.withColumn('downgradeTs', when(col('page') == 'Submit Downgrade', events.ts).otherwise(0)) \\\n",
    "    .groupby('userId') \\\n",
    "    .agg(Fmax('downgradeTs').alias('downgradeTs'), Fmax('ts').alias('max_ts')) \\\n",
    "    .withColumn('diff', col('max_ts') - col('downgradeTs')) \\\n",
    "    .filter(col('downgradeTs') > 0) \\\n",
    "    .toPandas()"
   ]
  },
  {
   "cell_type": "code",
   "execution_count": 233,
   "metadata": {},
   "outputs": [
    {
     "name": "stdout",
     "output_type": "stream",
     "text": [
      "Users that triggerd at least one event after downgrade: 49\n"
     ]
    }
   ],
   "source": [
    "print(\"Users that triggerd at least one event after downgrade: {}\".format(len(last_event_downgrade[last_event_downgrade['diff']>0])))"
   ]
  },
  {
   "cell_type": "code",
   "execution_count": 234,
   "metadata": {},
   "outputs": [],
   "source": [
    "# Cacellation events after downgrade\n",
    "downgrade_cancellation = events.withColumn('downgradeTs', when(col('page') == 'Submit Downgrade', events.ts).otherwise(0)) \\\n",
    "    .withColumn('cancellationTs', when(col('page') == 'Cancellation Confirmation', events.ts).otherwise(0)) \\\n",
    "    .groupby('userId') \\\n",
    "    .agg(Fmax('downgradeTs').alias('downgradeTs'), Fmax('cancellationTs').alias('cancellationTs')) \\\n",
    "    .withColumn('diff', col('cancellationTs') - col('downgradeTs')) \\\n",
    "    .filter(col('downgradeTs') > 0) \\\n",
    "    .toPandas()"
   ]
  },
  {
   "cell_type": "code",
   "execution_count": 235,
   "metadata": {},
   "outputs": [
    {
     "name": "stdout",
     "output_type": "stream",
     "text": [
      "Users that cancelled after downgrading: 9\n"
     ]
    }
   ],
   "source": [
    "print(\"Users that cancelled after downgrading: {}\".format(len(downgrade_cancellation[downgrade_cancellation['cancellationTs'] > 0])))"
   ]
  },
  {
   "cell_type": "markdown",
   "metadata": {},
   "source": [
    "### Define Churn"
   ]
  },
  {
   "cell_type": "code",
   "execution_count": 13,
   "metadata": {},
   "outputs": [
    {
     "name": "stdout",
     "output_type": "stream",
     "text": [
      "+----------------+---------+---------+------+-------------+--------+---------+-----+--------------------+------+--------+-------------+---------+--------------------+------+-------------+--------------------+------+-----+\n",
      "|          artist|     auth|firstName|gender|itemInSession|lastName|   length|level|            location|method|    page| registration|sessionId|                song|status|           ts|           userAgent|userId|churn|\n",
      "+----------------+---------+---------+------+-------------+--------+---------+-----+--------------------+------+--------+-------------+---------+--------------------+------+-------------+--------------------+------+-----+\n",
      "|  Martha Tilston|Logged In|    Colin|     M|           50| Freeman|277.89016| paid|     Bakersfield, CA|   PUT|NextSong|1538173362000|       29|           Rockpools|   200|1538352117000|Mozilla/5.0 (Wind...|    30|    0|\n",
      "|Five Iron Frenzy|Logged In|    Micah|     M|           79|    Long|236.09424| free|Boston-Cambridge-...|   PUT|NextSong|1538331630000|        8|              Canada|   200|1538352180000|\"Mozilla/5.0 (Win...|     9|    0|\n",
      "|    Adam Lambert|Logged In|    Colin|     M|           51| Freeman| 282.8273| paid|     Bakersfield, CA|   PUT|NextSong|1538173362000|       29|   Time For Miracles|   200|1538352394000|Mozilla/5.0 (Wind...|    30|    0|\n",
      "|          Enigma|Logged In|    Micah|     M|           80|    Long|262.71302| free|Boston-Cambridge-...|   PUT|NextSong|1538331630000|        8|Knocking On Forbi...|   200|1538352416000|\"Mozilla/5.0 (Win...|     9|    0|\n",
      "|       Daft Punk|Logged In|    Colin|     M|           52| Freeman|223.60771| paid|     Bakersfield, CA|   PUT|NextSong|1538173362000|       29|Harder Better Fas...|   200|1538352676000|Mozilla/5.0 (Wind...|    30|    0|\n",
      "+----------------+---------+---------+------+-------------+--------+---------+-----+--------------------+------+--------+-------------+---------+--------------------+------+-------------+--------------------+------+-----+\n",
      "only showing top 5 rows\n",
      "\n"
     ]
    }
   ],
   "source": [
    "# Add column churn with 0 as default value\n",
    "events = events.withColumn(\"churn\", lit(0))\n",
    "events.show(5)"
   ]
  },
  {
   "cell_type": "code",
   "execution_count": 14,
   "metadata": {},
   "outputs": [],
   "source": [
    "# Identify all userIds with churn event\n",
    "churn_userIds = list(events.filter(\"page in ('Cancellation Confirmation')\").select('userId').distinct().toPandas()['userId'])"
   ]
  },
  {
   "cell_type": "code",
   "execution_count": 15,
   "metadata": {},
   "outputs": [
    {
     "name": "stdout",
     "output_type": "stream",
     "text": [
      "+----------------+---------+---------+------+-------------+--------+---------+-----+--------------------+------+--------+-------------+---------+--------------------+------+-------------+--------------------+------+-----+\n",
      "|          artist|     auth|firstName|gender|itemInSession|lastName|   length|level|            location|method|    page| registration|sessionId|                song|status|           ts|           userAgent|userId|churn|\n",
      "+----------------+---------+---------+------+-------------+--------+---------+-----+--------------------+------+--------+-------------+---------+--------------------+------+-------------+--------------------+------+-----+\n",
      "|  Martha Tilston|Logged In|    Colin|     M|           50| Freeman|277.89016| paid|     Bakersfield, CA|   PUT|NextSong|1538173362000|       29|           Rockpools|   200|1538352117000|Mozilla/5.0 (Wind...|    30|    0|\n",
      "|Five Iron Frenzy|Logged In|    Micah|     M|           79|    Long|236.09424| free|Boston-Cambridge-...|   PUT|NextSong|1538331630000|        8|              Canada|   200|1538352180000|\"Mozilla/5.0 (Win...|     9|    0|\n",
      "|    Adam Lambert|Logged In|    Colin|     M|           51| Freeman| 282.8273| paid|     Bakersfield, CA|   PUT|NextSong|1538173362000|       29|   Time For Miracles|   200|1538352394000|Mozilla/5.0 (Wind...|    30|    0|\n",
      "|          Enigma|Logged In|    Micah|     M|           80|    Long|262.71302| free|Boston-Cambridge-...|   PUT|NextSong|1538331630000|        8|Knocking On Forbi...|   200|1538352416000|\"Mozilla/5.0 (Win...|     9|    0|\n",
      "|       Daft Punk|Logged In|    Colin|     M|           52| Freeman|223.60771| paid|     Bakersfield, CA|   PUT|NextSong|1538173362000|       29|Harder Better Fas...|   200|1538352676000|Mozilla/5.0 (Wind...|    30|    0|\n",
      "+----------------+---------+---------+------+-------------+--------+---------+-----+--------------------+------+--------+-------------+---------+--------------------+------+-------------+--------------------+------+-----+\n",
      "only showing top 5 rows\n",
      "\n"
     ]
    }
   ],
   "source": [
    "# Set churn to 1 for all events of a churn user\n",
    "events = events.withColumn(\"churn\", when(col(\"userId\").isin(churn_userIds), 1).otherwise(col(\"churn\")))\n",
    "events.show(5)"
   ]
  },
  {
   "cell_type": "markdown",
   "metadata": {},
   "source": [
    "**Conclusion Define Chrun**\n",
    "\n",
    "Churn has been defined as \"Cancellation Confirmation\" events. It has been considered, evaluating the \"Submit Downgrade\" events as churn as well. Finally, this option has been discarded for the following reasons: \n",
    "\n",
    "1. The users are not \"gone\" but still using the service, so they continue to produce events even after the potential churn event, which could be misleading for later models.\n",
    "2. Some of the users also cancelled their service after they downgraded - ignoring all user events after they downgraded (to solve the first argument) would not be a good option either, as we would lose valuable information about users who actually cancelled.\n",
    "\n",
    "Anyway, we will most likely still consider Downgrade events as a feature, e.g. a boolean indicator that a user has already downgraded."
   ]
  },
  {
   "cell_type": "markdown",
   "metadata": {},
   "source": [
    "### Explore Data\n",
    "Once you've defined churn, perform some exploratory data analysis to observe the behavior for users who stayed vs users who churned. You can start by exploring aggregates on these two groups of users, observing how much of a specific action they experienced per a certain time unit or number of songs played."
   ]
  },
  {
   "cell_type": "markdown",
   "metadata": {},
   "source": [
    "**Class balance**"
   ]
  },
  {
   "cell_type": "code",
   "execution_count": 239,
   "metadata": {},
   "outputs": [
    {
     "data": {
      "image/png": "[encoded data removed]",
      "text/plain": [
       "<Figure size 1296x288 with 3 Axes>"
      ]
     },
     "metadata": {},
     "output_type": "display_data"
    }
   ],
   "source": [
    "# Check the class balance within the dataset\n",
    "user_count = events.select(['userId']).distinct().count()\n",
    "event_count = events.count()\n",
    "\n",
    "fig, ax = plt.subplots(1, 3, figsize=(18,4))\n",
    "\n",
    "# Count of users (churn vs. no churn)\n",
    "user_balance = events.select(['churn','userId']).distinct().groupby('churn').count().withColumn('percentage', col('count')/user_count*100).toPandas()\n",
    "sns.barplot(x='churn', y='percentage', data=user_balance, ax=ax[0])\n",
    "ax[0].set_title('User Share (in %)')\n",
    "\n",
    "# Event count (churn vs. no churn)\n",
    "event_balance = events.select(['churn','userId']).groupby(['churn']).count().withColumn('percentage', col('count')/event_count*100).toPandas()\n",
    "sns.barplot(x='churn', y='percentage', data=event_balance, ax=ax[1])\n",
    "ax[1].set_title('Event Share (in %)')\n",
    "ax[1].set_ylabel('')\n",
    "\n",
    "# Average event count per user (churn vs. no churn)\n",
    "avg_events_churn_0 = events.filter('churn == 0').select(['userId']).groupby('userId').count().toPandas()['count'].mean()\n",
    "avg_events_churn_1 = events.filter('churn == 1').select(['userId']).groupby('userId').count().toPandas()['count'].mean()\n",
    "sns.barplot(x=[0,1], y=[avg_events_churn_0, avg_events_churn_1], ax=ax[2])\n",
    "ax[2].set_title('Average Event Count per User')\n",
    "ax[2].set_xlabel('churn')\n",
    "\n",
    "plt.show()"
   ]
  },
  {
   "cell_type": "markdown",
   "metadata": {},
   "source": [
    "*Conclusion: Class balance*\n",
    "\n",
    "The first two plots show a strong imbalance in the dataset in regards to the churn class. More than 70 percent of the users in the dataset did not churn. Furthermore, those users who actually churned only caused less then 20 percent of the events provided. The even smaller share of events is caused by a lower average event count per user for churned users, as you can see in the third plot.\n",
    "\n",
    "This imbalance is important to keep in mind. It can negatively effect certain machine learning models and therefore possibly needs to be dealt with by sampling later on."
   ]
  },
  {
   "cell_type": "markdown",
   "metadata": {},
   "source": [
    "**Share of most common events**"
   ]
  },
  {
   "cell_type": "code",
   "execution_count": 240,
   "metadata": {},
   "outputs": [],
   "source": [
    "avg_events_churn_without_nextsong = events.filter('churn == 0 and page != \"NextSong\"').select(['userId']).groupby('userId').count().toPandas()['count'].mean()\n",
    "avg_events_no_churn_without_nextsong = events.filter('churn == 1 and page != \"NextSong\"').select(['userId']).groupby('userId').count().toPandas()['count'].mean()\n",
    "\n",
    "def get_page_count_per_user_by_churn(df, page, as_pandas=True):\n",
    "    '''\n",
    "    Parameters: \n",
    "        df (spark dataframe) - The dataframe that holds the events\n",
    "        page (String) - The name of the page to filter the events by\n",
    "        as_pandas (Boolean) - Wether the resultung dataframe should get transformed to a Pandas dataframe\n",
    "    \n",
    "    Return:\n",
    "        dataframe (spark or pandas) - The average event counts per user for the given page grouped by churn\n",
    "    \n",
    "    This function\n",
    "        - Counts the occurance of the given page grouped by user and churn\n",
    "        - Calculates the average occurance of the given page per user by churn\n",
    "        - Calculates the share of the page event occurance compared to the average count of all events (except \"Next Song\", as this is by far the most common event that would make the other page events harder to compare) \n",
    "    '''\n",
    "    event_counts = events.filter('page == \"{}\"'.format(page)) \\\n",
    "        .groupby('userId') \\\n",
    "        .agg({'userId': 'count', 'churn': 'max'}) \\\n",
    "        .withColumnRenamed(\"max(churn)\", \"churn\") \\\n",
    "        .groupBy('churn') \\\n",
    "        .agg(avg('count(userId)').alias('avg_count_per_user')) \\\n",
    "        .withColumn('share_events_without_nextsong', when(col('churn')==0, col('avg_count_per_user')/avg_events_churn_without_nextsong*100).otherwise(col('avg_count_per_user')/avg_events_no_churn_without_nextsong*100))\n",
    "    \n",
    "    return event_counts.toPandas() if as_pandas else event_counts.select()"
   ]
  },
  {
   "cell_type": "code",
   "execution_count": 241,
   "metadata": {},
   "outputs": [
    {
     "data": {
      "image/png": "[encoded data removed]",
      "text/plain": [
       "<Figure size 1440x576 with 8 Axes>"
      ]
     },
     "metadata": {},
     "output_type": "display_data"
    }
   ],
   "source": [
    "# Check the average occurance of the most common page events (except \"Next Song\") for churned vs. not churned users\n",
    "most_common_pages = events.filter('page != \"NextSong\"').groupby('page').count().orderBy(desc('count')).toPandas()['page']\n",
    "pages = [list(most_common_pages[:4]), list(most_common_pages[4:8])]\n",
    "\n",
    "fig, ax = plt.subplots(len(pages), len(pages[0]), figsize=(len(pages[0])*5,len(pages)*4))\n",
    "for i, ps in enumerate(pages):\n",
    "    for j, p in enumerate(ps): \n",
    "        sns.barplot(x='churn', y='share_events_without_nextsong', data=get_page_count_per_user_by_churn(events, p), ax=ax[i][j])\n",
    "        ax[i][j].set_title('\"{}\" Share of all User Events (except \"Next Song\")'.format(p))\n",
    "        ax[i][j].set_ylabel('Share in %')\n",
    "plt.tight_layout()\n",
    "plt.show()"
   ]
  },
  {
   "cell_type": "markdown",
   "metadata": {},
   "source": [
    "*Conclusion: Share of most common events*\n",
    "\n",
    "Share of most common events: The plots show the share of the most common page events compared to all events (except \"NextSong\") of the given user. We can see, that churned users show a higher share of ```Roll Advert```, ```Thumbs Down``` and ```Logout```  events. On the other hand, churned users have a lower share of ```Add Friend```, ```Add to Playlist```, ```Thumbs Up```. The share of ```Home``` and ```Downgrade``` events seems almost balanced.\n",
    "\n",
    "Overall, the count of events per page seems like a promising featureset for predicting churn."
   ]
  },
  {
   "cell_type": "markdown",
   "metadata": {},
   "source": [
    "**Songs per Session**"
   ]
  },
  {
   "cell_type": "code",
   "execution_count": 30,
   "metadata": {},
   "outputs": [
    {
     "data": {
      "image/png": "[encoded data removed]",
      "text/plain": [
       "<Figure size 432x216 with 2 Axes>"
      ]
     },
     "metadata": {
      "needs_background": "light"
     },
     "output_type": "display_data"
    }
   ],
   "source": [
    "# Plot average number of songs played per session (Page \"NextSong\")\n",
    "songs_per_session = events.filter('page == \"NextSong\"') \\\n",
    "    .groupby(['churn', 'userId', 'sessionId']) \\\n",
    "    .count() \\\n",
    "    .groupby(['userId', 'churn']) \\\n",
    "    .agg({'count': 'avg'}).toPandas()\n",
    "g = sns.FacetGrid(songs_per_session, col=\"churn\", sharey=False)\n",
    "g.map(plt.hist, \"avg(count)\");"
   ]
  },
  {
   "cell_type": "markdown",
   "metadata": {},
   "source": [
    "*Conclusion: Songs per Session*\n",
    "\n",
    "Comparing the distribution of the average number of songs per session, we see a different pattern for churned and not churned users. Also, the range, where most observations lie, is shorter for churned users (fewer than 100 songs per session) compared to the rest (about 100 songs per session).\n",
    "\n",
    "This leads to the conclusion, that the average count of songs per session is a good feature candidate."
   ]
  },
  {
   "cell_type": "markdown",
   "metadata": {},
   "source": [
    "**Songs and Length per Day**"
   ]
  },
  {
   "cell_type": "code",
   "execution_count": 16,
   "metadata": {},
   "outputs": [],
   "source": [
    "datetime_func = udf(lambda x: datetime.datetime.fromtimestamp(x / 1000.0), DateType())\n",
    "day_func = udf(lambda x: datetime.datetime.fromtimestamp(x / 1000.0).day, IntegerType())\n",
    "week_func = udf(lambda x: datetime.datetime.fromtimestamp(x / 1000.0).isocalendar()[1], IntegerType())"
   ]
  },
  {
   "cell_type": "code",
   "execution_count": 32,
   "metadata": {},
   "outputs": [
    {
     "data": {
      "image/png": "[encoded data removed]",
      "text/plain": [
       "<Figure size 432x216 with 2 Axes>"
      ]
     },
     "metadata": {
      "needs_background": "light"
     },
     "output_type": "display_data"
    }
   ],
   "source": [
    "# Plot average number of songs played per day (Page \"NextSong\")\n",
    "songs_per_day = events.filter('page == \"NextSong\"') \\\n",
    "    .withColumn(\"date\", datetime_func(events.ts)) \\\n",
    "    .groupby(['churn', 'userId', 'date']) \\\n",
    "    .count() \\\n",
    "    .groupby(['userId', 'churn']) \\\n",
    "    .agg({'count': 'avg'}).toPandas()\n",
    "g = sns.FacetGrid(songs_per_day, col=\"churn\", sharey=False)\n",
    "g.map(plt.hist, \"avg(count)\");"
   ]
  },
  {
   "cell_type": "code",
   "execution_count": 33,
   "metadata": {},
   "outputs": [],
   "source": [
    "df= events.filter('page == \"NextSong\"') \\\n",
    "    .withColumn(\"date\", datetime_func(events.ts)) \\\n",
    "    .groupby(['churn', 'userId', 'date']) \\\n",
    "    .count() \\"
   ]
  },
  {
   "cell_type": "code",
   "execution_count": 34,
   "metadata": {},
   "outputs": [
    {
     "data": {
      "image/png": "[encoded data removed]",
      "text/plain": [
       "<Figure size 432x216 with 2 Axes>"
      ]
     },
     "metadata": {
      "needs_background": "light"
     },
     "output_type": "display_data"
    }
   ],
   "source": [
    "# Plot median number of songs played per day (Page \"NextSong\")\n",
    "median_songs_per_day =  events.filter('page == \"NextSong\"') \\\n",
    "    .withColumn(\"date\", datetime_func(events.ts)) \\\n",
    "    .groupby(['churn', 'userId', 'date']) \\\n",
    "    .count() \\\n",
    "    .toPandas() \\\n",
    "    .groupby(['userId', 'churn'], as_index=False).median()\n",
    "g = sns.FacetGrid(median_songs_per_day, col=\"churn\", sharey=False)\n",
    "g.map(plt.hist, \"count\");"
   ]
  },
  {
   "cell_type": "code",
   "execution_count": 35,
   "metadata": {},
   "outputs": [
    {
     "data": {
      "image/png": "[encoded data removed]",
      "text/plain": [
       "<Figure size 432x216 with 2 Axes>"
      ]
     },
     "metadata": {
      "needs_background": "light"
     },
     "output_type": "display_data"
    }
   ],
   "source": [
    "# Plot average length played per day (Page \"NextSong\")\n",
    "length_per_day = events.filter('page == \"NextSong\"') \\\n",
    "    .withColumn(\"date\", datetime_func(events.ts)) \\\n",
    "    .groupby(['churn', 'userId', 'date']) \\\n",
    "    .agg(Fsum('length').alias('length')) \\\n",
    "    .groupby(['userId', 'churn']) \\\n",
    "    .agg({'length': 'avg'}).toPandas()\n",
    "g = sns.FacetGrid(length_per_day, col=\"churn\", sharey=False)\n",
    "g.map(plt.hist, \"avg(length)\");"
   ]
  },
  {
   "cell_type": "code",
   "execution_count": 36,
   "metadata": {},
   "outputs": [
    {
     "data": {
      "image/png": "[encoded data removed]",
      "text/plain": [
       "<Figure size 432x216 with 2 Axes>"
      ]
     },
     "metadata": {
      "needs_background": "light"
     },
     "output_type": "display_data"
    }
   ],
   "source": [
    "# Plot average length played per day (Page \"NextSong\")\n",
    "median_length_per_day = events.filter('page == \"NextSong\"') \\\n",
    "    .withColumn(\"date\", datetime_func(events.ts)) \\\n",
    "    .groupby(['churn', 'userId', 'date']) \\\n",
    "    .agg(Fsum('length').alias('length')) \\\n",
    "    .toPandas() \\\n",
    "    .groupby(['userId', 'churn'], as_index=False).median()\n",
    "g = sns.FacetGrid(median_length_per_day, col=\"churn\", sharey=False)\n",
    "g.map(plt.hist, \"length\");"
   ]
  },
  {
   "cell_type": "markdown",
   "metadata": {},
   "source": [
    "*Conclusion: Songs and Length per Day*\n",
    "    \n",
    "The above plots show that the distributions of the average number of songs and the avreage lenght per day are very similar. Further more, we can see clear differences between churned vs. not churned users (songs and length per day tends to be smaller for churned users). Thus, either ```avg_daily_length``` or ```avg_daily_song_count``` could be a good feature choice. An even more meaningful feature could be created by using the median instead of the average (```median_daily_length```), as it does not overrate possible outliers (e.g. users who test the service intensively for a few days after purchase or on a special occasion but don't usually use it that much).\n",
    "\n",
    "In any case, we should have in mind that days without any event occurrence are not included in this perspective. That's why we should also investigate the number if (in)active days."
   ]
  },
  {
   "cell_type": "markdown",
   "metadata": {},
   "source": [
    "**Active Days per Week**"
   ]
  },
  {
   "cell_type": "code",
   "execution_count": 37,
   "metadata": {},
   "outputs": [],
   "source": [
    "# Calculate the active days per week and user\n",
    "active_weekly_days = events.withColumn(\"date\", datetime_func(events.ts)) \\\n",
    "    .withColumn(\"week\", week_func(events.ts)) \\\n",
    "    .groupby(['churn', 'userId', 'week', 'date']) \\\n",
    "    .count().alias('daily_events') \\\n",
    "    .groupby(['churn', 'userId', 'week']) \\\n",
    "    .count().alias('days_per_week') "
   ]
  },
  {
   "cell_type": "code",
   "execution_count": 38,
   "metadata": {},
   "outputs": [
    {
     "name": "stdout",
     "output_type": "stream",
     "text": [
      "+-----+------+----+-----+\n",
      "|churn|userId|week|count|\n",
      "+-----+------+----+-----+\n",
      "|    0|    39|  44|    7|\n",
      "|    0|   132|  44|    4|\n",
      "|    0|100004|  42|    2|\n",
      "|    0|    80|  45|    2|\n",
      "|    0|   150|  45|    1|\n",
      "+-----+------+----+-----+\n",
      "only showing top 5 rows\n",
      "\n"
     ]
    }
   ],
   "source": [
    "active_weekly_days.show(5)"
   ]
  },
  {
   "cell_type": "code",
   "execution_count": 39,
   "metadata": {},
   "outputs": [
    {
     "data": {
      "image/png": "[encoded data removed]",
      "text/plain": [
       "<Figure size 432x288 with 1 Axes>"
      ]
     },
     "metadata": {
      "needs_background": "light"
     },
     "output_type": "display_data"
    }
   ],
   "source": [
    "# PLot the median active weekly days (violinplot)\n",
    "median_active_weekly_days = active_weekly_days.toPandas().groupby(['userId', 'churn'], as_index=False).median().drop('week', axis=1)\n",
    "sns.violinplot(data=median_active_weekly_days, x='churn', y='count')\n",
    "plt.show()"
   ]
  },
  {
   "cell_type": "code",
   "execution_count": 40,
   "metadata": {},
   "outputs": [
    {
     "data": {
      "image/png": "[encoded data removed]",
      "text/plain": [
       "<Figure size 432x288 with 1 Axes>"
      ]
     },
     "metadata": {
      "needs_background": "light"
     },
     "output_type": "display_data"
    }
   ],
   "source": [
    "# PLot the median active weekly days (swarmplot)\n",
    "sns.swarmplot(data=median_active_weekly_days, x='churn', y='count')\n",
    "plt.show()"
   ]
  },
  {
   "cell_type": "markdown",
   "metadata": {},
   "source": [
    "*Conclusion: Active Days per Week*\n",
    "\n",
    "The violinplot of the median of active days per week and user suggests that churned users have been active on more days than non churned. Looking at the swarmplot though, we can see that the actual (absolut) number of users with more active days is not that high. Thus, we should also look at the active weeks within the provided daterange to account for weeks, where churned users may have not listened at all. This circumstance would not be visible in the above representation. Still, the median active days per week can be considered as a feature, which impact at least might me evaluated."
   ]
  },
  {
   "cell_type": "markdown",
   "metadata": {},
   "source": [
    "**Days between Registration and Cancellation**"
   ]
  },
  {
   "cell_type": "code",
   "execution_count": 41,
   "metadata": {},
   "outputs": [],
   "source": [
    "# Time to Cancellation\n",
    "days_to_cancel = events.withColumn('cancellationTs', when(col('page') == 'Cancellation Confirmation', events.ts).otherwise(0)) \\\n",
    "    .groupby('userId', 'registration') \\\n",
    "    .agg(Fmax('cancellationTs').alias('cancellationTs')) \\\n",
    "    .withColumn('days_to_cancel', when(col('cancellationTs') > 0, (col('cancellationTs') - col('registration'))/86400/1000).otherwise(0)) \\\n",
    "    .filter(col('days_to_cancel') > 0) \\\n",
    "    .toPandas()"
   ]
  },
  {
   "cell_type": "code",
   "execution_count": 42,
   "metadata": {},
   "outputs": [
    {
     "data": {
      "image/png": "[encoded data removed]",
      "text/plain": [
       "<Figure size 432x288 with 1 Axes>"
      ]
     },
     "metadata": {
      "needs_background": "light"
     },
     "output_type": "display_data"
    }
   ],
   "source": [
    "plt.hist(days_to_cancel['days_to_cancel'])\n",
    "plt.show()"
   ]
  },
  {
   "cell_type": "code",
   "execution_count": 43,
   "metadata": {},
   "outputs": [],
   "source": [
    "# Check for events after cancellation\n",
    "last_event = events.withColumn('cancellationTs', when(col('page') == 'Cancellation Confirmation', events.ts).otherwise(0)) \\\n",
    "    .groupby('userId') \\\n",
    "    .agg(Fmax('cancellationTs').alias('cancellationTs'), Fmax('ts').alias('ts')) \\\n",
    "    .withColumn('diff', col('ts') - col('cancellationTs')) \\\n",
    "    .toPandas()"
   ]
  },
  {
   "cell_type": "code",
   "execution_count": 44,
   "metadata": {},
   "outputs": [
    {
     "name": "stdout",
     "output_type": "stream",
     "text": [
      "Users with events after cancellation: 0\n"
     ]
    }
   ],
   "source": [
    "print(\"Users with events after cancellation: {}\".format(len(last_event[(last_event['cancellationTs'] > 0) & (last_event['diff'] > 0)])))"
   ]
  },
  {
   "cell_type": "markdown",
   "metadata": {},
   "source": [
    "*Conclusion: Days between Registration and Cancellation*\n",
    "    \n",
    "In most of the cases, the time between registration and Cancellation isn't longer than 100 days. Overall, the plots suggest that the days since registration might be a good feature candidate. To be sure, that \"Days between Registration and Cancellation\" can translate to \"Days since Registration\", we checked that no user triggerd further events after the first cancellation."
   ]
  },
  {
   "cell_type": "markdown",
   "metadata": {},
   "source": [
    "**Artists listend to**"
   ]
  },
  {
   "cell_type": "code",
   "execution_count": 45,
   "metadata": {},
   "outputs": [
    {
     "data": {
      "image/png": "[encoded data removed]",
      "text/plain": [
       "<Figure size 432x288 with 1 Axes>"
      ]
     },
     "metadata": {
      "needs_background": "light"
     },
     "output_type": "display_data"
    }
   ],
   "source": [
    "# PLot artist count per user (violinplot)\n",
    "artists_per_user = events.groupby(['churn', 'userId']).agg(countDistinct('artist').alias('count')).toPandas()\n",
    "sns.violinplot(data=artists_per_user, y='count', x='churn')\n",
    "plt.show()"
   ]
  },
  {
   "cell_type": "code",
   "execution_count": 46,
   "metadata": {},
   "outputs": [
    {
     "data": {
      "image/png": "[encoded data removed]",
      "text/plain": [
       "<Figure size 432x288 with 1 Axes>"
      ]
     },
     "metadata": {
      "needs_background": "light"
     },
     "output_type": "display_data"
    }
   ],
   "source": [
    "# PLot artist count per user (swarmplot)\n",
    "artists_per_user = events.groupby(['churn', 'userId']).agg(countDistinct('artist').alias('count')).toPandas()\n",
    "sns.swarmplot(data=artists_per_user, y='count', x='churn')\n",
    "plt.show()"
   ]
  },
  {
   "cell_type": "markdown",
   "metadata": {},
   "source": [
    "*Conclusion: Artists listend to*\n",
    "\n",
    "The distribution of artist counts per user shows that churned users have not listend to more than 2000 artists whereas not churned users listened to up to 3500 artists. Even though the distribution in the lower counts is not extremely different, a high count of artists could still be an indicator against a churn risk, which makes it another feature option wihtin the next step of this project."
   ]
  },
  {
   "cell_type": "markdown",
   "metadata": {},
   "source": [
    "**Churn by Gender**"
   ]
  },
  {
   "cell_type": "code",
   "execution_count": 47,
   "metadata": {},
   "outputs": [],
   "source": [
    "churn_by_gender = events.groupby(['churn', 'gender']).agg(countDistinct('userId').alias('count')).toPandas()"
   ]
  },
  {
   "cell_type": "code",
   "execution_count": 48,
   "metadata": {},
   "outputs": [
    {
     "data": {
      "image/png": "[encoded data removed]",
      "text/plain": [
       "<Figure size 432x288 with 1 Axes>"
      ]
     },
     "metadata": {
      "needs_background": "light"
     },
     "output_type": "display_data"
    }
   ],
   "source": [
    "# Plot the share of men and women within churned and not churned users\n",
    "bars_f = list(churn_by_gender[churn_by_gender['gender']=='F'].sort_values('churn')['count'])\n",
    "bars_m = list(churn_by_gender[churn_by_gender['gender']=='M'].sort_values('churn')['count'])\n",
    "x = sorted(list(churn_by_gender['churn'].unique()))\n",
    "plt.bar(x, bars_f)\n",
    "plt.bar(x, bars_m, bottom= bars_f, color='darkred')\n",
    "plt.xticks(x)\n",
    "plt.xlabel('Churn')  \n",
    "plt.ylabel('Count')\n",
    "plt.legend(['F','M'])\n",
    "plt.show()  "
   ]
  },
  {
   "cell_type": "markdown",
   "metadata": {},
   "source": [
    "*Conclusion: Churn by Gender*\n",
    "\n",
    "Even though female and male users seems to be almost equally distributed within the not churned group, women seemd to have churned in a slightly smaller number than men."
   ]
  },
  {
   "cell_type": "markdown",
   "metadata": {},
   "source": [
    "**Churn by User Agent**"
   ]
  },
  {
   "cell_type": "code",
   "execution_count": 17,
   "metadata": {},
   "outputs": [],
   "source": [
    "# Parse userAgent String\n",
    "events = events.withColumn('browser', udf(lambda x: parse(x).browser.family, StringType())('userAgent')) \\\n",
    "    .withColumn('browser_version', udf(lambda x: parse(x).browser.version_string, StringType())('userAgent')) \\\n",
    "    .withColumn('os', udf(lambda x: parse(x).os.family, StringType())('userAgent')) \\\n",
    "    .withColumn('os_version', udf(lambda x: parse(x).os.version_string, StringType())('userAgent')) \\\n",
    "    .withColumn('device', udf(lambda x: parse(x).device.family, StringType())('userAgent')) \\\n",
    "    .withColumn('device_brand', udf(lambda x: parse(x).device.brand, StringType())('userAgent')) "
   ]
  },
  {
   "cell_type": "code",
   "execution_count": 50,
   "metadata": {},
   "outputs": [
    {
     "data": {
      "image/png": "[encoded data removed]",
      "text/plain": [
       "<Figure size 1080x576 with 6 Axes>"
      ]
     },
     "metadata": {
      "needs_background": "light"
     },
     "output_type": "display_data"
    }
   ],
   "source": [
    "userInfos = [['browser', 'os', 'device'],['browser_version', 'os_version', 'device_brand']]\n",
    "\n",
    "fig, ax = plt.subplots(len(userInfos), len(userInfos[0]), figsize=(len(userInfos[0])*5,len(userInfos)*4))\n",
    "for i, ui in enumerate(userInfos):\n",
    "    for j, u in enumerate(ui): \n",
    "        data = events.groupby(['churn', u]).agg(countDistinct('userId').alias('count')).toPandas()\n",
    "        sns.barplot(x=u, y='count', hue='churn', data=data, ax=ax[i][j])\n",
    "        ax[i][j].set_title('Churn by {}'.format(u))\n",
    "plt.tight_layout()\n",
    "plt.show()"
   ]
  },
  {
   "cell_type": "code",
   "execution_count": 65,
   "metadata": {},
   "outputs": [
    {
     "name": "stdout",
     "output_type": "stream",
     "text": [
      "+-------+---+------+---------------+----------+------------+\n",
      "|browser| os|device|browser_version|os_version|device_brand|\n",
      "+-------+---+------+---------------+----------+------------+\n",
      "|      0|  0|     0|              0|      8961|           0|\n",
      "+-------+---+------+---------------+----------+------------+\n",
      "\n"
     ]
    }
   ],
   "source": [
    "# Check for missing values\n",
    "feat_cols = ['browser', 'os', 'device','browser_version', 'os_version', 'device_brand']\n",
    "events.select([count(when(col(c) == '', c)).alias(c) for c in feat_cols]).show()"
   ]
  },
  {
   "cell_type": "markdown",
   "metadata": {},
   "source": [
    "*Conclusion: Churn by User Agent*\n",
    "\n",
    "The technical setting in which someone is using a streaming service can be very important for her/his user expierience (considering some functions might work better/worse in specific settings). Concluding from the above visualizations:\n",
    "\n",
    "- \"device_brand\" is not relevant as it only contains a single unique value\n",
    "- \"device\" is propapbly not relevant as the very most of all users would be categoriezed as \"Other\"\n",
    "- \"os_version\" should not be used as a features, as it has many missing values and we would not want to remove any users from the data, as we already only less than 300 users in total\n",
    "- \"browser\" and \"os\" on the other hand could be useful for predicting churn as we already see differences in the churn/ no churn ratio when looking at \"Mac OS X\" vs. \"Windows\""
   ]
  },
  {
   "cell_type": "markdown",
   "metadata": {},
   "source": [
    "**Churn by Level**"
   ]
  },
  {
   "cell_type": "code",
   "execution_count": 51,
   "metadata": {},
   "outputs": [],
   "source": [
    "churn_by_level = events.groupby(['churn', 'level']).agg(countDistinct('userId').alias('count')).toPandas()"
   ]
  },
  {
   "cell_type": "code",
   "execution_count": 52,
   "metadata": {},
   "outputs": [
    {
     "data": {
      "image/png": "[encoded data removed]",
      "text/plain": [
       "<Figure size 432x288 with 1 Axes>"
      ]
     },
     "metadata": {
      "needs_background": "light"
     },
     "output_type": "display_data"
    }
   ],
   "source": [
    "# Plot the share of free and paid levels within churned and not churned users\n",
    "bars_f = list(churn_by_level[churn_by_level['level']=='free'].sort_values('churn')['count'])\n",
    "bars_m = list(churn_by_level[churn_by_level['level']=='paid'].sort_values('churn')['count'])\n",
    "x = sorted(list(churn_by_level['churn'].unique()))\n",
    "plt.bar(x, bars_f)\n",
    "plt.bar(x, bars_m, bottom= bars_f, color='darkred')\n",
    "plt.xticks(x)\n",
    "plt.xlabel('Churn')  \n",
    "plt.ylabel('Count')\n",
    "plt.legend(['free','paid'])\n",
    "plt.show()  "
   ]
  },
  {
   "cell_type": "markdown",
   "metadata": {},
   "source": [
    "*Conclusion: Churn by Level*\n",
    "\n",
    "Looking at the barplot, the ratio of free and paid subscriptions seems almost balanced within both groupy (free subscriptions are just slightly more dominant), churned and not churned users."
   ]
  },
  {
   "cell_type": "markdown",
   "metadata": {},
   "source": [
    "**Churn by Location**"
   ]
  },
  {
   "cell_type": "code",
   "execution_count": 53,
   "metadata": {},
   "outputs": [],
   "source": [
    "churn_by_location = events.groupby(['churn', 'location']).agg(countDistinct('userId').alias('count')).toPandas()"
   ]
  },
  {
   "cell_type": "code",
   "execution_count": 54,
   "metadata": {},
   "outputs": [
    {
     "data": {
      "text/html": [
       "<div>\n",
       "<style scoped>\n",
       "    .dataframe tbody tr th:only-of-type {\n",
       "        vertical-align: middle;\n",
       "    }\n",
       "\n",
       "    .dataframe tbody tr th {\n",
       "        vertical-align: top;\n",
       "    }\n",
       "\n",
       "    .dataframe thead th {\n",
       "        text-align: right;\n",
       "    }\n",
       "</style>\n",
       "<table border=\"1\" class=\"dataframe\">\n",
       "  <thead>\n",
       "    <tr style=\"text-align: right;\">\n",
       "      <th></th>\n",
       "      <th>churn</th>\n",
       "      <th>location</th>\n",
       "      <th>count</th>\n",
       "    </tr>\n",
       "  </thead>\n",
       "  <tbody>\n",
       "    <tr>\n",
       "      <td>0</td>\n",
       "      <td>0</td>\n",
       "      <td>Seattle-Tacoma-Bellevue, WA</td>\n",
       "      <td>2</td>\n",
       "    </tr>\n",
       "    <tr>\n",
       "      <td>1</td>\n",
       "      <td>0</td>\n",
       "      <td>St. Louis, MO-IL</td>\n",
       "      <td>5</td>\n",
       "    </tr>\n",
       "    <tr>\n",
       "      <td>2</td>\n",
       "      <td>1</td>\n",
       "      <td>Bozeman, MT</td>\n",
       "      <td>1</td>\n",
       "    </tr>\n",
       "    <tr>\n",
       "      <td>3</td>\n",
       "      <td>1</td>\n",
       "      <td>Albany, OR</td>\n",
       "      <td>1</td>\n",
       "    </tr>\n",
       "    <tr>\n",
       "      <td>4</td>\n",
       "      <td>0</td>\n",
       "      <td>Morgantown, WV</td>\n",
       "      <td>1</td>\n",
       "    </tr>\n",
       "  </tbody>\n",
       "</table>\n",
       "</div>"
      ],
      "text/plain": [
       "   churn                     location  count\n",
       "0      0  Seattle-Tacoma-Bellevue, WA      2\n",
       "1      0             St. Louis, MO-IL      5\n",
       "2      1                  Bozeman, MT      1\n",
       "3      1                   Albany, OR      1\n",
       "4      0               Morgantown, WV      1"
      ]
     },
     "execution_count": 54,
     "metadata": {},
     "output_type": "execute_result"
    }
   ],
   "source": [
    "churn_by_location.head()"
   ]
  },
  {
   "cell_type": "code",
   "execution_count": 55,
   "metadata": {},
   "outputs": [
    {
     "data": {
      "text/plain": [
       "114"
      ]
     },
     "execution_count": 55,
     "metadata": {},
     "output_type": "execute_result"
    }
   ],
   "source": [
    "# Check number of unique locations\n",
    "len(churn_by_location['location'].unique())"
   ]
  },
  {
   "cell_type": "code",
   "execution_count": 56,
   "metadata": {},
   "outputs": [
    {
     "data": {
      "text/plain": [
       "225"
      ]
     },
     "execution_count": 56,
     "metadata": {},
     "output_type": "execute_result"
    }
   ],
   "source": [
    "# Compare number of unique locations to number of unique users\n",
    "events.select('userId').distinct().count()"
   ]
  },
  {
   "cell_type": "code",
   "execution_count": 57,
   "metadata": {},
   "outputs": [],
   "source": [
    "# Extract the state from location to reduce categories\n",
    "churn_by_location['state'] = churn_by_location['location'].apply(lambda x: x.split(\",\")[1])"
   ]
  },
  {
   "cell_type": "code",
   "execution_count": 58,
   "metadata": {},
   "outputs": [
    {
     "data": {
      "text/plain": [
       "58"
      ]
     },
     "execution_count": 58,
     "metadata": {},
     "output_type": "execute_result"
    }
   ],
   "source": [
    "len(churn_by_location['state'].unique())"
   ]
  },
  {
   "cell_type": "code",
   "execution_count": 59,
   "metadata": {},
   "outputs": [
    {
     "data": {
      "image/png": "[encoded data removed]",
      "text/plain": [
       "<Figure size 1440x360 with 1 Axes>"
      ]
     },
     "metadata": {
      "needs_background": "light"
     },
     "output_type": "display_data"
    }
   ],
   "source": [
    "# Plot number of churned and not churned users by state\n",
    "plt.figure(figsize=(20,5))\n",
    "sns.barplot(x='state', y='count', hue='churn', data=churn_by_location.groupby(['state', 'churn'], as_index=False).count())\n",
    "plt.xticks(rotation=90)\n",
    "plt.show()"
   ]
  },
  {
   "cell_type": "markdown",
   "metadata": {},
   "source": [
    "*Conclusion: Churn by Location*\n",
    "\n",
    "The dataset contains 114 unique locations for 225 unique users. Thus, the location information has been reduced to the state, which gives us a categorical variable with only 58 values. Extracting local patterns on this basis will propably be more likely, as the groupy of users by location (state) will be larger."
   ]
  },
  {
   "cell_type": "markdown",
   "metadata": {},
   "source": [
    "## Load & Prepare Data (one Step)"
   ]
  },
  {
   "cell_type": "markdown",
   "metadata": {},
   "source": [
    "Encapsulate all data preparations in one function, making it easier to comprehend and repeat."
   ]
  },
  {
   "cell_type": "code",
   "execution_count": 9,
   "metadata": {},
   "outputs": [],
   "source": [
    "def load_prepare_data():\n",
    "    # Load data\n",
    "    events = spark.read.json(\"mini_sparkify_event_data.json\")\n",
    "\n",
    "    # Remove entries for logged out and guest users\n",
    "    events = events.filter(\"auth not in ('Logged Out', 'Guest')\")\n",
    "\n",
    "    # Add column churn with 0 as default value\n",
    "    events = events.withColumn(\"churn\", lit(0))\n",
    "\n",
    "    # Identify all userIds with churn event\n",
    "    churn_userIds = list(events.filter(\"page in ('Cancellation Confirmation')\").select('userId').distinct().toPandas()['userId'])\n",
    "\n",
    "    # Set churn to 1 for all events of a churn user\n",
    "    events = events.withColumn(\"churn\", when(col(\"userId\").isin(churn_userIds), 1).otherwise(col(\"churn\")))\n",
    "\n",
    "    # Parse userAgent String\n",
    "    events = events.withColumn('browser', udf(lambda x: parse(x).browser.family, StringType())('userAgent')) \\\n",
    "        .withColumn('browser_version', udf(lambda x: parse(x).browser.version_string, StringType())('userAgent')) \\\n",
    "        .withColumn('os', udf(lambda x: parse(x).os.family, StringType())('userAgent')) \\\n",
    "        .withColumn('os_version', udf(lambda x: parse(x).os.version_string, StringType())('userAgent')) \\\n",
    "        .withColumn('device', udf(lambda x: parse(x).device.family, StringType())('userAgent')) \\\n",
    "        .withColumn('device_brand', udf(lambda x: parse(x).device.brand, StringType())('userAgent')) \n",
    "\n",
    "    return events"
   ]
  },
  {
   "cell_type": "code",
   "execution_count": 10,
   "metadata": {},
   "outputs": [],
   "source": [
    "events = load_prepare_data()"
   ]
  },
  {
   "cell_type": "markdown",
   "metadata": {},
   "source": [
    "# Feature Engineering\n",
    "Once you've familiarized yourself with the data, build out the features you find promising to train your model on. To work with the full dataset, you can follow the following steps.\n",
    "- Write a script to extract the necessary features from the smaller subset of data\n",
    "- Ensure that your script is scalable, using the best practices discussed in Lesson 3\n",
    "- Try your script on the full data set, debugging your script if necessary\n",
    "\n",
    "If you are working in the classroom workspace, you can just extract features based on the small subset of data contained here. Be sure to transfer over this work to the larger dataset when you work on your Spark cluster."
   ]
  },
  {
   "cell_type": "markdown",
   "metadata": {},
   "source": [
    "### Create Features\n",
    "\n",
    "We want to be able to identify whether a certain user is about to churn, meaning we need to train the corresponding algorithm on a user basis. Thus, when creating features we need to aggregate the event data on user level."
   ]
  },
  {
   "cell_type": "markdown",
   "metadata": {},
   "source": [
    "**Extract categorical features by user**"
   ]
  },
  {
   "cell_type": "markdown",
   "metadata": {},
   "source": [
    "Group events by user and select max catogorical features"
   ]
  },
  {
   "cell_type": "code",
   "execution_count": 11,
   "metadata": {},
   "outputs": [],
   "source": [
    "def create_categorical_features(events):\n",
    "    '''\n",
    "    Parameters: \n",
    "        events (spark dataframe) - The dataframe that holds the events\n",
    "    \n",
    "    Return:\n",
    "        cat_features (spark dataframe) - The events dataframe grouped by userId holding max values of the relevant categorical columns\n",
    "   '''\n",
    "    cat_features = events.groupby('userId') \\\n",
    "        .agg(\n",
    "            Fmax('gender').alias('gender'),\n",
    "            Fmax('level').alias('level'),\n",
    "            Fmax('location').alias('location'),\n",
    "            Fmax('browser').alias('browser'),\n",
    "            Fmax('os').alias('os'),\n",
    "            Fmax('churn').alias('churn')\n",
    "        ) \\\n",
    "        .withColumn('state', udf(lambda x: x.split(',')[1], StringType())('location')) \\\n",
    "        .drop('location')\n",
    "    \n",
    "    return cat_features"
   ]
  },
  {
   "cell_type": "markdown",
   "metadata": {},
   "source": [
    "**Extract calculated features by user**"
   ]
  },
  {
   "cell_type": "code",
   "execution_count": 12,
   "metadata": {},
   "outputs": [],
   "source": [
    "def create_calculated_features(events):\n",
    "    '''\n",
    "    Parameters: \n",
    "        events (spark dataframe) - The dataframe that holds the events\n",
    "\n",
    "    Return:\n",
    "        calc_features (spark dataframe) - The events dataframe grouped by userId including calculated features based on all user events\n",
    "    '''\n",
    "    # Create base df with all userIds to join the calculated features with\n",
    "    calc_features = events.groupBy('userId').count()\n",
    "\n",
    "    # Calculate the average weekly event count by user for every page\n",
    "    pages = list(events.select('page').distinct().toPandas()['page'])\n",
    "    for page in pages:        \n",
    "        page_feature = events \\\n",
    "            .withColumn(page, when(col('page') == page, 1).otherwise(0)) \\\n",
    "            .withColumn(\"week\", week_func(events.ts)) \\\n",
    "            .groupby('userId', 'week') \\\n",
    "            .agg(Fsum(page).alias('sum')) \\\n",
    "            .groupby('userId') \\\n",
    "            .agg(avg('sum').alias(\"weekly_\" + page.replace(\" \", \"\")))\n",
    "        calc_features = calc_features.join(page_feature, on='userId', how='left').na.fill(0)\n",
    "    \n",
    "    # Remove count column, as it has only been used to generate the base df\n",
    "    calc_features = calc_features.drop('count')\n",
    "\n",
    "    # Calculate boolean variable whether or not the user has already downgraded\n",
    "    downgraded = events.withColumn('downgraded', when(col('page') == 'Submit Downgrade', 1).otherwise(0)) \\\n",
    "        .groupby('userId') \\\n",
    "        .agg(Fmax('downgraded').alias('downgraded'))\n",
    "    \n",
    "    # Calculate the average count of songs per session by user\n",
    "    songs_per_session = events.filter('page == \"NextSong\"') \\\n",
    "        .groupby(['userId', 'sessionId']) \\\n",
    "        .agg(count('page').alias('count')) \\\n",
    "        .groupby('userId') \\\n",
    "        .agg(avg('count').alias('session_songs'))\n",
    "\n",
    "    # Calculate the average daily length listened to by user\n",
    "    length_per_day = events.filter('page == \"NextSong\"') \\\n",
    "        .withColumn(\"date\", datetime_func(events.ts)) \\\n",
    "        .groupby(['userId', 'date']) \\\n",
    "        .agg(Fsum('length').alias('length')) \\\n",
    "        .groupby('userId') \\\n",
    "        .agg(avg('length').alias('daily_length'))\n",
    "    \n",
    "    # Calculate the average daily count of distinct artists listened to by user\n",
    "    artist_per_day = events.filter('page == \"NextSong\"') \\\n",
    "        .withColumn(\"date\", datetime_func(events.ts)) \\\n",
    "        .groupby(['userId', 'date']) \\\n",
    "        .agg(countDistinct('artist').alias('artists')) \\\n",
    "        .groupby(['userId']) \\\n",
    "        .agg(avg('artists').alias('daily_artists'))\n",
    "\n",
    "    # Calculate the average weekly active days by user\n",
    "    active_weekly_days = events.withColumn(\"date\", datetime_func(events.ts)) \\\n",
    "        .withColumn(\"week\", week_func(events.ts)) \\\n",
    "        .groupby(['userId', 'week', 'date']) \\\n",
    "        .agg(count('page').alias('daily_events')) \\\n",
    "        .groupby(['userId', 'week']) \\\n",
    "        .agg(avg('daily_events').alias('days_per_week')) \\\n",
    "        .groupby('userId') \\\n",
    "        .agg(avg('days_per_week').alias('days_per_week'))\n",
    "    \n",
    "    # Calculate the number of days since registration\n",
    "    reg_days = events.groupby('userId', 'registration') \\\n",
    "        .agg(Fmax('ts').alias('maxTs')) \\\n",
    "        .withColumn('days_since_reg', (col('maxTs') - col('registration'))/86400/1000) \\\n",
    "        .groupby('userId') \\\n",
    "        .agg(Fmax('days_since_reg').alias('days_since_reg'))\n",
    "    \n",
    "    # Join all feature dataframes\n",
    "    for feat in [downgraded,songs_per_session,length_per_day, artist_per_day, active_weekly_days, reg_days]:\n",
    "        calc_features = calc_features.join(feat, on='userId', how='left').na.fill(0)\n",
    "\n",
    "    return calc_features"
   ]
  },
  {
   "cell_type": "markdown",
   "metadata": {},
   "source": [
    "*Comment: Possible improvements:*\n",
    "- Using median instead of mean"
   ]
  },
  {
   "cell_type": "markdown",
   "metadata": {},
   "source": [
    "**Create Features in one Step**"
   ]
  },
  {
   "cell_type": "code",
   "execution_count": 16,
   "metadata": {},
   "outputs": [],
   "source": [
    "def create_features(events):\n",
    "    '''\n",
    "    Parameters: \n",
    "        events (spark dataframe) - The dataframe that holds the events\n",
    "\n",
    "    Return:\n",
    "        feature_df (spark dataframe) - The dataframe that holds all categorical and calculated features without userId\n",
    "        cat_columns (String array) - The names of all categorical columns\n",
    "    '''\n",
    "    # Create categorical features\n",
    "    feature_df = create_categorical_features(events)\n",
    "    \n",
    "    # Extract column names of categorical features\n",
    "    cat_columns = feature_df.columns[1:]\n",
    "    cat_columns.remove('churn') # Extract categorical (excluding the churn label)\n",
    "    \n",
    "    # Join categorical and calculated features\n",
    "    feature_df = feature_df.join(\n",
    "        create_calculated_features(events), \n",
    "        on='userId', \n",
    "        how='inner'\n",
    "    )\n",
    "    \n",
    "    # Remove userId, which we don't want to keep as feature\n",
    "    feature_df = feature_df.drop('userId')\n",
    "    \n",
    "    return feature_df, cat_columns"
   ]
  },
  {
   "cell_type": "code",
   "execution_count": 17,
   "metadata": {},
   "outputs": [],
   "source": [
    "feature_df, cat_columns = create_features(events)"
   ]
  },
  {
   "cell_type": "code",
   "execution_count": 18,
   "metadata": {},
   "outputs": [],
   "source": [
    "feature_df = spark.createDataFrame(feature_df.rdd) # Save feature_df to prevent out of memory issues during further calculations"
   ]
  },
  {
   "cell_type": "code",
   "execution_count": 19,
   "metadata": {},
   "outputs": [
    {
     "data": {
      "text/plain": [
       "['gender', 'level', 'browser', 'os', 'state']"
      ]
     },
     "execution_count": 19,
     "metadata": {},
     "output_type": "execute_result"
    }
   ],
   "source": [
    "cat_columns"
   ]
  },
  {
   "cell_type": "code",
   "execution_count": 20,
   "metadata": {},
   "outputs": [
    {
     "name": "stdout",
     "output_type": "stream",
     "text": [
      "+------+-----+-------------+--------+-----+---------+------------------+----------------------+-----------------+------------------+-----------------+------------------+-----------------+-------------------+-------------------------------+------------------+------------------+--------------------+-----------------+------------------+------------------+------------------+--------------+------------------+--------------------+----------+------------------+------------------+------------------+------------------+------------------+\n",
      "|gender|level|      browser|      os|churn|    state|     weekly_Cancel|weekly_SubmitDowngrade|weekly_ThumbsDown|       weekly_Home| weekly_Downgrade| weekly_RollAdvert|    weekly_Logout|weekly_SaveSettings|weekly_CancellationConfirmation|      weekly_About|   weekly_Settings|weekly_AddtoPlaylist| weekly_AddFriend|   weekly_NextSong|   weekly_ThumbsUp|       weekly_Help|weekly_Upgrade|      weekly_Error|weekly_SubmitUpgrade|downgraded|     session_songs|      daily_length|     daily_artists|     days_per_week|    days_since_reg|\n",
      "+------+-----+-------------+--------+-----+---------+------------------+----------------------+-----------------+------------------+-----------------+------------------+-----------------+-------------------+-------------------------------+------------------+------------------+--------------------+-----------------+------------------+------------------+------------------+--------------+------------------+--------------------+----------+------------------+------------------+------------------+------------------+------------------+\n",
      "|     F| free|Mobile Safari|     iOS|    0|       CT|               0.0|                   0.0|             1.25|              2.75|              0.0|              13.0|             1.25|                0.0|                            0.0|              0.25|               0.0|                1.75|              1.0|             68.75|              4.25|               0.5|           0.5|               0.0|                 0.0|         0|39.285714285714285| 9562.985335714286| 38.57142857142857|51.583333333333336| 55.64365740740741|\n",
      "|     M| paid|Mobile Safari|     iOS|    0| IL-IN-WI|               0.0|                   0.0|              1.5|               5.0|             1.25|              1.75|             1.25|                0.0|                            0.0|              0.75|              0.75|                 2.0|              1.0|             96.75|              5.25|               0.5|           0.5|               0.0|                0.25|         0|              64.5|11751.109492499996|            46.875|             59.25| 70.07462962962964|\n",
      "|     M| free|       Chrome|Mac OS X|    1|       TX|               1.0|                   0.0|              0.0|               0.0|              0.0|               1.0|              0.0|                0.0|                            1.0|               0.0|               0.0|                 0.0|              0.0|               8.0|               0.0|               0.0|           0.0|               0.0|                 0.0|         0|               8.0|2089.1131000000005|               8.0|              11.0| 71.31688657407408|\n",
      "|     F| paid|       Chrome|Mac OS X|    0|       NJ|               0.0|                   0.0|4.555555555555555|19.555555555555557|4.555555555555555|0.4444444444444444|6.555555555555555| 0.6666666666666666|                            0.0|0.7777777777777778|2.2222222222222223|   13.11111111111111|8.222222222222221|453.22222222222223|              19.0|2.5555555555555554|           0.0|0.6666666666666666|                 0.0|         0|145.67857142857142|28923.202651142856|108.51428571428572|132.34629629629632|131.55591435185187|\n",
      "|     M| paid|       Chrome| Windows|    1|       KY|0.3333333333333333|                   0.0|              7.0|              25.0|7.666666666666667|               0.0|              8.0| 0.3333333333333333|             0.3333333333333333|0.6666666666666666|               4.0|  17.333333333333332|9.333333333333334| 703.6666666666666|33.333333333333336|               4.0|           0.0|0.3333333333333333|                 0.0|         0|             211.1| 37376.84591428572|138.64285714285714|176.70634920634924| 19.45584490740741|\n",
      "+------+-----+-------------+--------+-----+---------+------------------+----------------------+-----------------+------------------+-----------------+------------------+-----------------+-------------------+-------------------------------+------------------+------------------+--------------------+-----------------+------------------+------------------+------------------+--------------+------------------+--------------------+----------+------------------+------------------+------------------+------------------+------------------+\n",
      "only showing top 5 rows\n",
      "\n"
     ]
    }
   ],
   "source": [
    "feature_df.show(5)"
   ]
  },
  {
   "cell_type": "markdown",
   "metadata": {},
   "source": [
    "### Handel missing values"
   ]
  },
  {
   "cell_type": "code",
   "execution_count": 21,
   "metadata": {},
   "outputs": [
    {
     "name": "stdout",
     "output_type": "stream",
     "text": [
      "+------+-----+-------+---+-----+-----+-------------+----------------------+-----------------+-----------+----------------+-----------------+-------------+-------------------+-------------------------------+------------+---------------+--------------------+----------------+---------------+---------------+-----------+--------------+------------+--------------------+----------+-------------+------------+-------------+-------------+--------------+\n",
      "|gender|level|browser| os|churn|state|weekly_Cancel|weekly_SubmitDowngrade|weekly_ThumbsDown|weekly_Home|weekly_Downgrade|weekly_RollAdvert|weekly_Logout|weekly_SaveSettings|weekly_CancellationConfirmation|weekly_About|weekly_Settings|weekly_AddtoPlaylist|weekly_AddFriend|weekly_NextSong|weekly_ThumbsUp|weekly_Help|weekly_Upgrade|weekly_Error|weekly_SubmitUpgrade|downgraded|session_songs|daily_length|daily_artists|days_per_week|days_since_reg|\n",
      "+------+-----+-------+---+-----+-----+-------------+----------------------+-----------------+-----------+----------------+-----------------+-------------+-------------------+-------------------------------+------------+---------------+--------------------+----------------+---------------+---------------+-----------+--------------+------------+--------------------+----------+-------------+------------+-------------+-------------+--------------+\n",
      "|     0|    0|      0|  0|    0|    0|            0|                     0|                0|          0|               0|                0|            0|                  0|                              0|           0|              0|                   0|               0|              0|              0|          0|             0|           0|                   0|         0|            0|           0|            0|            0|             0|\n",
      "+------+-----+-------+---+-----+-----+-------------+----------------------+-----------------+-----------+----------------+-----------------+-------------+-------------------+-------------------------------+------------+---------------+--------------------+----------------+---------------+---------------+-----------+--------------+------------+--------------------+----------+-------------+------------+-------------+-------------+--------------+\n",
      "\n"
     ]
    }
   ],
   "source": [
    "# Check for missing values (null or empty string)\n",
    "feature_df.select([count(when((col(c) == '') | (isnull(c)), c)).alias(c) for c in feature_df.columns]).show()"
   ]
  },
  {
   "cell_type": "markdown",
   "metadata": {},
   "source": [
    "*Conclusion: Remove missing values*\n",
    "\n",
    "There are no null values or empty strings present in the prepared feature set, therefore no further steps are necessary."
   ]
  },
  {
   "cell_type": "markdown",
   "metadata": {},
   "source": [
    "### Transform Features for modeling (One Hot Encoding & Vectorization)"
   ]
  },
  {
   "cell_type": "code",
   "execution_count": 22,
   "metadata": {},
   "outputs": [],
   "source": [
    "def transform_data(feature_df, cat_columns):\n",
    "    '''\n",
    "    Parameters: \n",
    "        feature_df (spark dataframe) - The dataframe that holds all categorical and calculated features\n",
    "        cat_columns (string array) - The names of the categorical columns\n",
    "\n",
    "    Return:\n",
    "        model_data - The one hot encoded and vectorized model data\n",
    "    '''\n",
    "    # Build pipeline stages\n",
    "    stages = []\n",
    "    \n",
    "    # Indexing and One Hot Encoding of categorical features \n",
    "    for c in cat_columns:  \n",
    "        stringIndexer = StringIndexer(inputCol=c, outputCol='{}_index'.format(c))\n",
    "        encoder = OneHotEncoder(inputCol='{}_index'.format(c),outputCol='{}_vec'.format(c))\n",
    "        stages = stages + [stringIndexer, encoder]\n",
    "    \n",
    "    # Convert target label into label indices\n",
    "    label_stringIdx = StringIndexer(inputCol=\"churn\", outputCol=\"label\")\n",
    "    stages = stages + [label_stringIdx]\n",
    "\n",
    "    # Transform feature columns into a vector\n",
    "    numeric_cols = [c for c in feature_df.columns if c not in cat_columns + ['churn']]\n",
    "    assembler_inputs = [c + \"_vec\" for c in cat_columns] + numeric_cols\n",
    "    assembler = VectorAssembler(inputCols=assembler_inputs, outputCol='features')\n",
    "    stages = stages + [assembler]\n",
    "    \n",
    "    # Build pipeline    \n",
    "    partial_pipeline = Pipeline(stages=stages)\n",
    "    \n",
    "    # Fit pipeline model\n",
    "    pipeline_model = partial_pipeline.fit(feature_df)\n",
    "    \n",
    "    # Transform original data to model data\n",
    "    model_data = pipeline_model.transform(feature_df)\n",
    "    \n",
    "    return model_data"
   ]
  },
  {
   "cell_type": "code",
   "execution_count": 37,
   "metadata": {},
   "outputs": [],
   "source": [
    "model_data = transform_data(feature_df, cat_columns)"
   ]
  },
  {
   "cell_type": "code",
   "execution_count": 38,
   "metadata": {},
   "outputs": [],
   "source": [
    "model_data = spark.createDataFrame(model_data.select(['label','features']  + feature_df.columns).rdd) # Save relevant cols to prevent local out of memory issues during further calculations"
   ]
  },
  {
   "cell_type": "code",
   "execution_count": 25,
   "metadata": {},
   "outputs": [
    {
     "data": {
      "text/plain": [
       "Row(label=0.0, features=SparseVector(39, {3: 1.0, 5: 1.0, 7: 1.0, 16: 1.25, 17: 2.75, 19: 13.0, 20: 1.25, 23: 0.25, 25: 1.75, 26: 1.0, 27: 68.75, 28: 4.25, 29: 0.5, 30: 0.5, 34: 39.2857, 35: 9562.9853, 36: 38.5714, 37: 51.5833, 38: 55.6437}), gender='F', level='free', browser='Mobile Safari', os='iOS', churn=0, state=' CT', weekly_Cancel=0.0, weekly_SubmitDowngrade=0.0, weekly_ThumbsDown=1.25, weekly_Home=2.75, weekly_Downgrade=0.0, weekly_RollAdvert=13.0, weekly_Logout=1.25, weekly_SaveSettings=0.0, weekly_CancellationConfirmation=0.0, weekly_About=0.25, weekly_Settings=0.0, weekly_AddtoPlaylist=1.75, weekly_AddFriend=1.0, weekly_NextSong=68.75, weekly_ThumbsUp=4.25, weekly_Help=0.5, weekly_Upgrade=0.5, weekly_Error=0.0, weekly_SubmitUpgrade=0.0, downgraded=0, session_songs=39.285714285714285, daily_length=9562.985335714286, daily_artists=38.57142857142857, days_per_week=51.583333333333336, days_since_reg=55.64365740740741)"
      ]
     },
     "execution_count": 25,
     "metadata": {},
     "output_type": "execute_result"
    }
   ],
   "source": [
    "model_data.head()"
   ]
  },
  {
   "cell_type": "markdown",
   "metadata": {},
   "source": [
    "*Conclusion: Transform Features for modeling*\n",
    "\n",
    "To prepare the dataset for modeling, some transformations have been necessary, which have been implemented as a transformative pipeline:\n",
    "\n",
    "- First, we transformed the categorical features using a StringIndexer to replace categorical values with indices combined with one hot encoding (creating a seperat binary feature for every category). The second step is important, as the given features are not ordinal. If we would train a model on only the indexed categorical features, it could interpret the numerical index as a rank, even though this does not reflect the logic of the data.\n",
    "- In the next step, the target label (\"churn\") has been indexed as well.\n",
    "- In the last pipeline step, the numerical and transformed categorical features have been transformed into vectors, which is requiered for the model input.\n",
    "\n",
    "Finally, we fitted out dataset (created features) to the pipeline model and transformed the data to receive a data structure that can be used for modeling.\n",
    "\n",
    "To prevent local memory issues (caused by a lagre number of stages), we saved the result as a new DataFrame."
   ]
  },
  {
   "cell_type": "markdown",
   "metadata": {},
   "source": [
    "# Modeling\n",
    "Split the full dataset into train, test, and validation sets. Test out several of the machine learning methods you learned. Evaluate the accuracy of the various models, tuning parameters as necessary. Determine your winning model based on test accuracy and report results on the validation set. Since the churned users are a fairly small subset, I suggest using F1 score as the metric to optimize."
   ]
  },
  {
   "cell_type": "markdown",
   "metadata": {},
   "source": [
    "### Train Random forest classifier"
   ]
  },
  {
   "cell_type": "code",
   "execution_count": 26,
   "metadata": {},
   "outputs": [],
   "source": [
    "from pyspark.ml import Pipeline\n",
    "from pyspark.ml.classification import RandomForestClassifier, LogisticRegression\n",
    "from pyspark.ml.feature import IndexToString, StringIndexer, VectorIndexer\n",
    "from pyspark.ml.evaluation import MulticlassClassificationEvaluator"
   ]
  },
  {
   "cell_type": "code",
   "execution_count": 161,
   "metadata": {},
   "outputs": [],
   "source": [
    "# TODO Upsampling"
   ]
  },
  {
   "cell_type": "code",
   "execution_count": 39,
   "metadata": {},
   "outputs": [],
   "source": [
    "# Split data into training and testing data (use 30% for testing)\n",
    "train_data, test_data = model_data.randomSplit([0.7, 0.3])"
   ]
  },
  {
   "cell_type": "code",
   "execution_count": 40,
   "metadata": {},
   "outputs": [],
   "source": [
    "# Train a RandomForest model\n",
    "lr = LogisticRegression(labelCol=\"label\", featuresCol=\"features\")"
   ]
  },
  {
   "cell_type": "code",
   "execution_count": 41,
   "metadata": {},
   "outputs": [],
   "source": [
    "lr_model = lr.fit(train_data)"
   ]
  },
  {
   "cell_type": "code",
   "execution_count": 42,
   "metadata": {},
   "outputs": [],
   "source": [
    "predictions = lr_model.transform(test_data)"
   ]
  },
  {
   "cell_type": "code",
   "execution_count": 43,
   "metadata": {},
   "outputs": [
    {
     "name": "stdout",
     "output_type": "stream",
     "text": [
      "root\n",
      " |-- label: double (nullable = true)\n",
      " |-- features: vector (nullable = true)\n",
      " |-- gender: string (nullable = true)\n",
      " |-- level: string (nullable = true)\n",
      " |-- browser: string (nullable = true)\n",
      " |-- os: string (nullable = true)\n",
      " |-- churn: long (nullable = true)\n",
      " |-- state: string (nullable = true)\n",
      " |-- weekly_Cancel: double (nullable = true)\n",
      " |-- weekly_SubmitDowngrade: double (nullable = true)\n",
      " |-- weekly_ThumbsDown: double (nullable = true)\n",
      " |-- weekly_Home: double (nullable = true)\n",
      " |-- weekly_Downgrade: double (nullable = true)\n",
      " |-- weekly_RollAdvert: double (nullable = true)\n",
      " |-- weekly_Logout: double (nullable = true)\n",
      " |-- weekly_SaveSettings: double (nullable = true)\n",
      " |-- weekly_CancellationConfirmation: double (nullable = true)\n",
      " |-- weekly_About: double (nullable = true)\n",
      " |-- weekly_Settings: double (nullable = true)\n",
      " |-- weekly_AddtoPlaylist: double (nullable = true)\n",
      " |-- weekly_AddFriend: double (nullable = true)\n",
      " |-- weekly_NextSong: double (nullable = true)\n",
      " |-- weekly_ThumbsUp: double (nullable = true)\n",
      " |-- weekly_Help: double (nullable = true)\n",
      " |-- weekly_Upgrade: double (nullable = true)\n",
      " |-- weekly_Error: double (nullable = true)\n",
      " |-- weekly_SubmitUpgrade: double (nullable = true)\n",
      " |-- downgraded: long (nullable = true)\n",
      " |-- session_songs: double (nullable = true)\n",
      " |-- daily_length: double (nullable = true)\n",
      " |-- daily_artists: double (nullable = true)\n",
      " |-- days_per_week: double (nullable = true)\n",
      " |-- days_since_reg: double (nullable = true)\n",
      " |-- rawPrediction: vector (nullable = true)\n",
      " |-- probability: vector (nullable = true)\n",
      " |-- prediction: double (nullable = false)\n",
      "\n"
     ]
    }
   ],
   "source": [
    "predictions.printSchema()"
   ]
  },
  {
   "cell_type": "code",
   "execution_count": 44,
   "metadata": {},
   "outputs": [
    {
     "data": {
      "text/plain": [
       "DataFrame[label: double, prediction: double, probability: vector]"
      ]
     },
     "metadata": {},
     "output_type": "display_data"
    }
   ],
   "source": [
    "selected = predictions.select(\"label\", \"prediction\", \"probability\")\n",
    "display(selected)"
   ]
  },
  {
   "cell_type": "code",
   "execution_count": 45,
   "metadata": {},
   "outputs": [
    {
     "name": "stdout",
     "output_type": "stream",
     "text": [
      "+-----+----------+--------------------+\n",
      "|label|prediction|         probability|\n",
      "+-----+----------+--------------------+\n",
      "|  0.0|       0.0|[0.99999991798214...|\n",
      "|  0.0|       0.0|[1.0,2.1937105220...|\n",
      "|  0.0|       1.0|[0.15198100181937...|\n",
      "|  1.0|       1.0|[1.07517385934541...|\n",
      "|  0.0|       0.0|[0.99999999999969...|\n",
      "|  1.0|       1.0|[3.94550777119982...|\n",
      "|  0.0|       0.0|[0.99999999999994...|\n",
      "|  0.0|       0.0|[0.99999999997421...|\n",
      "|  0.0|       0.0|[0.99999999999999...|\n",
      "|  0.0|       0.0|[0.99999999391470...|\n",
      "|  0.0|       0.0|[0.99999999999908...|\n",
      "|  0.0|       0.0|[0.99999999999999...|\n",
      "|  0.0|       0.0|[0.99999999999997...|\n",
      "|  0.0|       0.0|[0.99999999999786...|\n",
      "|  1.0|       1.0|[1.75164711840140...|\n",
      "|  1.0|       1.0|[1.71066070873187...|\n",
      "|  1.0|       1.0|[1.83634129890045...|\n",
      "|  0.0|       0.0|[0.99999999999999...|\n",
      "|  1.0|       1.0|[4.51187419976160...|\n",
      "|  0.0|       0.0|[0.99988582812903...|\n",
      "+-----+----------+--------------------+\n",
      "only showing top 20 rows\n",
      "\n"
     ]
    }
   ],
   "source": [
    "selected.show()"
   ]
  },
  {
   "cell_type": "code",
   "execution_count": 46,
   "metadata": {},
   "outputs": [
    {
     "data": {
      "text/plain": [
       "0.9979360165118679"
      ]
     },
     "execution_count": 46,
     "metadata": {},
     "output_type": "execute_result"
    }
   ],
   "source": [
    "from pyspark.ml.evaluation import BinaryClassificationEvaluator\n",
    "\n",
    "# Evaluate model\n",
    "evaluator = BinaryClassificationEvaluator()\n",
    "evaluator.evaluate(predictions)"
   ]
  },
  {
   "cell_type": "code",
   "execution_count": null,
   "metadata": {},
   "outputs": [],
   "source": []
  },
  {
   "cell_type": "markdown",
   "metadata": {},
   "source": [
    "### Train Naive Bayes classifer"
   ]
  },
  {
   "cell_type": "code",
   "execution_count": null,
   "metadata": {},
   "outputs": [],
   "source": []
  },
  {
   "cell_type": "markdown",
   "metadata": {},
   "source": [
    "# Final Steps\n",
    "Clean up your code, adding comments and renaming variables to make the code easier to read and maintain. Refer to the Spark Project Overview page and Data Scientist Capstone Project Rubric to make sure you are including all components of the capstone project and meet all expectations. Remember, this includes thorough documentation in a README file in a Github repository, as well as a web app or blog post."
   ]
  },
  {
   "cell_type": "code",
   "execution_count": null,
   "metadata": {},
   "outputs": [],
   "source": []
  },
  {
   "cell_type": "code",
   "execution_count": null,
   "metadata": {},
   "outputs": [],
   "source": []
  },
  {
   "cell_type": "markdown",
   "metadata": {},
   "source": [
    "## Discussion\n",
    "\n",
    "- Better features (median instead of mean)\n",
    "- Feature scaling\n",
    "- Performance improvements\n"
   ]
  },
  {
   "cell_type": "code",
   "execution_count": null,
   "metadata": {},
   "outputs": [],
   "source": []
  }
 ],
 "metadata": {
  "kernelspec": {
   "display_name": "Python 3",
   "language": "python",
   "name": "python3"
  },
  "language_info": {
   "codemirror_mode": {
    "name": "ipython",
    "version": 3
   },
   "file_extension": ".py",
   "mimetype": "text/x-python",
   "name": "python",
   "nbconvert_exporter": "python",
   "pygments_lexer": "ipython3",
   "version": "3.7.4"
  }
 },
 "nbformat": 4,
 "nbformat_minor": 4
}
